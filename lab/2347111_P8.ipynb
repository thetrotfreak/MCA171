{
 "cells": [
  {
   "cell_type": "code",
   "execution_count": 3,
   "metadata": {},
   "outputs": [],
   "source": [
    "import pandas as pd\n",
    "\n",
    "data = pd.read_csv(\"../dataset/goodreads_books.csv\")"
   ]
  },
  {
   "cell_type": "code",
   "execution_count": 4,
   "metadata": {},
   "outputs": [
    {
     "name": "stdout",
     "output_type": "stream",
     "text": [
      "            Book Id  average_rating        isbn13     num_pages  \\\n",
      "count  11127.000000    11127.000000  1.112700e+04  11127.000000   \n",
      "mean   21310.938887        3.933631  9.759888e+12    336.376921   \n",
      "std    13093.358023        0.352445  4.428964e+11    241.127305   \n",
      "min        1.000000        0.000000  8.987060e+09      0.000000   \n",
      "25%    10287.000000        3.770000  9.780345e+12    192.000000   \n",
      "50%    20287.000000        3.960000  9.780586e+12    299.000000   \n",
      "75%    32104.500000        4.135000  9.780873e+12    416.000000   \n",
      "max    45641.000000        5.000000  9.790008e+12   6576.000000   \n",
      "\n",
      "       ratings_count  text_reviews_count  \n",
      "count   1.112700e+04        11127.000000  \n",
      "mean    1.793641e+04          541.854498  \n",
      "std     1.124794e+05         2576.176608  \n",
      "min     0.000000e+00            0.000000  \n",
      "25%     1.040000e+02            9.000000  \n",
      "50%     7.450000e+02           46.000000  \n",
      "75%     4.993500e+03          237.500000  \n",
      "max     4.597666e+06        94265.000000  \n",
      "<class 'pandas.core.frame.DataFrame'>\n",
      "RangeIndex: 11127 entries, 0 to 11126\n",
      "Data columns (total 13 columns):\n",
      " #   Column              Non-Null Count  Dtype  \n",
      "---  ------              --------------  -----  \n",
      " 0   Book Id             11127 non-null  int64  \n",
      " 1   Title               11127 non-null  object \n",
      " 2   Author              11127 non-null  object \n",
      " 3   average_rating      11127 non-null  float64\n",
      " 4   isbn                11127 non-null  object \n",
      " 5   isbn13              11127 non-null  int64  \n",
      " 6   language_code       11127 non-null  object \n",
      " 7   num_pages           11127 non-null  int64  \n",
      " 8   ratings_count       11127 non-null  int64  \n",
      " 9   text_reviews_count  11127 non-null  int64  \n",
      " 10  publication_date    11127 non-null  object \n",
      " 11  publisher           11127 non-null  object \n",
      " 12  genres              11030 non-null  object \n",
      "dtypes: float64(1), int64(5), object(7)\n",
      "memory usage: 1.1+ MB\n",
      "None\n",
      "(11127, 13)\n"
     ]
    }
   ],
   "source": [
    "print(data.describe())\n",
    "print(data.info())\n",
    "print(data.shape)"
   ]
  },
  {
   "cell_type": "code",
   "execution_count": 8,
   "metadata": {},
   "outputs": [
    {
     "name": "stdout",
     "output_type": "stream",
     "text": [
      "<pandas.core.groupby.generic.DataFrameGroupBy object at 0x7fa335a7fdf0>\n"
     ]
    }
   ],
   "source": [
    "print(data.groupby(by='average_rating'))"
   ]
  }
 ],
 "metadata": {
  "kernelspec": {
   "display_name": "venv",
   "language": "python",
   "name": "python3"
  },
  "language_info": {
   "codemirror_mode": {
    "name": "ipython",
    "version": 3
   },
   "file_extension": ".py",
   "mimetype": "text/x-python",
   "name": "python",
   "nbconvert_exporter": "python",
   "pygments_lexer": "ipython3",
   "version": "3.10.12"
  },
  "orig_nbformat": 4
 },
 "nbformat": 4,
 "nbformat_minor": 2
}
