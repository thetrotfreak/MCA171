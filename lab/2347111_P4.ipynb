{
 "cells": [
  {
   "cell_type": "markdown",
   "metadata": {},
   "source": [
    "# P3"
   ]
  },
  {
   "cell_type": "code",
   "execution_count": 7,
   "metadata": {},
   "outputs": [
    {
     "name": "stdout",
     "output_type": "stream",
     "text": [
      "['1000000001001000', '0100000001101001']\n",
      "None\n",
      "['1000000001000010', '0100000001101001', '0010000001110110', '0001000001100001', '0000100001110011']\n"
     ]
    }
   ],
   "source": [
    "import P3_2347111 as libqr\n",
    "\n",
    "print(libqr.EncodeQR(\"Hi\"))\n",
    "\n",
    "print(libqr.EncodeQR(\"\"))\n",
    "\n",
    "print(libqr.EncodeQR(\"Bivas\"))"
   ]
  },
  {
   "cell_type": "markdown",
   "metadata": {},
   "source": [
    "# P4"
   ]
  },
  {
   "cell_type": "code",
   "execution_count": 15,
   "metadata": {},
   "outputs": [
    {
     "name": "stdout",
     "output_type": "stream",
     "text": [
      "We've 3 staff members\n",
      "John\n",
      "Jane\n",
      "Bryan\n"
     ]
    }
   ],
   "source": [
    "# def simple_intereset(principal: float, years: int, rate: float):\n",
    "#     return (principal * rate * years) / 100\n",
    "\n",
    "\n",
    "class Book:\n",
    "    \"\"\"A Book class\"\"\"\n",
    "\n",
    "    __currency = \"\\u20B9\"\n",
    "\n",
    "    def __init__(self, title: str, author: [str], price: float) -> None:\n",
    "        self.title = title\n",
    "        self.author = author\n",
    "        self.price = price\n",
    "        self.copy = 1\n",
    "\n",
    "    def setcopy(self, copy: int):\n",
    "        self.copy = copy\n",
    "\n",
    "    def __format_author(self):\n",
    "        \"\"\"\n",
    "        Return the author name(s) formatted as a comma separated string\n",
    "        \"\"\"\n",
    "        return \", \".join(self.author)\n",
    "\n",
    "    def __format_price(self):\n",
    "        \"\"\"\n",
    "        Return the price formatted as Currency Value.\n",
    "        Default currency is INR\n",
    "\n",
    "        Like ₹100.0\n",
    "        \"\"\"\n",
    "        return f\"{Book.__currency}{self.price}\"\n",
    "\n",
    "    def __str__(self) -> str:\n",
    "        return f\"---BOOK---\\n{self.title}\\n~ {self.__format_author()}\\n{self.__format_price()}\\n\"\n",
    "\n",
    "\n",
    "class Phone:\n",
    "    \"A Phone class\"\n",
    "\n",
    "    def __init__(self, phone: str) -> None:\n",
    "        self.phone = None\n",
    "        self.__phone = phone\n",
    "        if self.isvalid():\n",
    "            self.phone = int(phone)\n",
    "\n",
    "    def isvalid(self) -> bool:\n",
    "        return len(self.__phone) == 10 and not self.__phone.startswith(\"0\")\n",
    "\n",
    "\n",
    "class Person:\n",
    "    \"\"\"Base class for a person\"\"\"\n",
    "\n",
    "    def __init__(self, name: str) -> None:\n",
    "        self.name = name\n",
    "\n",
    "    def __str__(self) -> str:\n",
    "        return f\"{self.name}\"\n",
    "\n",
    "\n",
    "class ManagementSystem:\n",
    "    def __init__(self, staff: [Person] = []) -> None:\n",
    "        self.staff = staff\n",
    "\n",
    "    def add_staff(self, person: Person) -> None:\n",
    "        self.staff.append(person)\n",
    "\n",
    "    def remove_staff(self, person: Person):\n",
    "        # TODO: Add error handling\n",
    "        # as List.remove() throws ValueError\n",
    "        self.staff.remove(person)\n",
    "\n",
    "\n",
    "class LibraryManagementSystem(ManagementSystem):\n",
    "    \"A class for Library Management Syste,\"\n",
    "\n",
    "    def __init__(self, name: str, address: str, phone: Phone) -> None:\n",
    "        super().__init__()\n",
    "        self.name = name\n",
    "        self.address = address\n",
    "        self.phone = phone\n",
    "\n",
    "    def staff_count(self):\n",
    "        print(f\"We've {len(self.staff)} staff members\")\n",
    "\n",
    "    def staff_info(self):\n",
    "        for staff in self.staff:\n",
    "            print(staff)\n",
    "\n",
    "    def add_staff(self, person: Person) -> None:\n",
    "        return self.staff.append(person)\n",
    "\n",
    "\n",
    "ms = ManagementSystem([Person(\"Bivas\"), Person(\"Rohit\"), Person(\"Kenneth\")])\n",
    "ms.add_staff(Person(\"Hrishabh\"))\n",
    "\n",
    "\n",
    "lms = LibraryManagementSystem(\"Enreads\", \"S.G. Palya, Bengaluru\", Phone(\"1234567890\"))\n",
    "lms.add_staff(Person(\"John\"))\n",
    "lms.add_staff(Person(\"Jane\"))\n",
    "lms.add_staff(Person(\"Bryan\"))\n",
    "lms.staff_count()\n",
    "lms.staff_info()"
   ]
  }
 ],
 "metadata": {
  "kernelspec": {
   "display_name": ".venv",
   "language": "python",
   "name": "python3"
  },
  "language_info": {
   "codemirror_mode": {
    "name": "ipython",
    "version": 3
   },
   "file_extension": ".py",
   "mimetype": "text/x-python",
   "name": "python",
   "nbconvert_exporter": "python",
   "pygments_lexer": "ipython3",
   "version": "3.10.12"
  },
  "orig_nbformat": 4
 },
 "nbformat": 4,
 "nbformat_minor": 2
}
