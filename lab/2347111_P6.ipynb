{
 "cells": [
  {
   "cell_type": "markdown",
   "metadata": {},
   "source": [
    "# Regular Lab Questions 6"
   ]
  },
  {
   "cell_type": "code",
   "execution_count": 1,
   "metadata": {},
   "outputs": [
    {
     "name": "stdout",
     "output_type": "stream",
     "text": [
      "All OK!\n",
      "All OK!\n",
      "All OK!\n",
      "All OK!\n",
      "All OK!\n",
      "All OK!\n"
     ]
    }
   ],
   "source": [
    "import re\n",
    "\n",
    "patterns = {\n",
    "    \"name\": re.compile(r\"^[A-Za-z\\s.]+$\"),\n",
    "    \"register\": re.compile(r\"\\d{7}\"),\n",
    "    \"phone\": re.compile(r\"[1-9]{1}\\d{9}\"),\n",
    "    \"email\": re.compile(r\"^[a-zA-Z0-9._%+-]+@[a-zA-Z0-9.-]+\\.[a-zA-Z]{2,}$\"),\n",
    "    \"dob\": re.compile(r\"\\d{2}/{1}\\d{2}/{1}\\d{4}\"),\n",
    "    \"payment\": re.compile(r\"UPI|Debit|Cash\", re.IGNORECASE),\n",
    "}\n",
    "\n",
    "\n",
    "def naivevalidation(search_in: str, *, key: str) -> bool:\n",
    "    if patterns.get(key) is None:\n",
    "        return False, \"\"\n",
    "\n",
    "    match = patterns[key].match(search_in)\n",
    "\n",
    "    if match is None:\n",
    "        return False, key\n",
    "\n",
    "    return True, key\n",
    "\n",
    "\n",
    "if __name__ == \"__main__\":\n",
    "    user_details = []\n",
    "    while True:\n",
    "        name = input(\"Name? \")\n",
    "        register = input(\"Register? \")\n",
    "        phone = input(\"Phone? \")\n",
    "        email = input(\"Email? \")\n",
    "        dob = input(\"Date of birth (dd/mm/yyyy)? \")\n",
    "        payment = input(\"Payment Option (Cash/Debit/UPI)? \")\n",
    "        submit = input(\"Submit (Y/n)? \")\n",
    "        if submit.casefold() == \"Y\".casefold():\n",
    "            user_details.append(name)\n",
    "            user_details.append(register)\n",
    "            user_details.append(phone)\n",
    "            user_details.append(email)\n",
    "            user_details.append(dob)\n",
    "            user_details.append(payment)\n",
    "            user_details.append(submit)\n",
    "            break\n",
    "    for attr, key in zip(user_details, patterns.keys()):\n",
    "        res, wrong_value_of = naivevalidation(attr, key=key)\n",
    "        if res is False:\n",
    "            print(\"Please check your\", wrong_value_of)\n",
    "        else:\n",
    "            print(\"All OK!\")"
   ]
  }
 ],
 "metadata": {
  "kernelspec": {
   "display_name": "venv",
   "language": "python",
   "name": "python3"
  },
  "language_info": {
   "codemirror_mode": {
    "name": "ipython",
    "version": 3
   },
   "file_extension": ".py",
   "mimetype": "text/x-python",
   "name": "python",
   "nbconvert_exporter": "python",
   "pygments_lexer": "ipython3",
   "version": "3.10.12"
  },
  "orig_nbformat": 4
 },
 "nbformat": 4,
 "nbformat_minor": 2
}
