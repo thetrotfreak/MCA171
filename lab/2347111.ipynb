{
 "cells": [
  {
   "cell_type": "markdown",
   "metadata": {},
   "source": [
    "# Regular Lab Questions 2"
   ]
  },
  {
   "cell_type": "markdown",
   "metadata": {},
   "source": [
    "# Q2.1"
   ]
  },
  {
   "cell_type": "code",
   "execution_count": 1,
   "metadata": {},
   "outputs": [
    {
     "name": "stdout",
     "output_type": "stream",
     "text": [
      "employee_pay_list=[61154, 62834, 52207, 65178, 61076, 54290, 67170]\n"
     ]
    }
   ],
   "source": [
    "from random import randint, choices\n",
    "\n",
    "employee_pay_list = [\n",
    "    pay for pay in choices(range(randint(33_000, 45_000), randint(50_000, 75_000)), k=7)\n",
    "]\n",
    "\n",
    "print(f\"{employee_pay_list=}\")"
   ]
  },
  {
   "cell_type": "markdown",
   "metadata": {},
   "source": [
    "> Is the given list divisible by 3 or NOT?"
   ]
  },
  {
   "cell_type": "code",
   "execution_count": 2,
   "metadata": {},
   "outputs": [
    {
     "name": "stdout",
     "output_type": "stream",
     "text": [
      "The employee pay list is not divisible by 3\n"
     ]
    }
   ],
   "source": [
    "divisble_by_3_pay_list = [pay for pay in employee_pay_list if pay % 3 != 0]\n",
    "\n",
    "if len(employee_pay_list) == len(divisble_by_3_pay_list):\n",
    "    print(\"The employee pay list is divisible by 3\")\n",
    "else:\n",
    "    print(\"The employee pay list is not divisible by 3\")"
   ]
  },
  {
   "cell_type": "markdown",
   "metadata": {},
   "source": [
    "> Square of even numbers in a list"
   ]
  },
  {
   "cell_type": "code",
   "execution_count": 3,
   "metadata": {},
   "outputs": [
    {
     "name": "stdout",
     "output_type": "stream",
     "text": [
      "[3739811716, 3948111556, 4248171684, 3730277776, 2947404100, 4511808900]\n"
     ]
    }
   ],
   "source": [
    "square_of_even_pay = [pay**2 for pay in employee_pay_list if pay % 2 == 0]\n",
    "\n",
    "print(square_of_even_pay)"
   ]
  },
  {
   "cell_type": "markdown",
   "metadata": {},
   "source": [
    "> Sum of digits of all EVEN numbers in a list"
   ]
  },
  {
   "cell_type": "code",
   "execution_count": 4,
   "metadata": {},
   "outputs": [
    {
     "name": "stdout",
     "output_type": "stream",
     "text": [
      "[17, 23, 27, 20, 20, 21]\n"
     ]
    }
   ],
   "source": [
    "def digit_summation(n: int):\n",
    "    sum = 0\n",
    "    while n != 0:\n",
    "        digit = n % 10\n",
    "        n = n // 10\n",
    "        sum += digit\n",
    "    return sum\n",
    "\n",
    "\n",
    "# to test for whether the number, n is Even or Not\n",
    "isEven = lambda n: n % 2 == 0\n",
    "\n",
    "sumOfDigitsOfEvenNumbers = [\n",
    "    digit_summation(pay) for pay in employee_pay_list if isEven(pay)\n",
    "]\n",
    "\n",
    "print(sumOfDigitsOfEvenNumbers)"
   ]
  },
  {
   "cell_type": "markdown",
   "metadata": {},
   "source": [
    "> Remove duplicate numbers in a list"
   ]
  },
  {
   "cell_type": "code",
   "execution_count": 5,
   "metadata": {},
   "outputs": [
    {
     "name": "stdout",
     "output_type": "stream",
     "text": [
      "[61154, 62834, 52207, 65178, 61076, 54290, 67170]\n"
     ]
    }
   ],
   "source": [
    "unique_pays = []\n",
    "\n",
    "[unique_pays.append(pay) for pay in employee_pay_list if pay not in unique_pays]\n",
    "\n",
    "print(unique_pays)"
   ]
  },
  {
   "cell_type": "markdown",
   "metadata": {},
   "source": [
    "# Q2.2"
   ]
  },
  {
   "cell_type": "code",
   "execution_count": 6,
   "metadata": {},
   "outputs": [
    {
     "data": {
      "text/plain": [
       "'04 November 2001'"
      ]
     },
     "execution_count": 6,
     "metadata": {},
     "output_type": "execute_result"
    }
   ],
   "source": [
    "employees = {\n",
    "    \"Kenneth Fernandes Dominic\": \"12 July 2002\",\n",
    "    \"Nitish Kumar Mahto\": \"23 April 2001\",\n",
    "    \"Bivas Kumar\": \"04 November 2001\",\n",
    "    \"Rohit Tank\": \"26 December 2002\",\n",
    "    \"Hrishabh Gautam\": \"01 September 2001\",\n",
    "}\n",
    "\n",
    "\n",
    "def birthDate(employee_name: str):\n",
    "    return employees.get(employee_name)\n",
    "\n",
    "\n",
    "# Test Case\n",
    "birthDate(\"\")\n",
    "birthDate(\"Invalid Name\")\n",
    "birthDate(\"Bivas Kumar\")"
   ]
  }
 ],
 "metadata": {
  "kernelspec": {
   "display_name": ".venv",
   "language": "python",
   "name": "python3"
  },
  "language_info": {
   "codemirror_mode": {
    "name": "ipython",
    "version": 3
   },
   "file_extension": ".py",
   "mimetype": "text/x-python",
   "name": "python",
   "nbconvert_exporter": "python",
   "pygments_lexer": "ipython3",
   "version": "3.10.12"
  },
  "orig_nbformat": 4
 },
 "nbformat": 4,
 "nbformat_minor": 2
}
