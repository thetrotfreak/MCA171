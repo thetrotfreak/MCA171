{
 "cells": [
  {
   "cell_type": "markdown",
   "metadata": {},
   "source": [
    "# Regular Lab Questions 1"
   ]
  },
  {
   "cell_type": "markdown",
   "metadata": {
    "id": "4ejyGiCkIm0e"
   },
   "source": [
    "# Q1.1.a"
   ]
  },
  {
   "cell_type": "code",
   "execution_count": 1,
   "metadata": {
    "colab": {
     "base_uri": "https://localhost:8080/"
    },
    "id": "W79TqGzrJART",
    "outputId": "d5a0a61f-a828-4672-ec27-6a1cc83bd217"
   },
   "outputs": [
    {
     "name": "stdout",
     "output_type": "stream",
     "text": [
      "Frequency of the domain ' Library Mangement System ' is 1\n",
      "Found 614 character(s) , 98 word(s) and 2 line(s)\n",
      "The domain ' Library Mangement System ' when alphabetically arranged becomes   aabeeegiLMmmnnrrSsttyy\n"
     ]
    }
   ],
   "source": [
    "domain_name = \"Library Mangement System\"\n",
    "\n",
    "paragraph_on_domain = f\"A {domain_name} is a software that helps take the load \\\n",
    "off librarians and other library users. It does so by enabling them to \\\n",
    "digitally manage, organize and access the resources of a library like books, \\\n",
    "e-books, articles, journals, research papers, and such. It couples these along \\\n",
    "with OPAC, an Online Public Access Catalog allowing users to search for the \\\n",
    "resources in an efficient manner like filtering, sorting, etc.\\nAll of these \\\n",
    "and more elevate the efficiency and thereby the productivity of the librarians \\\n",
    "whilst simultaneously improving the user experince by bringing all of these on \\\n",
    "their palm.\"\n",
    "\n",
    "domain_frequency = paragraph_on_domain.count(domain_name)\n",
    "character_count = len(paragraph_on_domain)\n",
    "word_count = len(paragraph_on_domain.split(sep=\" \"))\n",
    "line_count = len(paragraph_on_domain.splitlines())\n",
    "\n",
    "print(\"Frequency of the domain\", \"'\", domain_name, \"'\", \"is\", domain_frequency)\n",
    "print(\n",
    "    \"Found\",\n",
    "    character_count,\n",
    "    \"character(s)\",\n",
    "    \",\",\n",
    "    word_count,\n",
    "    \"word(s)\",\n",
    "    \"and\",\n",
    "    line_count,\n",
    "    \"line(s)\",\n",
    ")\n",
    "print(\n",
    "    \"The domain\",\n",
    "    \"'\",\n",
    "    domain_name,\n",
    "    \"'\",\n",
    "    \"when alphabetically arranged becomes\",\n",
    "    \"\".join(sorted(domain_name, key=str.casefold)),\n",
    ")"
   ]
  },
  {
   "cell_type": "markdown",
   "metadata": {
    "id": "Sc3Jc9fvMMds"
   },
   "source": [
    "# Q1.1.b"
   ]
  },
  {
   "cell_type": "code",
   "execution_count": 2,
   "metadata": {
    "colab": {
     "base_uri": "https://localhost:8080/"
    },
    "id": "LMXhqDumMPPE",
    "outputId": "fc50add0-0fde-45da-ea51-dc16074c244f"
   },
   "outputs": [
    {
     "name": "stdout",
     "output_type": "stream",
     "text": [
      "Oleudu|#Pdqjhphqw#V|vwhp\n"
     ]
    }
   ],
   "source": [
    "n = int(input(\"A number to add to each alphabet, n = \"))\n",
    "encrypted_characters = []\n",
    "for character in domain_name:\n",
    "    encrypted_characters.append(chr(ord(character) + n))\n",
    "\n",
    "print(\"\".join(encrypted_characters))"
   ]
  },
  {
   "cell_type": "markdown",
   "metadata": {
    "id": "qYPJDjHokG7P"
   },
   "source": [
    "# 2"
   ]
  },
  {
   "cell_type": "code",
   "execution_count": 3,
   "metadata": {
    "colab": {
     "base_uri": "https://localhost:8080/"
    },
    "id": "qx-_W22ekOEN",
    "outputId": "7c5d9f86-c881-4898-ad11-95e894d9fb2d"
   },
   "outputs": [
    {
     "name": "stdout",
     "output_type": "stream",
     "text": [
      "350\n",
      "475.0\n"
     ]
    }
   ],
   "source": [
    "def pay(hourly_wage, week_work_hours):\n",
    "    overtime_hours_threshold = 40\n",
    "    overtime_hours_pay_factor = 1.5\n",
    "\n",
    "    if week_work_hours > overtime_hours_threshold:\n",
    "        overtime_hours = week_work_hours - overtime_hours_threshold\n",
    "        overtime_wage = hourly_wage * overtime_hours_pay_factor\n",
    "        return ((week_work_hours - overtime_hours) * hourly_wage) + (\n",
    "            overtime_hours * overtime_wage\n",
    "        )\n",
    "    else:\n",
    "        return week_work_hours * hourly_wage\n",
    "\n",
    "\n",
    "# Test Case\n",
    "print(pay(10, 35))\n",
    "print(pay(10, 45))"
   ]
  },
  {
   "cell_type": "markdown",
   "metadata": {
    "id": "k5JRpNAPoBfN"
   },
   "source": [
    "# 3.a"
   ]
  },
  {
   "cell_type": "code",
   "execution_count": 4,
   "metadata": {
    "colab": {
     "base_uri": "https://localhost:8080/"
    },
    "id": "h2b9sjEInXAi",
    "outputId": "d64dc996-703f-441e-9e97-f76eddd5da9b"
   },
   "outputs": [
    {
     "name": "stdout",
     "output_type": "stream",
     "text": [
      "Sorted in ascending order by number of copies\n",
      "[Book(name='Discrete Mathematics and Its Applications', copies=100, price=876.0), Book(name='Databse System Concepts', copies=175, price=849.0), Book(name='The C Programming Language', copies=350, price=440.0), Book(name='Java The Complete Reference', copies=500, price=1200.0)]\n"
     ]
    }
   ],
   "source": [
    "from collections import namedtuple\n",
    "from operator import attrgetter\n",
    "\n",
    "Book = namedtuple(\"Book\", (\"name\", \"copies\", \"price\"))\n",
    "\n",
    "computer_science_books = [\n",
    "    Book(name=\"The C Programming Language\", copies=350, price=440.00),\n",
    "    Book(name=\"Java The Complete Reference\", copies=500, price=1200.00),\n",
    "    Book(name=\"Databse System Concepts\", copies=175, price=849.00),\n",
    "    Book(name=\"Discrete Mathematics and Its Applications\", copies=100, price=876.00),\n",
    "]\n",
    "\n",
    "print(\n",
    "    \"Sorted in ascending order by number of copies\",\n",
    "    sorted(computer_science_books, key=attrgetter(\"copies\")),\n",
    "    sep=\"\\n\",\n",
    ")"
   ]
  },
  {
   "cell_type": "markdown",
   "metadata": {
    "id": "CJ1ykhC8oGm0"
   },
   "source": [
    "# 3.b"
   ]
  },
  {
   "cell_type": "code",
   "execution_count": 5,
   "metadata": {
    "colab": {
     "base_uri": "https://localhost:8080/"
    },
    "id": "zwCyxaGwoIb3",
    "outputId": "11aebc1e-a05a-484b-f270-800eeaefea3d"
   },
   "outputs": [
    {
     "name": "stdout",
     "output_type": "stream",
     "text": [
      "Sorted in descending order by price\n",
      "[Book(name='Java The Complete Reference', copies=500, price=1200.0), Book(name='Discrete Mathematics and Its Applications', copies=100, price=876.0), Book(name='Databse System Concepts', copies=175, price=849.0), Book(name='The C Programming Language', copies=350, price=440.0)]\n"
     ]
    }
   ],
   "source": [
    "print(\n",
    "    \"Sorted in descending order by price\",\n",
    "    sorted(computer_science_books, key=attrgetter(\"price\"), reverse=True),\n",
    "    sep=\"\\n\",\n",
    ")"
   ]
  },
  {
   "cell_type": "markdown",
   "metadata": {
    "id": "nZX7wOSjoI3q"
   },
   "source": [
    "# 3.c"
   ]
  },
  {
   "cell_type": "code",
   "execution_count": 6,
   "metadata": {
    "colab": {
     "base_uri": "https://localhost:8080/"
    },
    "id": "4XMu6o-toKfo",
    "outputId": "cb556c1e-53b5-4109-ab95-91e077b872e7"
   },
   "outputs": [
    {
     "name": "stdout",
     "output_type": "stream",
     "text": [
      "Sorted alphabetically by name\n",
      "[Book(name='Databse System Concepts', copies=175, price=849.0), Book(name='Discrete Mathematics and Its Applications', copies=100, price=876.0), Book(name='Java The Complete Reference', copies=500, price=1200.0), Book(name='The C Programming Language', copies=350, price=440.0)]\n"
     ]
    }
   ],
   "source": [
    "print(\n",
    "    \"Sorted alphabetically by name\",\n",
    "    sorted(computer_science_books, key=attrgetter(\"name\")),\n",
    "    sep=\"\\n\",\n",
    ")"
   ]
  }
 ],
 "metadata": {
  "colab": {
   "cell_execution_strategy": "setup",
   "gpuType": "T4",
   "provenance": []
  },
  "kernelspec": {
   "display_name": "Python 3",
   "name": "python3"
  },
  "language_info": {
   "codemirror_mode": {
    "name": "ipython",
    "version": 3
   },
   "file_extension": ".py",
   "mimetype": "text/x-python",
   "name": "python",
   "nbconvert_exporter": "python",
   "pygments_lexer": "ipython3",
   "version": "3.10.12"
  }
 },
 "nbformat": 4,
 "nbformat_minor": 0
}
