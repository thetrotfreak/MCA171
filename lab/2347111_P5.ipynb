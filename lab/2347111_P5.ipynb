{
 "cells": [
  {
   "cell_type": "markdown",
   "metadata": {},
   "source": [
    "# Regular Lab Questions 5"
   ]
  },
  {
   "cell_type": "code",
   "execution_count": 1,
   "metadata": {},
   "outputs": [
    {
     "name": "stdout",
     "output_type": "stream",
     "text": [
      "Please enter your DOB in the required format only; dd/mm/yyyy\n",
      "Please enter your DOB in the required format only; dd/mm/yyyy\n",
      "You are 21 years old\n"
     ]
    }
   ],
   "source": [
    "from datetime import date\n",
    "\n",
    "dob_prompt = \"Your DOB (dd/mm/yyy)? \"\n",
    "dob_fmt = \"dd/mm/yyyy\"\n",
    "dob_sep = \"/\"\n",
    "dob_help_prompt = f\"Please enter your DOB in the required format only; {dob_fmt}\"\n",
    "dob_quit_prompt = \"Bye! Hope you run this program again\"\n",
    "\n",
    "\n",
    "def getAgeInYears(dob: date) -> int:\n",
    "    return (date.today() - dob).days // 365\n",
    "\n",
    "\n",
    "def wantsHelp(string: str) -> bool:\n",
    "    return string.casefold() == \"?\"\n",
    "\n",
    "\n",
    "def wantsToQuit(string: str) -> bool:\n",
    "    return string.casefold() == \"Q\".casefold()\n",
    "\n",
    "\n",
    "while True:\n",
    "    dob = input(dob_prompt)\n",
    "\n",
    "    if not dob:\n",
    "        continue\n",
    "    elif wantsHelp(dob):\n",
    "        print(dob_help_prompt)\n",
    "        continue\n",
    "    elif wantsToQuit(dob):\n",
    "        print(dob_quit_prompt)\n",
    "        break\n",
    "    else:\n",
    "        try:\n",
    "            dd, mm, yyyy = dob.split(dob_sep, maxsplit=3)\n",
    "            dob = date(day=int(dd), month=int(mm), year=int(yyyy))\n",
    "\n",
    "        except IndexError:\n",
    "            print(dob_help_prompt)\n",
    "            continue\n",
    "        except ValueError:\n",
    "            print(dob_help_prompt)\n",
    "            continue\n",
    "        else:\n",
    "            print(\"You are\", getAgeInYears(dob), \"years old\")\n",
    "            break\n"
   ]
  }
 ],
 "metadata": {
  "kernelspec": {
   "display_name": ".venv",
   "language": "python",
   "name": "python3"
  },
  "language_info": {
   "codemirror_mode": {
    "name": "ipython",
    "version": 3
   },
   "file_extension": ".py",
   "mimetype": "text/x-python",
   "name": "python",
   "nbconvert_exporter": "python",
   "pygments_lexer": "ipython3",
   "version": "3.10.12"
  },
  "orig_nbformat": 4
 },
 "nbformat": 4,
 "nbformat_minor": 2
}
