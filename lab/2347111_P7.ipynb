{
 "cells": [
  {
   "cell_type": "markdown",
   "metadata": {},
   "source": [
    "# Regular Lab Questions 7"
   ]
  },
  {
   "cell_type": "code",
   "execution_count": 153,
   "metadata": {},
   "outputs": [
    {
     "name": "stdout",
     "output_type": "stream",
     "text": [
      "[(1000, 'Torbati', 'Yolanda', 'F', 'Programmer')\n",
      " (1001, 'Kleinn', 'Joel', 'M', 'Programmer')\n",
      " (1002, 'Ginsburg', 'Laura', 'F', 'President')\n",
      " (1003, 'Cox', 'Jennifer', 'F', 'Programmer')\n",
      " (1005, 'Ziada', 'Mauri', 'M', 'Product Designer')\n",
      " (1006, 'Keyser', 'Cara', 'F', 'Account Executive')\n",
      " (1010, 'Smith', 'Roxie', 'M', 'Programmer')\n",
      " (1011, 'Neslon', 'Robert', 'M', 'Programmer')\n",
      " (1012, 'Sachsen', 'Lars', 'M', 'Support Technician')\n",
      " (1013, 'Shannon', 'Don', 'M', 'Product Designer')]\n"
     ]
    }
   ],
   "source": [
    "import numpy as np\n",
    "\n",
    "employee_struct = np.dtype(\n",
    "    [\n",
    "        (\"Emp_Id\", np.uint16),\n",
    "        (\"Last_Name\", np.unicode_, 32),\n",
    "        (\"First_Name\", np.unicode_, 32),\n",
    "        (\"Gender\", np.unicode_, 1),\n",
    "        (\"Title\", np.unicode_, 32),\n",
    "    ]\n",
    ")\n",
    "\n",
    "employees = np.array(\n",
    "    [\n",
    "        (1000, \"Torbati\", \"Yolanda\", \"F\", \"Programmer\"),\n",
    "        (1001, \"Kleinn\", \"Joel\", \"M\", \"Programmer\"),\n",
    "        (1002, \"Ginsburg\", \"Laura\", \"F\", \"President\"),\n",
    "        (1003, \"Cox\", \"Jennifer\", \"F\", \"Programmer\"),\n",
    "        (1005, \"Ziada\", \"Mauri\", \"M\", \"Product Designer\"),\n",
    "        (1006, \"Keyser\", \"Cara\", \"F\", \"Account Executive\"),\n",
    "        (1010, \"Smith\", \"Roxie\", \"M\", \"Programmer\"),\n",
    "        (1011, \"Neslon\", \"Robert\", \"M\", \"Programmer\"),\n",
    "        (1012, \"Sachsen\", \"Lars\", \"M\", \"Support Technician\"),\n",
    "        (1013, \"Shannon\", \"Don\", \"M\", \"Product Designer\"),\n",
    "    ],\n",
    "    dtype=employee_struct,\n",
    ")\n",
    "\n",
    "print(employees)"
   ]
  },
  {
   "cell_type": "markdown",
   "metadata": {},
   "source": [
    "## 1"
   ]
  },
  {
   "cell_type": "code",
   "execution_count": 58,
   "metadata": {},
   "outputs": [
    {
     "name": "stdout",
     "output_type": "stream",
     "text": [
      "6\n"
     ]
    }
   ],
   "source": [
    "print(np.count_nonzero(employees[\"Gender\"] == \"M\", axis=0))"
   ]
  },
  {
   "cell_type": "markdown",
   "metadata": {},
   "source": [
    "## 2"
   ]
  },
  {
   "cell_type": "code",
   "execution_count": 59,
   "metadata": {},
   "outputs": [
    {
     "name": "stdout",
     "output_type": "stream",
     "text": [
      "[(1010, 'Smith', 'Roxie', 'M', 'Programmer')\n",
      " (1012, 'Sachsen', 'Lars', 'M', 'Support Technician')\n",
      " (1013, 'Shannon', 'Don', 'M', 'Product Designer')]\n"
     ]
    }
   ],
   "source": [
    "print(employees[np.char.startswith(employees[\"Last_Name\"], \"S\")])"
   ]
  },
  {
   "cell_type": "markdown",
   "metadata": {},
   "source": [
    "## 3"
   ]
  },
  {
   "cell_type": "code",
   "execution_count": 60,
   "metadata": {},
   "outputs": [
    {
     "name": "stdout",
     "output_type": "stream",
     "text": [
      "[(1000, 'Torbati', 'Yolanda', 'F', 'Programmer')\n",
      " (1002, 'Ginsburg', 'Laura', 'F', 'President')\n",
      " (1003, 'Cox', 'Jennifer', 'F', 'Programmer')\n",
      " (1006, 'Keyser', 'Cara', 'F', 'Account Executive')]\n"
     ]
    }
   ],
   "source": [
    "female_employess = employees[np.where(employees[\"Gender\"] == \"F\")]\n",
    "\n",
    "print(np.sort(female_employess, order=\"First_Name\")[::-1])"
   ]
  },
  {
   "cell_type": "markdown",
   "metadata": {},
   "source": [
    "## 4"
   ]
  },
  {
   "cell_type": "code",
   "execution_count": 161,
   "metadata": {},
   "outputs": [
    {
     "name": "stdout",
     "output_type": "stream",
     "text": [
      "[[(1000, 'Torbati', 'Yolanda', 'F', 'Programmer')]\n",
      " [(1001, 'Kleinn', 'Joel', 'M', 'Programmer')]\n",
      " [(1002, 'Ginsburg', 'Laura', 'F', 'President')]\n",
      " [(1003, 'Cox', 'Jennifer', 'F', 'Programmer')]\n",
      " [(1005, 'Ziada', 'Mauri', 'M', 'Product Designer')]\n",
      " [(1006, 'Keyser', 'Cara', 'F', 'Account Executive')]\n",
      " [(1010, 'Smith', 'Roxie', 'M', 'Programmer')]\n",
      " [(1011, 'Neslon', 'Robert', 'M', 'Programmer')]\n",
      " [(1012, 'Sachsen', 'Lars', 'M', 'Support Technician')]\n",
      " [(1013, 'Shannon', 'Don', 'M', 'Product Designer')]]\n"
     ]
    }
   ],
   "source": [
    "employees_2d = np.reshape(employees, (10, -1))\n",
    "\n",
    "print(employees_2d)"
   ]
  },
  {
   "cell_type": "markdown",
   "metadata": {},
   "source": [
    "## 5"
   ]
  },
  {
   "cell_type": "code",
   "execution_count": 164,
   "metadata": {},
   "outputs": [
    {
     "name": "stdout",
     "output_type": "stream",
     "text": [
      "[(1002, 'Ginsburg', 'Laura', 'F', 'President')\n",
      " (1003, 'Cox', 'Jennifer', 'F', 'Programmer')\n",
      " (1005, 'Ziada', 'Mauri', 'M', 'Product Designer')\n",
      " (1006, 'Keyser', 'Cara', 'F', 'Account Executive')\n",
      " (1010, 'Smith', 'Roxie', 'M', 'Programmer')\n",
      " (1011, 'Neslon', 'Robert', 'M', 'Programmer')\n",
      " (1012, 'Sachsen', 'Lars', 'M', 'Support Technician')]\n"
     ]
    }
   ],
   "source": [
    "print(employees[2:-1,])"
   ]
  }
 ],
 "metadata": {
  "kernelspec": {
   "display_name": "venv",
   "language": "python",
   "name": "python3"
  },
  "language_info": {
   "codemirror_mode": {
    "name": "ipython",
    "version": 3
   },
   "file_extension": ".py",
   "mimetype": "text/x-python",
   "name": "python",
   "nbconvert_exporter": "python",
   "pygments_lexer": "ipython3",
   "version": "3.10.12"
  },
  "orig_nbformat": 4
 },
 "nbformat": 4,
 "nbformat_minor": 2
}
