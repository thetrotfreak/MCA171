{
 "cells": [
  {
   "cell_type": "markdown",
   "metadata": {},
   "source": [
    "# 26 July 2023\n"
   ]
  },
  {
   "cell_type": "code",
   "execution_count": null,
   "metadata": {},
   "outputs": [],
   "source": [
    "print(1 + 3 * 2 - 5 + 4)\n",
    "print(1 + 3 * (2 - 5) + 4)\n",
    "print(5**2**2 * 3 + 1)\n",
    "print(5 ** (2**2) * 3 + 1)\n",
    "print(1 + 3 / 2)"
   ]
  },
  {
   "cell_type": "code",
   "execution_count": null,
   "metadata": {},
   "outputs": [],
   "source": [
    "import math\n",
    "\n",
    "print(math.pow(10, 5))\n",
    "print(math.sqrt(10))\n",
    "\n",
    "a = 1\n",
    "b = -7\n",
    "c = 10\n",
    "x1 = ((-1 * b) - (math.sqrt(math.pow(b, 2) - (4 * a * c)))) / (2 * a)\n",
    "x2 = ((-1 * b) + (math.sqrt(math.pow(b, 2) - (4 * a * c)))) / (2 * a)\n",
    "print(\"Roots are\", x1, x2)\n",
    "\n",
    "print(math.log2(2 + math.sqrt(5)))\n",
    "\n",
    "radius = 5.5\n",
    "print(\n",
    "    \"The area of a circle with a radius of\", radius, \"is\", math.pi * math.pow(radius, 2)\n",
    ")\n",
    "\n",
    "print(math.sin(2.5))\n",
    "\n",
    "import cmath\n",
    "\n",
    "a = 1\n",
    "b = -2\n",
    "c = 10\n",
    "ix1 = ((-1 * b) - (cmath.sqrt(math.pow(b, 2) - (4 * a * c)))) / (2 * a)\n",
    "ix2 = ((-1 * b) - (cmath.sqrt(math.pow(b, 2) - (4 * a * c)))) / (2 * a)\n",
    "print(\"Roots are\", ix1, ix2)\n",
    "\n",
    "print(\"4! is\", math.factorial(4))\n",
    "\n",
    "from functools import reduce\n",
    "\n",
    "print(\"Summation is\", reduce(lambda p, q: p + q, [k for k in range(32, 128 + 1)]))\n",
    "print(\"Product is\", reduce(lambda p, q: p * q, [k for k in range(3, 17)]))"
   ]
  },
  {
   "cell_type": "markdown",
   "metadata": {},
   "source": [
    "**Celsius to Fahrenheit**\n"
   ]
  },
  {
   "cell_type": "code",
   "execution_count": null,
   "metadata": {},
   "outputs": [],
   "source": [
    "input_temperature = float(input(\"Temperatue in °C = \"))\n",
    "temperature_in_degree_farenheit = input_temperature * (9 / 5) + 32\n",
    "\n",
    "print(input_temperature, \"°C is\", temperature_in_degree_farenheit, \"°F\")"
   ]
  },
  {
   "cell_type": "markdown",
   "metadata": {},
   "source": [
    "**Fahrenheit ot Celsius**\n"
   ]
  },
  {
   "cell_type": "code",
   "execution_count": null,
   "metadata": {},
   "outputs": [],
   "source": [
    "input_temperature = float(input(\"Temperatue in °F = \"))\n",
    "\n",
    "temperature_in_degree_celsius = (input_temperature - 32) * (5 / 9)\n",
    "\n",
    "print(input_temperature, \"°F is\", temperature_in_degree_celsius, \"°C\")"
   ]
  },
  {
   "cell_type": "markdown",
   "metadata": {},
   "source": [
    "**Meter to Foot**\n"
   ]
  },
  {
   "cell_type": "code",
   "execution_count": null,
   "metadata": {},
   "outputs": [],
   "source": [
    "input_length = float(input(\"Length in Meter = \"))\n",
    "length_in_foot = input_length * 3.281\n",
    "print(input_length, \"Meter(s) is\", length_in_foot, \"Foot\")"
   ]
  },
  {
   "cell_type": "markdown",
   "metadata": {},
   "source": [
    "**Foot to Meter**\n"
   ]
  },
  {
   "cell_type": "code",
   "execution_count": null,
   "metadata": {},
   "outputs": [],
   "source": [
    "input_length = float(input(\"Length in Foot = \"))\n",
    "length_in_meter = input_length / 3.281\n",
    "print(input_length, \"Foot is\", length_in_meter, \"Meter\")"
   ]
  },
  {
   "cell_type": "markdown",
   "metadata": {},
   "source": [
    "**Acre to Square Meter**\n"
   ]
  },
  {
   "cell_type": "code",
   "execution_count": null,
   "metadata": {},
   "outputs": [],
   "source": [
    "input_area = float(input(\"Area in Acre = \"))\n",
    "area_in_square_meter = input_area * 4047\n",
    "print(input_length, \"Acre(s) is\", area_in_square_meter, \"Square Meter(s)\")"
   ]
  },
  {
   "cell_type": "markdown",
   "metadata": {},
   "source": [
    "**Square Meter to Acre**\n"
   ]
  },
  {
   "cell_type": "code",
   "execution_count": null,
   "metadata": {},
   "outputs": [],
   "source": [
    "input_area = float(input(\"Area in Square Meter = \"))\n",
    "area_in_acre = input_area / 4047\n",
    "print(input_length, \"Square Meter(s) is\", area_in_acre, \"Acre(s)\")"
   ]
  },
  {
   "cell_type": "markdown",
   "metadata": {},
   "source": [
    "**Pound to Kilogram**\n"
   ]
  },
  {
   "cell_type": "code",
   "execution_count": null,
   "metadata": {},
   "outputs": [],
   "source": [
    "input_mass = float(input(\"Mass in Pound = \"))\n",
    "mass_in_kilogram = input_mass / 2.205\n",
    "print(input_mass, \"Pound(s) is\", mass_in_kilogram, \"Kilogram(s)\")"
   ]
  },
  {
   "cell_type": "markdown",
   "metadata": {},
   "source": [
    "**Kilogram to Pound**\n"
   ]
  },
  {
   "cell_type": "code",
   "execution_count": null,
   "metadata": {},
   "outputs": [],
   "source": [
    "input_mass = float(input(\"Mass in Kilogram = \"))\n",
    "mass_in_pound = input_mass * 2.205\n",
    "print(input_mass, \"Kilogram(s) is\", mass_in_pound, \"Pound(s)\")"
   ]
  },
  {
   "cell_type": "markdown",
   "metadata": {},
   "source": [
    "**John's Simple Interest**\n"
   ]
  },
  {
   "cell_type": "code",
   "execution_count": null,
   "metadata": {},
   "outputs": [],
   "source": [
    "principal = 3000\n",
    "time_in_year = 3\n",
    "simple_interest = 3335.8\n",
    "\n",
    "interest_rate = (simple_interest * 100) / (principal * time_in_year)\n",
    "\n",
    "print(\"John is getting an annual interest rate of\", interest_rate)"
   ]
  },
  {
   "cell_type": "markdown",
   "metadata": {},
   "source": [
    "**`Heron's` Formula**\n"
   ]
  },
  {
   "cell_type": "code",
   "execution_count": null,
   "metadata": {},
   "outputs": [],
   "source": [
    "a = 3\n",
    "b = 4\n",
    "c = 6\n",
    "\n",
    "semi_perimeter = (a + b + c) / 2\n",
    "area_of_triangle = math.sqrt(\n",
    "    semi_perimeter * (semi_perimeter - a) * (semi_perimeter - b) * (semi_perimeter - c)\n",
    ")\n",
    "print(\n",
    "    \"Area of a Triangle with sides (in Meter)\",\n",
    "    a,\n",
    "    \",\",\n",
    "    b,\n",
    "    \", and\",\n",
    "    c,\n",
    "    \"is\",\n",
    "    area_of_triangle,\n",
    "    \"Square Meter(s)\",\n",
    ")"
   ]
  },
  {
   "cell_type": "markdown",
   "metadata": {},
   "source": [
    "**Random Number Guess**\n"
   ]
  },
  {
   "cell_type": "code",
   "execution_count": null,
   "metadata": {},
   "outputs": [],
   "source": [
    "import random\n",
    "\n",
    "guess_start = 1\n",
    "guess_stop = 100\n",
    "\n",
    "computed_guess = random.randint(guess_start, guess_stop)\n",
    "\n",
    "while True:\n",
    "    guess = int(input(\"Guess it? \"))\n",
    "    if guess > computed_guess:\n",
    "        print(\"Your guess is greater\")\n",
    "    elif guess < computed_guess:\n",
    "        print(\"Your guess is smaller\")\n",
    "    else:\n",
    "        print(\"Your guess is equal\")\n",
    "        break"
   ]
  },
  {
   "cell_type": "markdown",
   "metadata": {},
   "source": [
    "# 27 July 2023\n"
   ]
  },
  {
   "cell_type": "markdown",
   "metadata": {},
   "source": [
    "## Tuples\n",
    "\n",
    "> Mutability 👎\n"
   ]
  },
  {
   "cell_type": "code",
   "execution_count": 3,
   "metadata": {},
   "outputs": [
    {
     "name": "stdout",
     "output_type": "stream",
     "text": [
      "('Discrete Mathematics and Applications', 'Java: The complete reference')\n",
      "('ANSI C', 'Java: The complete reference')\n",
      "()\n"
     ]
    }
   ],
   "source": [
    "books = (\n",
    "    \"ANSI C\",\n",
    "    \"Java: The complete reference\",\n",
    "    \"Discrete Mathematics and Applications\",\n",
    ")\n",
    "authors = (\"Brian Kernighan and Dennis Ritchie\", \"Herbert Schildt\", \"Kenneth H. Rosen\")\n",
    "language = (\"English\",)\n",
    "\n",
    "print(books[-1:-3:-1])\n",
    "print(books[-3:-1:1])\n",
    "print(books[-3:-1:-1])"
   ]
  },
  {
   "cell_type": "markdown",
   "metadata": {},
   "source": [
    "`in` operator with a Tuple\n"
   ]
  },
  {
   "cell_type": "code",
   "execution_count": null,
   "metadata": {},
   "outputs": [],
   "source": [
    "print(\"ANSI C\" in books)\n",
    "books.index(\"ANSI C\")"
   ]
  },
  {
   "cell_type": "markdown",
   "metadata": {},
   "source": [
    "`id()` method\n"
   ]
  },
  {
   "cell_type": "code",
   "execution_count": null,
   "metadata": {},
   "outputs": [],
   "source": [
    "id(books)"
   ]
  },
  {
   "cell_type": "markdown",
   "metadata": {},
   "source": [
    "`del` operator\n"
   ]
  },
  {
   "cell_type": "code",
   "execution_count": 4,
   "metadata": {},
   "outputs": [
    {
     "ename": "NameError",
     "evalue": "name 'language' is not defined",
     "output_type": "error",
     "traceback": [
      "\u001b[0;31m---------------------------------------------------------------------------\u001b[0m",
      "\u001b[0;31mNameError\u001b[0m                                 Traceback (most recent call last)",
      "Cell \u001b[0;32mIn[4], line 3\u001b[0m\n\u001b[1;32m      1\u001b[0m \u001b[39mid\u001b[39m(language)\n\u001b[1;32m      2\u001b[0m \u001b[39mdel\u001b[39;00m language\n\u001b[0;32m----> 3\u001b[0m \u001b[39mid\u001b[39m(language)\n",
      "\u001b[0;31mNameError\u001b[0m: name 'language' is not defined"
     ]
    }
   ],
   "source": [
    "id(language)\n",
    "del language\n",
    "id(language)"
   ]
  },
  {
   "cell_type": "markdown",
   "metadata": {},
   "source": [
    "**Operators for a Tuple**\n",
    "| Operators | Description |\n",
    "| --------- | --------------- |\n",
    "| `+` | `Concatenation` |\n",
    "| `*` | `Repetition` |\n"
   ]
  },
  {
   "cell_type": "code",
   "execution_count": 5,
   "metadata": {},
   "outputs": [
    {
     "name": "stdout",
     "output_type": "stream",
     "text": [
      "('ANSI C', 'Java: The complete reference', 'Discrete Mathematics and Applications', 'Brian Kernighan and Dennis Ritchie', 'Herbert Schildt', 'Kenneth H. Rosen')\n"
     ]
    },
    {
     "ename": "NameError",
     "evalue": "name 'language' is not defined",
     "output_type": "error",
     "traceback": [
      "\u001b[0;31m---------------------------------------------------------------------------\u001b[0m",
      "\u001b[0;31mNameError\u001b[0m                                 Traceback (most recent call last)",
      "Cell \u001b[0;32mIn[5], line 2\u001b[0m\n\u001b[1;32m      1\u001b[0m \u001b[39mprint\u001b[39m(books \u001b[39m+\u001b[39m authors)\n\u001b[0;32m----> 2\u001b[0m \u001b[39mprint\u001b[39m(language \u001b[39m*\u001b[39m \u001b[39m3\u001b[39m)\n",
      "\u001b[0;31mNameError\u001b[0m: name 'language' is not defined"
     ]
    }
   ],
   "source": [
    "print(books + authors)\n",
    "print(language * 3)"
   ]
  },
  {
   "cell_type": "markdown",
   "metadata": {},
   "source": [
    "`for` loop\n"
   ]
  },
  {
   "cell_type": "code",
   "execution_count": null,
   "metadata": {},
   "outputs": [],
   "source": [
    "sum = 0\n",
    "for x in tuple(range(10)):\n",
    "    sum += x\n",
    "print(\"Sum of first 10 whole numbers is\", sum)"
   ]
  },
  {
   "cell_type": "markdown",
   "metadata": {},
   "source": [
    "`range()` method\n",
    "\n",
    "> Creates a sequence\n"
   ]
  },
  {
   "cell_type": "code",
   "execution_count": null,
   "metadata": {},
   "outputs": [],
   "source": [
    "print(tuple(range(2, 100, 2)))"
   ]
  },
  {
   "cell_type": "markdown",
   "metadata": {},
   "source": [
    "**Tuple Unpacking**\n"
   ]
  },
  {
   "cell_type": "code",
   "execution_count": null,
   "metadata": {},
   "outputs": [],
   "source": [
    "print(*books)"
   ]
  },
  {
   "cell_type": "markdown",
   "metadata": {},
   "source": [
    "## List\n",
    "\n",
    "> Mutability 👍\n"
   ]
  },
  {
   "cell_type": "code",
   "execution_count": 1,
   "metadata": {},
   "outputs": [
    {
     "name": "stdout",
     "output_type": "stream",
     "text": [
      "['a', 'b', 'c', 'd', 'e', 'f', 'g', 'h', 'i', 'j', 'k', 'l', 'm', 'n', 'o', 'p', 'q', 'r', 's', 't', 'u', 'v', 'w', 'x', 'y']\n"
     ]
    }
   ],
   "source": [
    "alphabets = [chr(i) for i in range(ord(\"a\"), ord(\"z\"))]\n",
    "print(alphabets)"
   ]
  },
  {
   "cell_type": "markdown",
   "metadata": {},
   "source": [
    "Indexing and Slicing\n"
   ]
  },
  {
   "cell_type": "code",
   "execution_count": 2,
   "metadata": {},
   "outputs": [
    {
     "name": "stdout",
     "output_type": "stream",
     "text": [
      "u\n",
      "['a', 'b', 'c', 'd', 'e', 'f']\n",
      "[]\n"
     ]
    }
   ],
   "source": [
    "print(alphabets[20])\n",
    "print(alphabets[0:6])\n",
    "print(alphabets[0:5:-1])"
   ]
  },
  {
   "cell_type": "markdown",
   "metadata": {},
   "source": [
    "`for` loop\n"
   ]
  },
  {
   "cell_type": "code",
   "execution_count": 3,
   "metadata": {},
   "outputs": [
    {
     "name": "stdout",
     "output_type": "stream",
     "text": [
      "abcdefghijklmnopqrstuvwxy"
     ]
    }
   ],
   "source": [
    "for alphabet in alphabets:\n",
    "    print(alphabet, end=\"\")"
   ]
  },
  {
   "cell_type": "markdown",
   "metadata": {},
   "source": [
    "`extend()` method\n",
    "\n",
    "> Extends the list in-place with another `iterable`\n",
    "\n",
    "> Returns `None`\n"
   ]
  },
  {
   "cell_type": "code",
   "execution_count": 4,
   "metadata": {},
   "outputs": [
    {
     "name": "stdout",
     "output_type": "stream",
     "text": [
      "['a', 'b', 'c', 'd', 'e', 'f', 'g', 'h', 'i', 'j', 'k', 'l', 'm', 'n', 'o', 'p', 'q', 'r', 's', 't', 'u', 'v', 'w', 'x', 'y', 'á', 'à', 'ä', 'é', 'è']\n"
     ]
    }
   ],
   "source": [
    "alphabets.extend(\"áàäéè\")\n",
    "print(alphabets)"
   ]
  },
  {
   "cell_type": "markdown",
   "metadata": {},
   "source": [
    "# 28 July 2023\n"
   ]
  },
  {
   "cell_type": "markdown",
   "metadata": {},
   "source": [
    "The `def` keyword\n"
   ]
  },
  {
   "cell_type": "code",
   "execution_count": null,
   "metadata": {},
   "outputs": [],
   "source": [
    "def greet(message):\n",
    "    print(message)\n",
    "    return message\n",
    "\n",
    "\n",
    "returned_message = greet(\"hello world\")\n",
    "print(returned_message)"
   ]
  },
  {
   "cell_type": "markdown",
   "metadata": {},
   "source": [
    "The `*args` and `**kwargs` keywords\n"
   ]
  },
  {
   "cell_type": "code",
   "execution_count": 5,
   "metadata": {},
   "outputs": [
    {
     "name": "stdout",
     "output_type": "stream",
     "text": [
      "args is <class 'tuple'>\n",
      "kwargs is <class 'dict'>\n"
     ]
    }
   ],
   "source": [
    "def function(*args, **kwargs):\n",
    "    print(\"args is\", type(args))\n",
    "    print(\"kwargs is\", type(kwargs))\n",
    "\n",
    "\n",
    "function()"
   ]
  },
  {
   "cell_type": "code",
   "execution_count": 6,
   "metadata": {},
   "outputs": [
    {
     "data": {
      "text/plain": [
       "45"
      ]
     },
     "execution_count": 6,
     "metadata": {},
     "output_type": "execute_result"
    }
   ],
   "source": [
    "def sum(*args):\n",
    "    if args:\n",
    "        sum = 0\n",
    "        for arg in args:\n",
    "            sum += arg\n",
    "        return sum\n",
    "    else:\n",
    "        return None\n",
    "\n",
    "\n",
    "sum(*[x for x in range(10)])"
   ]
  },
  {
   "cell_type": "markdown",
   "metadata": {},
   "source": [
    "# 31 July 2023\n"
   ]
  },
  {
   "cell_type": "markdown",
   "metadata": {},
   "source": [
    "`lambda` function\n",
    "\n",
    "> `lambda comma_seprated_arguments: expression`\n",
    "\n",
    "> The `expression` is returned automatically to the caller\n"
   ]
  },
  {
   "cell_type": "code",
   "execution_count": null,
   "metadata": {},
   "outputs": [],
   "source": [
    "f = lambda x, y=0: x**y\n",
    "\n",
    "print(f(2, 3))\n",
    "print(f(3))"
   ]
  },
  {
   "cell_type": "code",
   "execution_count": null,
   "metadata": {},
   "outputs": [],
   "source": [
    "g = lambda x=0, y=0: x**3 + y**2 + 5\n",
    "\n",
    "print(g())\n",
    "print(g(1, 2))"
   ]
  },
  {
   "cell_type": "markdown",
   "metadata": {},
   "source": [
    "**List comprehension**\n"
   ]
  },
  {
   "cell_type": "code",
   "execution_count": 11,
   "metadata": {},
   "outputs": [
    {
     "name": "stdout",
     "output_type": "stream",
     "text": [
      "L i b r a r y   M a n g e m e n t   S y s t e m\n"
     ]
    }
   ],
   "source": [
    "domain_name = \"Library Mangement System\"\n",
    "\n",
    "paragraph_on_domain = f\"A {domain_name} is a software that helps take the load \\\n",
    "off librarians and other library users. It does so by enabling them to \\\n",
    "digitally manage, organize and access the resources of a library like books, \\\n",
    "e-books, articles, journals, research papers, and such. It couples these along \\\n",
    "with OPAC, an Online Public Access Catalog allowing users to search for the \\\n",
    "resources in an efficient manner like filtering, sorting, etc.\\nAll of these \\\n",
    "and more elevate the efficiency and thereby the productivity of the librarians \\\n",
    "whilst simultaneously improving the user experince by bringing all of these on \\\n",
    "their palm.\"\n",
    "\n",
    "print(*[x for x in domain_name])"
   ]
  },
  {
   "cell_type": "code",
   "execution_count": null,
   "metadata": {},
   "outputs": [],
   "source": [
    "letters_in_domain_name = [letter for letter in domain_name]\n",
    "print(letters_in_domain_name)"
   ]
  },
  {
   "cell_type": "code",
   "execution_count": null,
   "metadata": {},
   "outputs": [],
   "source": [
    "vowels = [\"a\", \"e\", \"i\", \"o\", \"u\"]\n",
    "vowels_in_domain_name = [letter for letter in domain_name if letter in vowels]\n",
    "\n",
    "print(vowels_in_domain_name)"
   ]
  },
  {
   "cell_type": "code",
   "execution_count": null,
   "metadata": {},
   "outputs": [],
   "source": [
    "uppercase_letters_in_domain_name = [\n",
    "    letter for letter in domain_name if letter.isupper()\n",
    "]\n",
    "print(uppercase_letters_in_domain_name)"
   ]
  },
  {
   "cell_type": "code",
   "execution_count": 12,
   "metadata": {},
   "outputs": [
    {
     "name": "stdout",
     "output_type": "stream",
     "text": [
      "Library Mangement System\n"
     ]
    }
   ],
   "source": [
    "uppercase_domain_name = [\n",
    "    letter if letter.isupper() else letter.lower() for letter in domain_name\n",
    "]\n",
    "print(\"\".join(uppercase_domain_name))"
   ]
  },
  {
   "cell_type": "markdown",
   "metadata": {},
   "source": [
    "# 1 August 2023\n"
   ]
  },
  {
   "cell_type": "markdown",
   "metadata": {},
   "source": [
    "## `Dictionary`\n",
    "\n",
    "> Mutability 👍\n"
   ]
  },
  {
   "cell_type": "code",
   "execution_count": 13,
   "metadata": {},
   "outputs": [
    {
     "name": "stdout",
     "output_type": "stream",
     "text": [
      "<class 'dict'>\n",
      "{'name': 'CHRIST UNIVERSITY', 'campus': 'Bangalore Central', 'deaneries': ['school of science', 'school of arts']}\n"
     ]
    }
   ],
   "source": [
    "university = {\n",
    "    \"name\": \"CHRIST UNIVERSITY\",\n",
    "    \"campus\": \"Bangalore Central\",\n",
    "    \"deaneries\": [\"school of science\", \"school of arts\"],\n",
    "}\n",
    "\n",
    "print(type(university))\n",
    "print(university)"
   ]
  },
  {
   "cell_type": "code",
   "execution_count": null,
   "metadata": {},
   "outputs": [],
   "source": [
    "print(university[\"name\"])\n",
    "print(university[\"campus\"])"
   ]
  },
  {
   "cell_type": "markdown",
   "metadata": {},
   "source": [
    "`get()` method\n"
   ]
  },
  {
   "cell_type": "code",
   "execution_count": null,
   "metadata": {},
   "outputs": [],
   "source": [
    "print(university.get(\"name\"))\n",
    "print(university.get(\"names\"))"
   ]
  },
  {
   "cell_type": "markdown",
   "metadata": {},
   "source": [
    "`keys()` method\n"
   ]
  },
  {
   "cell_type": "code",
   "execution_count": null,
   "metadata": {},
   "outputs": [],
   "source": [
    "university.keys()"
   ]
  },
  {
   "cell_type": "markdown",
   "metadata": {},
   "source": [
    "`id()`\n",
    "\n",
    "> `id()` gives the unique identification assigned to an object when it is created\n"
   ]
  },
  {
   "cell_type": "code",
   "execution_count": 14,
   "metadata": {},
   "outputs": [
    {
     "name": "stdout",
     "output_type": "stream",
     "text": [
      "139975850308032\n"
     ]
    }
   ],
   "source": [
    "print(id(university))"
   ]
  },
  {
   "cell_type": "markdown",
   "metadata": {},
   "source": [
    "`update()` method\n"
   ]
  },
  {
   "cell_type": "code",
   "execution_count": null,
   "metadata": {},
   "outputs": [],
   "source": [
    "university.update({\"campus\": \"Delhi NCR\"})\n",
    "print(university)\n",
    "\n",
    "university[\"campus\"] = \"Bangalore Central\"\n",
    "print(university)"
   ]
  },
  {
   "cell_type": "markdown",
   "metadata": {},
   "source": [
    "`values()` method\n"
   ]
  },
  {
   "cell_type": "code",
   "execution_count": 15,
   "metadata": {},
   "outputs": [
    {
     "name": "stdout",
     "output_type": "stream",
     "text": [
      "dict_values(['CHRIST UNIVERSITY', 'Bangalore Central', ['school of science', 'school of arts']])\n"
     ]
    }
   ],
   "source": [
    "print(university.values())"
   ]
  },
  {
   "cell_type": "markdown",
   "metadata": {},
   "source": [
    "`pop()` method\n"
   ]
  },
  {
   "cell_type": "code",
   "execution_count": null,
   "metadata": {},
   "outputs": [],
   "source": [
    "university.pop(\"deaneries\")\n",
    "print(university)"
   ]
  },
  {
   "cell_type": "markdown",
   "metadata": {},
   "source": [
    "`del`\n"
   ]
  },
  {
   "cell_type": "code",
   "execution_count": null,
   "metadata": {},
   "outputs": [],
   "source": [
    "del university[\"campus\"]\n",
    "print(university)\n",
    "\n",
    "del university\n",
    "id(university)"
   ]
  },
  {
   "cell_type": "markdown",
   "metadata": {},
   "source": [
    "`for` loop\n"
   ]
  },
  {
   "cell_type": "code",
   "execution_count": null,
   "metadata": {},
   "outputs": [],
   "source": [
    "for x in university:\n",
    "    print(x)\n",
    "\n",
    "for x in university.values():\n",
    "    print(x)"
   ]
  },
  {
   "cell_type": "markdown",
   "metadata": {},
   "source": [
    "`items()` method\n"
   ]
  },
  {
   "cell_type": "code",
   "execution_count": 18,
   "metadata": {},
   "outputs": [
    {
     "name": "stdout",
     "output_type": "stream",
     "text": [
      "name : CHRIST UNIVERSITY\n",
      "campus : Bangalore Central\n",
      "deaneries : ['school of science', 'school of arts']\n"
     ]
    }
   ],
   "source": [
    "for k, v in university.items():\n",
    "    print(k, \":\", v)"
   ]
  },
  {
   "cell_type": "markdown",
   "metadata": {},
   "source": [
    "`copy()` method\n"
   ]
  },
  {
   "cell_type": "code",
   "execution_count": 19,
   "metadata": {},
   "outputs": [
    {
     "name": "stdout",
     "output_type": "stream",
     "text": [
      "{'name': 'CHRIST UNIVERSITY', 'campus': 'Bangalore Central', 'deaneries': ['school of science', 'school of arts']}\n",
      "False\n"
     ]
    }
   ],
   "source": [
    "copy_of_university = university.copy()\n",
    "print(copy_of_university)\n",
    "\n",
    "print(id(copy_of_university) == id(university))"
   ]
  },
  {
   "cell_type": "code",
   "execution_count": null,
   "metadata": {},
   "outputs": [],
   "source": [
    "def unpack(name, campus, deaneries):\n",
    "    print(name, campus, sep=\":\")\n",
    "\n",
    "\n",
    "unpack(**university)"
   ]
  },
  {
   "cell_type": "markdown",
   "metadata": {},
   "source": [
    "# 3 August 2023\n"
   ]
  },
  {
   "cell_type": "markdown",
   "metadata": {},
   "source": [
    "## `Set`\n",
    "\n",
    "> Mutability 👍\n"
   ]
  },
  {
   "cell_type": "code",
   "execution_count": null,
   "metadata": {},
   "outputs": [],
   "source": [
    "books = set(books)\n",
    "\n",
    "print(books)"
   ]
  },
  {
   "cell_type": "markdown",
   "metadata": {},
   "source": [
    "`len()`\n"
   ]
  },
  {
   "cell_type": "code",
   "execution_count": null,
   "metadata": {},
   "outputs": [],
   "source": [
    "print(len(books))"
   ]
  },
  {
   "cell_type": "markdown",
   "metadata": {},
   "source": [
    "`add()` method\n"
   ]
  },
  {
   "cell_type": "code",
   "execution_count": null,
   "metadata": {},
   "outputs": [],
   "source": [
    "books.add(\"Headstart with Python\")\n",
    "print(\"Updated books are\", books, sep=\"\\n\")"
   ]
  },
  {
   "cell_type": "markdown",
   "metadata": {},
   "source": [
    "`update()` method\n"
   ]
  },
  {
   "cell_type": "code",
   "execution_count": null,
   "metadata": {},
   "outputs": [],
   "source": [
    "books.update([\"Database System Concepts\", \"Linux for System Administration\"])\n",
    "print(books)"
   ]
  },
  {
   "cell_type": "markdown",
   "metadata": {},
   "source": [
    "`remove(), discard(), pop()` method\n",
    "\n",
    "| Method      | Behaviour                                                                      |\n",
    "| ----------- | ------------------------------------------------------------------------------ |\n",
    "| `remove()`  | Throws `KeyError` if element is not found                                      |\n",
    "| `discard()` | Same as `remove()` but **fails silently**                                      |\n",
    "| `pop()`     | Remove and return element `1` in the set<br>Throws `KeyError` for an empty set |\n"
   ]
  },
  {
   "cell_type": "code",
   "execution_count": null,
   "metadata": {},
   "outputs": [],
   "source": [
    "books.remove(\"Headstart with Python\")\n",
    "print(books)\n",
    "\n",
    "books.discard(\"Headstart with Python\")\n",
    "print(books)\n",
    "\n",
    "print(\"Popped\", books.pop())"
   ]
  },
  {
   "cell_type": "markdown",
   "metadata": {},
   "source": [
    "[`all()`](https://docs.python.org/3/library/functions.html?highlight=all#all)\n",
    "[`any()`](https://docs.python.org/3/library/functions.html?highlight=any#any)\n"
   ]
  },
  {
   "cell_type": "code",
   "execution_count": null,
   "metadata": {},
   "outputs": [],
   "source": [
    "i = [True, False]\n",
    "print(all(i))\n",
    "print(any(i))"
   ]
  },
  {
   "cell_type": "markdown",
   "metadata": {},
   "source": [
    "## `frozenset()`\n",
    "\n",
    "> Mutability 👎\n"
   ]
  },
  {
   "cell_type": "code",
   "execution_count": null,
   "metadata": {},
   "outputs": [],
   "source": [
    "prices = frozenset([350, 1200, 849])\n",
    "copies = frozenset([150, 75, 350, 500])"
   ]
  },
  {
   "cell_type": "markdown",
   "metadata": {},
   "source": [
    "`union()` method\n"
   ]
  },
  {
   "cell_type": "code",
   "execution_count": null,
   "metadata": {},
   "outputs": [],
   "source": [
    "u = prices.union(copies)\n",
    "print(u)"
   ]
  },
  {
   "cell_type": "markdown",
   "metadata": {},
   "source": [
    "`interesection()` method\n"
   ]
  },
  {
   "cell_type": "code",
   "execution_count": null,
   "metadata": {},
   "outputs": [],
   "source": [
    "i = prices.intersection(copies)\n",
    "print(i)"
   ]
  },
  {
   "cell_type": "markdown",
   "metadata": {},
   "source": [
    "`difference()` method\n"
   ]
  },
  {
   "cell_type": "code",
   "execution_count": null,
   "metadata": {},
   "outputs": [],
   "source": [
    "prices_d_copies = prices.difference(copies)\n",
    "print(prices_d_copies)\n",
    "\n",
    "copies_d_prices = copies.difference(prices)\n",
    "print(copies_d_prices)"
   ]
  },
  {
   "cell_type": "markdown",
   "metadata": {},
   "source": [
    "`symmetric_difference()` method\n"
   ]
  },
  {
   "cell_type": "code",
   "execution_count": null,
   "metadata": {},
   "outputs": [],
   "source": [
    "prices.symmetric_difference(copies) == copies.symmetric_difference(prices)"
   ]
  },
  {
   "cell_type": "markdown",
   "metadata": {},
   "source": [
    "# 4 August 2023\n"
   ]
  },
  {
   "cell_type": "code",
   "execution_count": null,
   "metadata": {},
   "outputs": [],
   "source": [
    "t = (1, 2, 3)\n",
    "l = list(t)\n",
    "s = set(t)\n",
    "d = {\"t\": t, \"l\": l, \"s\": s}"
   ]
  },
  {
   "cell_type": "markdown",
   "metadata": {},
   "source": [
    "## Number System\n",
    "\n",
    "> `Python3` follows the **Decimal Number System** by deafult\n"
   ]
  },
  {
   "cell_type": "markdown",
   "metadata": {},
   "source": [
    "### Binary\n",
    "\n",
    "> Binary number constants are prefixed with `0b`\n"
   ]
  },
  {
   "cell_type": "code",
   "execution_count": null,
   "metadata": {},
   "outputs": [],
   "source": [
    "binary_of_2 = 0b10\n",
    "print(binary_of_2)"
   ]
  },
  {
   "cell_type": "markdown",
   "metadata": {},
   "source": [
    "`bin()` function\n"
   ]
  },
  {
   "cell_type": "code",
   "execution_count": null,
   "metadata": {},
   "outputs": [],
   "source": [
    "bin(2)"
   ]
  },
  {
   "cell_type": "code",
   "execution_count": 20,
   "metadata": {},
   "outputs": [
    {
     "name": "stdout",
     "output_type": "stream",
     "text": [
      "a=3, b=4\n"
     ]
    }
   ],
   "source": [
    "a = 0b011\n",
    "b = 0b100\n",
    "\n",
    "print(f\"{a=}, {b=}\")"
   ]
  },
  {
   "cell_type": "markdown",
   "metadata": {},
   "source": [
    "### Octal\n",
    "\n",
    "> Octal number constants are prefixed with `0o`\n"
   ]
  },
  {
   "cell_type": "markdown",
   "metadata": {},
   "source": [
    "`oct()` function\n"
   ]
  },
  {
   "cell_type": "code",
   "execution_count": 21,
   "metadata": {},
   "outputs": [
    {
     "data": {
      "text/plain": [
       "'0o3'"
      ]
     },
     "execution_count": 21,
     "metadata": {},
     "output_type": "execute_result"
    }
   ],
   "source": [
    "oct(3)"
   ]
  },
  {
   "cell_type": "markdown",
   "metadata": {},
   "source": [
    "### Hexadecimal\n",
    "\n",
    "> Hexadecimal number constants are prefixed with `0x`\n"
   ]
  },
  {
   "cell_type": "markdown",
   "metadata": {},
   "source": [
    "`hex()` function\n"
   ]
  },
  {
   "cell_type": "code",
   "execution_count": 24,
   "metadata": {},
   "outputs": [
    {
     "data": {
      "text/plain": [
       "'0xb'"
      ]
     },
     "execution_count": 24,
     "metadata": {},
     "output_type": "execute_result"
    }
   ],
   "source": [
    "hex(11)"
   ]
  },
  {
   "cell_type": "markdown",
   "metadata": {},
   "source": [
    "## Module\n",
    "\n",
    "> A `.py` file is a `module` in **Python3**\n"
   ]
  },
  {
   "cell_type": "code",
   "execution_count": null,
   "metadata": {},
   "outputs": [],
   "source": [
    "import scratch\n",
    "\n",
    "print(\"Hey there! I'll help you find S.I\")\n",
    "print(\"Give me a couple of info first!\")\n",
    "\n",
    "pa = float(input(\"Principal Amount? \"))\n",
    "y = int(input(\"Time in Years? \"))\n",
    "r = float(input(\"Interest Rate? \"))\n",
    "si = scratch.simple_intereset(principal=pa, years=y, rate=r)\n",
    "\n",
    "print(\n",
    "    f\"Simple Interest comes out to be {si:.2f}\",\n",
    ")"
   ]
  },
  {
   "cell_type": "markdown",
   "metadata": {},
   "source": [
    "# 8 August 2023\n"
   ]
  },
  {
   "cell_type": "markdown",
   "metadata": {},
   "source": [
    "## Object Oriented Programming\n"
   ]
  },
  {
   "cell_type": "markdown",
   "metadata": {},
   "source": [
    "### `Class`\n"
   ]
  },
  {
   "cell_type": "code",
   "execution_count": null,
   "metadata": {},
   "outputs": [],
   "source": [
    "class Book:\n",
    "    pass\n",
    "\n",
    "\n",
    "book1 = Book()\n",
    "book1.name = \"Java The Complete Reference\"\n",
    "book1.price = 1200\n",
    "print(f\"{book1.__dict__ = }\")\n",
    "\n",
    "book2 = Book()\n",
    "book2.title = \"The C Programming Language\"\n",
    "book2.author = \"Brian W. Kernighan\"\n",
    "print(f\"{book2.__dict__ = }\")"
   ]
  },
  {
   "cell_type": "markdown",
   "metadata": {},
   "source": [
    "### `del`\n"
   ]
  },
  {
   "cell_type": "code",
   "execution_count": null,
   "metadata": {},
   "outputs": [],
   "source": [
    "book1.copies = 75\n",
    "print(f\"{book1.copies = }\")\n",
    "\n",
    "del book1.copies\n",
    "print(f\"{book1.copies = }\")"
   ]
  },
  {
   "cell_type": "markdown",
   "metadata": {},
   "source": [
    "### Methods and Constructors\n"
   ]
  },
  {
   "cell_type": "code",
   "execution_count": null,
   "metadata": {},
   "outputs": [],
   "source": [
    "class Book:\n",
    "    def getTitle(self):\n",
    "        return self.title\n",
    "\n",
    "    def setTitle(self, title):\n",
    "        self.title = title\n",
    "\n",
    "    def copies(self, n):\n",
    "        self.copies += n\n",
    "\n",
    "\n",
    "some_book = Book()\n",
    "\n",
    "some_book.setTitle(\"Discrete Mathematics and Its Applications\")\n",
    "print(some_book.getTitle())\n",
    "\n",
    "Book.setTitle(some_book, \"Data Structures and Algorithms\")\n",
    "print(some_book.getTitle())"
   ]
  },
  {
   "cell_type": "markdown",
   "metadata": {},
   "source": [
    "### `__init__()`\n"
   ]
  },
  {
   "cell_type": "code",
   "execution_count": null,
   "metadata": {},
   "outputs": [],
   "source": [
    "class Book:\n",
    "    \"\"\"This a Book class\"\"\"\n",
    "\n",
    "    __currency = \"\\u20B9\"\n",
    "    __count = 0\n",
    "\n",
    "    def __init__(self, title: str, author: [str], price: float) -> None:\n",
    "        self.title = title\n",
    "        self.author = author\n",
    "        self.price = price\n",
    "        self.copy = 1\n",
    "        Book.__count += 1\n",
    "        self.__index = Book.__count\n",
    "\n",
    "    def setcopy(self, copy: int):\n",
    "        self.copy = copy\n",
    "\n",
    "    def _format_author(self):\n",
    "        print()\n",
    "        return \", \".join(self.author)\n",
    "\n",
    "    def __str__(self) -> str:\n",
    "        return f\"---BOOK #{self.__index}---\\n{self.title}\\n~ {self._format_author()}\\n{Book.__currency} {self.price}\\n\""
   ]
  },
  {
   "cell_type": "markdown",
   "metadata": {},
   "source": [
    "### `__doc__`\n"
   ]
  },
  {
   "cell_type": "code",
   "execution_count": null,
   "metadata": {},
   "outputs": [],
   "source": [
    "print(Book.__doc__)"
   ]
  },
  {
   "cell_type": "markdown",
   "metadata": {},
   "source": [
    "### `__str___`\n"
   ]
  },
  {
   "cell_type": "code",
   "execution_count": null,
   "metadata": {},
   "outputs": [],
   "source": [
    "book1 = Book(\"Head First Python\", [\"Paul Barry\", \"Rohit Tank\"], 1_147.0)\n",
    "book2 = Book(\n",
    "    \"Python Crash Course: A Hands-On, Project-Based Introduction To Programming\",\n",
    "    [\"Eric Mattnes\"],\n",
    "    2347.0,\n",
    ")\n",
    "print(book1, book2)"
   ]
  },
  {
   "cell_type": "markdown",
   "metadata": {},
   "source": [
    "# 14 August 2023\n"
   ]
  },
  {
   "cell_type": "markdown",
   "metadata": {},
   "source": [
    "## Inheritance\n",
    "\n",
    "1. Single\n",
    "2. Multilevel\n",
    "3. Multiple\n",
    "4. Hierarchichal\n",
    "5. Hybrid\n"
   ]
  },
  {
   "cell_type": "markdown",
   "metadata": {},
   "source": [
    "## Single Inheritance"
   ]
  },
  {
   "cell_type": "code",
   "execution_count": null,
   "metadata": {},
   "outputs": [],
   "source": [
    "class School:\n",
    "    def __init__(self, school):\n",
    "        self.school = school\n",
    "\n",
    "    def __str__(self):\n",
    "        return f\"School of {self.school}\"\n",
    "\n",
    "\n",
    "class Department(School):\n",
    "    def __init__(self, school, department):\n",
    "        super().__init__(school)\n",
    "        self.department = department\n",
    "\n",
    "    def __str__(self):\n",
    "        return f\"Department of {self.department}, {super().__str__()}\"\n",
    "\n",
    "\n",
    "a_school = School(\"Sciences\")\n",
    "a_department = Department(a_school.school, \"Chemistry\")\n",
    "print(a_school)\n",
    "print(a_department)"
   ]
  },
  {
   "cell_type": "markdown",
   "metadata": {},
   "source": [
    "## Multiple Inheritance"
   ]
  },
  {
   "cell_type": "code",
   "execution_count": null,
   "metadata": {},
   "outputs": [],
   "source": [
    "class Mom:\n",
    "    def __init__(self, name) -> None:\n",
    "        self.mom_name = name\n",
    "\n",
    "\n",
    "class Dad:\n",
    "    def __init__(self, name) -> None:\n",
    "        self.dad_name = name\n",
    "\n",
    "\n",
    "class Me(Mom, Dad):\n",
    "    def __init__(self, name, mother_name, father_name) -> None:\n",
    "        # super().__init__()\n",
    "        Mom.__init__(self, mother_name)\n",
    "        Dad.__init__(self, father_name)\n",
    "        self.name = name\n",
    "\n",
    "    def __str__(self):\n",
    "        return f\"{self.name} is a child of {self.mom_name} and {self.dad_name}\"\n",
    "\n",
    "\n",
    "print(Me(\"Bivas\", \"Pratima\", \"Ramesh\"))"
   ]
  },
  {
   "cell_type": "markdown",
   "metadata": {},
   "source": [
    "## Multilevel Inheritance"
   ]
  },
  {
   "cell_type": "code",
   "execution_count": null,
   "metadata": {},
   "outputs": [],
   "source": [
    "class Switch:\n",
    "    def __init__(self, on: bool = False):\n",
    "        self.on = on\n",
    "\n",
    "    def turn_on(self):\n",
    "        self.on = True if not self.on else False\n",
    "\n",
    "    def __str__(self):\n",
    "        return f\"Switch is {self.on}\"\n",
    "\n",
    "\n",
    "class Light(Switch):\n",
    "    def __init__(self):\n",
    "        super().__init__()\n",
    "\n",
    "    def __str__(self):\n",
    "        if self.on:\n",
    "            return \"Light is on\"\n",
    "        else:\n",
    "            return \"Light is off\"\n",
    "\n",
    "\n",
    "class Fan(Switch):\n",
    "    def __init__(self):\n",
    "        super().__init__()\n",
    "        pass\n",
    "\n",
    "    def __str__(self):\n",
    "        if self.on:\n",
    "            return \"Fan is running\"\n",
    "        else:\n",
    "            return \"Fan is not runnning\"\n",
    "\n",
    "\n",
    "switch = Switch(True)\n",
    "light = Light()\n",
    "print(light)\n",
    "light.turn_on()\n",
    "print(light)\n",
    "\n",
    "fan = Fan()\n",
    "print(fan)\n",
    "fan.turn_on()\n",
    "print(fan)"
   ]
  },
  {
   "cell_type": "markdown",
   "metadata": {},
   "source": [
    "# 17 August 2023"
   ]
  },
  {
   "cell_type": "markdown",
   "metadata": {},
   "source": [
    "## Hierarchical Inheritance"
   ]
  },
  {
   "cell_type": "code",
   "execution_count": null,
   "metadata": {},
   "outputs": [],
   "source": [
    "class School:\n",
    "    def __init__(self) -> None:\n",
    "        pass\n",
    "\n",
    "    def __str__(self, name: str = None) -> str:\n",
    "        if name is None:\n",
    "            return \"Base class 'School'\"\n",
    "        else:\n",
    "            return f\"School of {name}\"\n",
    "\n",
    "\n",
    "class SchoolOfScience(School):\n",
    "    def __init__(self) -> None:\n",
    "        self.school_name = \"Science\"\n",
    "\n",
    "    def __str__(self) -> str:\n",
    "        return super().__str__(self.school_name)\n",
    "\n",
    "\n",
    "class SchoolOfPerformingArts(School):\n",
    "    def __init__(self) -> None:\n",
    "        self.school_name = \"Performing Arts\"\n",
    "\n",
    "    def __str__(self) -> str:\n",
    "        return super().__str__(self.school_name)\n",
    "\n",
    "\n",
    "some_school = School()\n",
    "print(SchoolOfScience())\n",
    "print(SchoolOfPerformingArts())"
   ]
  },
  {
   "cell_type": "markdown",
   "metadata": {},
   "source": [
    "## Hybrid Inheritance"
   ]
  },
  {
   "cell_type": "code",
   "execution_count": null,
   "metadata": {},
   "outputs": [],
   "source": [
    "class SchoolOfComputerScience(SchoolOfScience, School):\n",
    "    def __init__(self) -> None:\n",
    "        super().__init__()"
   ]
  },
  {
   "cell_type": "markdown",
   "metadata": {},
   "source": [
    "## Abstract Class"
   ]
  },
  {
   "cell_type": "code",
   "execution_count": null,
   "metadata": {},
   "outputs": [],
   "source": [
    "from abc import ABC\n",
    "\n",
    "\n",
    "class Shape(ABC):\n",
    "    pass"
   ]
  },
  {
   "cell_type": "markdown",
   "metadata": {},
   "source": [
    "## Exception Handling\n",
    "\n",
    "```python\n",
    "try:\n",
    "    ...\n",
    "except Exception:\n",
    "    ...\n",
    "```"
   ]
  },
  {
   "cell_type": "code",
   "execution_count": null,
   "metadata": {},
   "outputs": [],
   "source": [
    "def divide(p, q):\n",
    "    r = None\n",
    "    try:\n",
    "        r = p // q\n",
    "    except ZeroDivisionError as e:\n",
    "        print(e)\n",
    "    except TypeError as e:\n",
    "        print(e)\n",
    "    else:\n",
    "        print(r)\n",
    "\n",
    "\n",
    "divide(5, 2)\n",
    "divide(\"👎\", \"👍\")"
   ]
  },
  {
   "cell_type": "code",
   "execution_count": null,
   "metadata": {},
   "outputs": [],
   "source": [
    "cgpa = [9, 7, 6, 5, 10, 3, 9, 6, 6, 4]\n",
    "\n",
    "print(\"Frequency of CGPA 6 is\", cgpa.count(6))\n",
    "\n",
    "cgpa.pop()\n",
    "cgpa.append(3)\n",
    "print(\"Last CGPA is\", cgpa[-1])\n",
    "\n",
    "print(\"Highest CGPA is\", max(cgpa))\n",
    "\n",
    "print(\"CGPA from lowest to highest is\", sorted(cgpa))\n",
    "\n",
    "avg = lambda iterable: sum(iterable) / len(iterable)\n",
    "print(\"Average CGPA is\", avg(cgpa))"
   ]
  },
  {
   "cell_type": "code",
   "execution_count": null,
   "metadata": {},
   "outputs": [],
   "source": [
    "from random import choices\n",
    "\n",
    "options = (\"Y\", \"N\")\n",
    "\n",
    "responses = choices(options, k=10)\n",
    "print(\"Response sheet:\", responses)\n",
    "\n",
    "numYes = responses.count(options[0])\n",
    "numNo = responses.count(options[1])\n",
    "print(\"Frequency of\", options[0], \"is\", numYes)\n",
    "print(\"Frequency of\", options[1], \"is\", numNo)\n",
    "\n",
    "percentYes = (numYes / len(responses)) * 100\n",
    "print(\"Yes % is\", percentYes)\n",
    "\n",
    "print(\"Sorted Response Sheet is\", sorted(responses))\n",
    "\n",
    "f = responses.index(options[0])\n",
    "print(options[0], \"first occurs at index\", f)"
   ]
  },
  {
   "cell_type": "markdown",
   "metadata": {},
   "source": [
    "# 21 August 2023"
   ]
  },
  {
   "cell_type": "code",
   "execution_count": null,
   "metadata": {},
   "outputs": [],
   "source": [
    "from collections import defaultdict\n",
    "\n",
    "\n",
    "def stop(text: str) -> bool:\n",
    "    \"\"\"Stop infinite while loop\"\"\"\n",
    "    return text.casefold() == \"I am gonna call it night\".casefold()\n",
    "\n",
    "\n",
    "def sold(status: str) -> bool:\n",
    "    \"\"\"Check if stock was sold\"\"\"\n",
    "    return status.casefold() == \"s\".casefold()\n",
    "\n",
    "\n",
    "def bought(status: str) -> bool:\n",
    "    \"\"\"Check if stock was bought\"\"\"\n",
    "    return status.casefold() == \"b\".casefold()\n",
    "\n",
    "\n",
    "def buy(price: float, quantity: int, broker: defaultdict):\n",
    "    \"\"\"Buy `quantity` of qunatity stock each of price `price`\"\"\"\n",
    "    broker.update({\"Bought_Quantity\": broker[\"Bought_Quantity\"] + quantity})\n",
    "    broker.update({\"Bought\": broker[\"Bought\"] + price * quantity})\n",
    "\n",
    "\n",
    "def sell(price: float, quantity: int, broker: defaultdict):\n",
    "    \"\"\"Sell `quantity` of qunatity stock each of price `price`\"\"\"\n",
    "    broker.update({\"Sold_Quantity\": broker[\"Sold_Quantity\"] + quantity})\n",
    "    broker.update({\"Sold\": broker[\"Sold\"] + price * quantity})\n",
    "\n",
    "\n",
    "def broker():\n",
    "    broker_output = defaultdict(int)\n",
    "\n",
    "    while True:\n",
    "        broker_input = input(\"Company, Quantity, Price, Status? \")\n",
    "\n",
    "        if stop(broker_input):\n",
    "            break\n",
    "\n",
    "        try:\n",
    "            _, quantity, price, status = broker_input.split(\", \")\n",
    "            quantity = int(quantity.strip())\n",
    "            price = float(price.strip())\n",
    "            status = status.strip().casefold()\n",
    "        except ValueError:\n",
    "            broker_input = input(\"Company, Quantity, Price, Status? \")\n",
    "        else:\n",
    "            if bought(status):\n",
    "                buy(price, quantity, broker_output)\n",
    "            elif sold(status):\n",
    "                sell(price, quantity, broker_output)\n",
    "            else:\n",
    "                pass\n",
    "    return broker_output\n",
    "\n",
    "\n",
    "print(broker())"
   ]
  },
  {
   "cell_type": "markdown",
   "metadata": {},
   "source": [
    "# 24 August 2023"
   ]
  },
  {
   "cell_type": "code",
   "execution_count": 3,
   "metadata": {},
   "outputs": [
    {
     "ename": "AssertionError",
     "evalue": "",
     "output_type": "error",
     "traceback": [
      "\u001b[0;31m---------------------------------------------------------------------------\u001b[0m",
      "\u001b[0;31mAssertionError\u001b[0m                            Traceback (most recent call last)",
      "Cell \u001b[0;32mIn[3], line 29\u001b[0m\n\u001b[1;32m     26\u001b[0m \u001b[39massert\u001b[39;00m ispangram(\u001b[39m\"\u001b[39m\u001b[39mthe big dwarf only jumps\u001b[39m\u001b[39m\"\u001b[39m) \u001b[39m==\u001b[39m \u001b[39mFalse\u001b[39;00m\n\u001b[1;32m     27\u001b[0m \u001b[39massert\u001b[39;00m ispangram(\u001b[39m\"\u001b[39m\u001b[39mgeeksforgeeks\u001b[39m\u001b[39m\"\u001b[39m) \u001b[39m==\u001b[39m \u001b[39mFalse\u001b[39;00m\n\u001b[0;32m---> 29\u001b[0m \u001b[39massert\u001b[39;00m isheterogram(\u001b[39m\"\u001b[39m\u001b[39mthe quick brown fox jumps over lazy dog\u001b[39m\u001b[39m\"\u001b[39m) \u001b[39m==\u001b[39m \u001b[39mTrue\u001b[39;00m\n\u001b[1;32m     30\u001b[0m \u001b[39massert\u001b[39;00m isheterogram(\u001b[39m\"\u001b[39m\u001b[39mthe big dwarf only jump s\u001b[39m\u001b[39m\"\u001b[39m) \u001b[39m==\u001b[39m \u001b[39mTrue\u001b[39;00m\n\u001b[1;32m     31\u001b[0m \u001b[39massert\u001b[39;00m isheterogram(\u001b[39m\"\u001b[39m\u001b[39mgeeksforgeeks\u001b[39m\u001b[39m\"\u001b[39m) \u001b[39m==\u001b[39m \u001b[39mFalse\u001b[39;00m\n",
      "\u001b[0;31mAssertionError\u001b[0m: "
     ]
    }
   ],
   "source": [
    "ALPHABETS = set(\"abcdefghijklmnopqrstuvwxyzABCDEFGHIJKLMNOPQRSTUVWXYZ\")\n",
    "\n",
    "\n",
    "def ispangram(text: str = \"\") -> bool:\n",
    "    \"\"\"\n",
    "    Check if a given text is a pangram or not\n",
    "\n",
    "    A pangram is a sentence in which every letter of the alphabet is used atleast once\n",
    "    \"\"\"\n",
    "    return len(set(text).intersection(ALPHABETS)) == len(ALPHABETS) / 2\n",
    "\n",
    "\n",
    "def isheterogram(text: str = \"\") -> bool:\n",
    "    \"\"\"\n",
    "    Check if a given text is a heterogram or not\n",
    "\n",
    "    A heterogram is a word, phrase or a sentence in which no letter of the alphabet occurs more than once\n",
    "    \"\"\"\n",
    "    return len(set(text).intersection(ALPHABETS)) == len(\n",
    "        tuple(filter(lambda x: x.isalpha(), text))\n",
    "    )\n",
    "\n",
    "\n",
    "assert ispangram(\"the quick brown fox jumps over the lazy dog\") == True\n",
    "assert ispangram(\"geeks for geeks\") == False\n",
    "assert ispangram(\"the big dwarf only jumps\") == False\n",
    "assert ispangram(\"geeksforgeeks\") == False\n",
    "\n",
    "assert isheterogram(\"the quick brown fox jumps over lazy dog\") == True\n",
    "assert isheterogram(\"the big dwarf only jump s\") == True\n",
    "assert isheterogram(\"geeksforgeeks\") == False"
   ]
  },
  {
   "cell_type": "markdown",
   "metadata": {},
   "source": [
    "## Regular Expression"
   ]
  },
  {
   "cell_type": "markdown",
   "metadata": {},
   "source": [
    "Method |\n",
    "---|\n",
    "`re.search()`|\n",
    "`re.match()`|\n",
    "`re.fullmatch()`|\n",
    "`re.split()`|\n",
    "`re.findall()`|"
   ]
  },
  {
   "cell_type": "code",
   "execution_count": 1,
   "metadata": {},
   "outputs": [
    {
     "name": "stdout",
     "output_type": "stream",
     "text": [
      "/home/bivas/devel/projects/python/.venv/lib/python3.10/site-packages/ipykernel_launcher.py --ip=127.0.0.1 --stdin=9003 --control=9001 --hb=9000 --Session.signature_scheme=\"hmac-sha256\" --Session.key=b\"5ccdb368-db0c-42d0-9ffd-af7e2b665f58\" --shell=9002 --transport=\"tcp\" --iopub=9004 --f=/home/bivas/.local/share/jupyter/runtime/kernel-v2-30173EJuFjwrRrFe.json\n"
     ]
    }
   ],
   "source": [
    "import re\n",
    "import sys\n",
    "\n",
    "text = \" \".join(sys.argv)\n",
    "print(text)\n",
    "re.Match()"
   ]
  },
  {
   "cell_type": "markdown",
   "metadata": {},
   "source": [
    "# 29 August 2023"
   ]
  },
  {
   "cell_type": "markdown",
   "metadata": {},
   "source": [
    "## The `numpy` python package"
   ]
  },
  {
   "cell_type": "code",
   "execution_count": 2,
   "metadata": {},
   "outputs": [
    {
     "name": "stdout",
     "output_type": "stream",
     "text": [
      "[1 2 3 4 5]\n",
      "5\n",
      "[1 2 4]\n"
     ]
    },
    {
     "ename": "IndexError",
     "evalue": "index 9 is out of bounds for axis 0 with size 5",
     "output_type": "error",
     "traceback": [
      "\u001b[0;31m---------------------------------------------------------------------------\u001b[0m",
      "\u001b[0;31mIndexError\u001b[0m                                Traceback (most recent call last)",
      "Cell \u001b[0;32mIn[2], line 8\u001b[0m\n\u001b[1;32m      6\u001b[0m \u001b[39mprint\u001b[39m(nparray[\u001b[39m-\u001b[39m\u001b[39m1\u001b[39m])\n\u001b[1;32m      7\u001b[0m \u001b[39mprint\u001b[39m(nparray[[\u001b[39m0\u001b[39m, \u001b[39m1\u001b[39m, \u001b[39m3\u001b[39m]])\n\u001b[0;32m----> 8\u001b[0m \u001b[39mprint\u001b[39m(nparray[\u001b[39m9\u001b[39;49m])\n",
      "\u001b[0;31mIndexError\u001b[0m: index 9 is out of bounds for axis 0 with size 5"
     ]
    }
   ],
   "source": [
    "import numpy\n",
    "\n",
    "nparray = numpy.array([1, 2, 3, 4, 5])\n",
    "\n",
    "print(nparray)\n",
    "print(nparray[-1])\n",
    "print(nparray[[0, 1, 3]])\n",
    "print(nparray[9])"
   ]
  },
  {
   "cell_type": "code",
   "execution_count": 28,
   "metadata": {},
   "outputs": [
    {
     "name": "stdout",
     "output_type": "stream",
     "text": [
      "[1 0 1 2 0 0 1 2 2 1]\n"
     ]
    }
   ],
   "source": [
    "a_random = numpy.random.RandomState(seed=52)\n",
    "x = a_random.randint(3, size=10)\n",
    "print(x)"
   ]
  },
  {
   "cell_type": "code",
   "execution_count": 10,
   "metadata": {},
   "outputs": [
    {
     "name": "stdout",
     "output_type": "stream",
     "text": [
      "[5 7 9]\n"
     ]
    }
   ],
   "source": [
    "another_np_array = numpy.array([[1, 2, 3], [4, 5, 6]])\n",
    "print(numpy.add.reduce(another_np_array))"
   ]
  },
  {
   "cell_type": "code",
   "execution_count": 5,
   "metadata": {},
   "outputs": [
    {
     "name": "stdout",
     "output_type": "stream",
     "text": [
      "Dimension = 1\n",
      "Size = 5\n",
      "Shape = (5,)\n",
      "Data Type = int64\n",
      "Total Size in Bytes = 40\n"
     ]
    }
   ],
   "source": [
    "print(\"Dimension =\", nparray.ndim)\n",
    "print(\"Size =\", nparray.size)\n",
    "print(\"Shape =\", nparray.shape)\n",
    "print(\"Data Type =\", nparray.dtype)\n",
    "print(\"Total Size in Bytes =\", nparray.nbytes)"
   ]
  },
  {
   "cell_type": "markdown",
   "metadata": {},
   "source": [
    "## Reshaping"
   ]
  },
  {
   "cell_type": "code",
   "execution_count": 22,
   "metadata": {},
   "outputs": [
    {
     "data": {
      "text/plain": [
       "array([[ 1,  2],\n",
       "       [ 3,  4],\n",
       "       [10, 11],\n",
       "       [12, 13]])"
      ]
     },
     "execution_count": 22,
     "metadata": {},
     "output_type": "execute_result"
    }
   ],
   "source": [
    "numpy.array([[1, 2, 3, 4], [10, 11, 12, 13]]).reshape((4, 2))"
   ]
  },
  {
   "cell_type": "markdown",
   "metadata": {},
   "source": [
    "## Aranging\n",
    "\n",
    "> `arange()` gives a 1D numpy array, works similarly to Python's `range()`\n",
    "\n",
    "- You can use the Math like notation of matrices for subscripting\n",
    "- Consider a matrix `M(4,4)`\n",
    "- Then indexing like `M[0,0]` will give the element at `Row 1, Column 1`"
   ]
  },
  {
   "cell_type": "code",
   "execution_count": 3,
   "metadata": {},
   "outputs": [
    {
     "name": "stdout",
     "output_type": "stream",
     "text": [
      "[[ 0  1  2  3]\n",
      " [ 4  5  6  7]\n",
      " [ 8  9 10 11]]\n",
      "[[ 8  9 10 11]]\n"
     ]
    }
   ],
   "source": [
    "import numpy\n",
    "\n",
    "a_matrix = numpy.arange(12).reshape((3, 4))\n",
    "print(a_matrix)\n",
    "\n",
    "print(numpy.ix_())"
   ]
  },
  {
   "cell_type": "markdown",
   "metadata": {},
   "source": [
    "## Axis"
   ]
  },
  {
   "cell_type": "code",
   "execution_count": 21,
   "metadata": {},
   "outputs": [
    {
     "name": "stdout",
     "output_type": "stream",
     "text": [
      "[[ 0  1  2  3]\n",
      " [ 4  5  6  7]\n",
      " [ 8  9 10 11]\n",
      " [12 13 14 15]\n",
      " [16 17 18 19]\n",
      " [20 21 22 23]\n",
      " [24 25 26 27]\n",
      " [28 29 30 31]]\n",
      "Matrix Maximum = 31\n",
      "Matrix Minimum = 0\n",
      "Matrix Sum = 496\n",
      "Row Maximum = [28 29 30 31]\n",
      "Column Maximum = [ 3  7 11 15 19 23 27 31]\n",
      "Row Minimum = [0 1 2 3]\n",
      "Column Minimum = [ 0  4  8 12 16 20 24 28]\n",
      "Row Sum = [112 120 128 136]\n",
      "Column Sum = [  6  22  38  54  70  86 102 118]\n"
     ]
    }
   ],
   "source": [
    "import numpy\n",
    "\n",
    "a = numpy.arange(32).reshape(8, 4)\n",
    "print(a)\n",
    "print(\"Matrix Maximum =\", a.max())\n",
    "print(\"Matrix Minimum =\", a.min())\n",
    "print(\"Matrix Sum =\", a.sum())\n",
    "print(\"Row Maximum =\", a.max(axis=0))\n",
    "print(\"Column Maximum =\", a.max(axis=1))\n",
    "print(\"Row Minimum =\", a.min(axis=0))\n",
    "print(\"Column Minimum =\", a.min(axis=1))\n",
    "print(\"Row Sum =\", a.sum(axis=0))\n",
    "print(\"Column Sum =\", a.sum(axis=1))"
   ]
  },
  {
   "cell_type": "markdown",
   "metadata": {},
   "source": [
    "## Operator Overloading for numpy array"
   ]
  },
  {
   "cell_type": "code",
   "execution_count": 28,
   "metadata": {},
   "outputs": [
    {
     "name": "stdout",
     "output_type": "stream",
     "text": [
      "[[1 2 3]\n",
      " [3 2 1]]\n",
      "[[0 0 0]\n",
      " [1 1 1]]\n",
      "A + B = \n",
      " [[1 2 3]\n",
      " [4 3 2]]\n"
     ]
    }
   ],
   "source": [
    "A = numpy.array([[1, 2, 3], [3, 2, 1]])\n",
    "B = numpy.array([[0, 0, 0], [1, 1, 1]])\n",
    "\n",
    "print(A)\n",
    "print(B)\n",
    "print(\"A + B = \\n\", A + B)\n",
    "print(\"A + B = \\n\", A - B)\n",
    "print(\"A + B = \\n\", A * B)\n",
    "# scaler *"
   ]
  },
  {
   "cell_type": "markdown",
   "metadata": {},
   "source": [
    "## Concatenation"
   ]
  },
  {
   "cell_type": "code",
   "execution_count": 27,
   "metadata": {},
   "outputs": [
    {
     "name": "stdout",
     "output_type": "stream",
     "text": [
      "[[1 2 3]\n",
      " [3 2 1]\n",
      " [0 0 0]\n",
      " [1 1 1]]\n",
      "[[1 2 3 0 0 0]\n",
      " [3 2 1 1 1 1]]\n"
     ]
    }
   ],
   "source": [
    "# first column of A and B combined will be the first column of VSTACK and likewise\n",
    "print(numpy.vstack((A, B)))\n",
    "# first row and A and B combined will be the first row of HSTACK and likewise\n",
    "print(numpy.hstack((A, B)))"
   ]
  },
  {
   "cell_type": "markdown",
   "metadata": {},
   "source": [
    "# August 30 2023"
   ]
  },
  {
   "cell_type": "markdown",
   "metadata": {},
   "source": [
    "## `numpy` Array Slicing\n",
    "\n",
    "> `[R]` is by default **Row Major Order**\n",
    "\n",
    "> `[R_start : R_stop : R_step, C_start : C_stop : C_step]`\n",
    "\n",
    "> `start` is  **inclusive**\n",
    "\n",
    "> `stop` is **exclusive**"
   ]
  },
  {
   "cell_type": "code",
   "execution_count": 8,
   "metadata": {},
   "outputs": [
    {
     "name": "stdout",
     "output_type": "stream",
     "text": [
      "[[0 1 2]\n",
      " [3 4 5]\n",
      " [6 7 8]]\n",
      "[[1 2]\n",
      " [4 5]]\n",
      "[6 7 8]\n",
      "[[0 1]\n",
      " [3 4]\n",
      " [6 7]]\n",
      "[[3 4]]\n"
     ]
    }
   ],
   "source": [
    "import numpy\n",
    "\n",
    "array = numpy.arange(9).reshape(3, 3)\n",
    "print(array)\n",
    "\n",
    "# slices the R0:R1, C1:C2\n",
    "print(array[:2, 1:])\n",
    "\n",
    "# slices the R2:C1:C2:C3\n",
    "print(array[2])\n",
    "\n",
    "# slices the R0:R1:R2, C0:C1\n",
    "print(array[:, :2])\n",
    "\n",
    "# slices the R1, C0:C1\n",
    "print(array[1:2, :2])"
   ]
  },
  {
   "cell_type": "markdown",
   "metadata": {},
   "source": [
    "# `numpy` Array Indexing using Boolean Values"
   ]
  },
  {
   "cell_type": "code",
   "execution_count": 3,
   "metadata": {},
   "outputs": [
    {
     "name": "stdout",
     "output_type": "stream",
     "text": [
      "[ True False False False]\n",
      "[False False False False]\n",
      "[False False False False]\n",
      "[False False False  True]\n"
     ]
    }
   ],
   "source": [
    "import numpy\n",
    "\n",
    "names = numpy.array([\"Emma\", \"Wednesday\", \"Bryan\", \"Tiffany\"])\n",
    "\n",
    "print(names == \"Emma\")\n",
    "print(names == \"Witch\")\n",
    "print(names == \"Dylan\")\n",
    "print(names == \"Tiffany\")"
   ]
  },
  {
   "cell_type": "code",
   "execution_count": 20,
   "metadata": {},
   "outputs": [
    {
     "name": "stdout",
     "output_type": "stream",
     "text": [
      "[[ 0  1  2  3  4  5]\n",
      " [10 11 12 13 14 15]\n",
      " [20 21 22 23 24 25]\n",
      " [30 31 32 33 34 35]\n",
      " [40 41 42 43 44 45]\n",
      " [50 51 52 53 54 55]]\n",
      "[ 0 11 22 33 44 55]\n",
      "[[30 32 35]\n",
      " [40 42 45]\n",
      " [50 52 55]]\n",
      "[ 2 22 52]\n"
     ]
    }
   ],
   "source": [
    "import numpy\n",
    "\n",
    "array = numpy.array(\n",
    "    [\n",
    "        numpy.arange(0, 6),\n",
    "        numpy.arange(10, 16),\n",
    "        numpy.arange(20, 26),\n",
    "        numpy.arange(30, 36),\n",
    "        numpy.arange(40, 46),\n",
    "        numpy.arange(50, 56),\n",
    "    ]\n",
    ")\n",
    "print(array)\n",
    "\n",
    "# prime diagonal, you can shift it\n",
    "print(array[(0, 1, 2, 3, 4, 5), (0, 1, 2, 3, 4, 5)])\n",
    "\n",
    "# vector selection\n",
    "print(array[3:, (0, 2, 5)])\n",
    "\n",
    "# singleton selection using a Boolean mask\n",
    "mask = numpy.array([1, 0, 1, 0, 0, 1], dtype=numpy.bool_)\n",
    "print(array[mask, 2])"
   ]
  },
  {
   "cell_type": "markdown",
   "metadata": {},
   "source": [
    "## Fancier slicing"
   ]
  },
  {
   "cell_type": "code",
   "execution_count": 23,
   "metadata": {},
   "outputs": [
    {
     "name": "stdout",
     "output_type": "stream",
     "text": [
      "[[ 0  1  2  3  4  5]\n",
      " [10 11 12 13 14 15]\n",
      " [20 21 22 23 24 25]\n",
      " [30 31 32 33 34 35]\n",
      " [40 41 42 43 44 45]\n",
      " [50 51 52 53 54 55]]\n"
     ]
    }
   ],
   "source": [
    "# same as above\n",
    "\n",
    "# Index using Tuple\n",
    "print(array[(range(6)),])\n",
    "\n",
    "# Index using List\n",
    "\n",
    "# Index using Boolean Array"
   ]
  },
  {
   "cell_type": "markdown",
   "metadata": {},
   "source": [
    "## Sorting `numpy` Array\n",
    "\n",
    "> Using `sort()`\n",
    "\n",
    "> The `arg` `axis` sorts the `numpy.array()` in that COLUMN"
   ]
  },
  {
   "cell_type": "code",
   "execution_count": 49,
   "metadata": {},
   "outputs": [
    {
     "name": "stdout",
     "output_type": "stream",
     "text": [
      "[[ 5 -1  2]\n",
      " [ 4 -3  0]\n",
      " [-2  4  5]]\n",
      "[[-5 -2  1]\n",
      " [-4  0  3]\n",
      " [-5 -4  2]]\n",
      "[[-2 -3  0]\n",
      " [ 4 -1  2]\n",
      " [ 5  4  5]]\n",
      "[[-1  2  5]\n",
      " [-3  0  4]\n",
      " [-2  4  5]]\n",
      "[[-1  2  5]\n",
      " [-3  0  4]\n",
      " [-2  4  5]]\n"
     ]
    }
   ],
   "source": [
    "array = numpy.array(\n",
    "    [\n",
    "        numpy.random.randint(-3, 7, 3),\n",
    "        numpy.random.randint(-3, 7, 3),\n",
    "        numpy.random.randint(-3, 7, 3),\n",
    "    ]\n",
    ")\n",
    "print(array)\n",
    "print(numpy.sort(-array))\n",
    "# Sorts along the C0\n",
    "print(numpy.sort(array, axis=0))\n",
    "# Sorts along the C1\n",
    "print(numpy.sort(array, axis=1))\n",
    "# Sorts along the nth Row\n",
    "print(numpy.sort(array, axis=-1))"
   ]
  },
  {
   "cell_type": "markdown",
   "metadata": {},
   "source": [
    "## The `argsort()`, WHAT?\n",
    "\n",
    "> `argsort()` returns the `indices` that would sort an array [Read more...](https://numpy.org/doc/stable/reference/generated/numpy.argsort.html)"
   ]
  },
  {
   "cell_type": "code",
   "execution_count": 44,
   "metadata": {},
   "outputs": [
    {
     "name": "stdout",
     "output_type": "stream",
     "text": [
      "[[3 1 5 2 0 4 6]\n",
      " [3 4 5 6 0 2 1]]\n"
     ]
    }
   ],
   "source": [
    "print(numpy.argsort(array))"
   ]
  },
  {
   "cell_type": "markdown",
   "metadata": {},
   "source": [
    "## `numpy` **Structured Array**"
   ]
  },
  {
   "cell_type": "code",
   "execution_count": 11,
   "metadata": {},
   "outputs": [
    {
     "name": "stdout",
     "output_type": "stream",
     "text": [
      "[('Ram', 24, False) ('Sita', 24, False) ('Lakshman', 24, False)\n",
      " ('Ravan', 24, False)]\n"
     ]
    }
   ],
   "source": [
    "import numpy\n",
    "\n",
    "structure = numpy.dtype(\n",
    "    [\n",
    "        (\"name\", numpy.unicode_, 64),\n",
    "        (\"age\", numpy.ushort),\n",
    "        (\"alive\", numpy.bool_),\n",
    "    ]\n",
    ")\n",
    "\n",
    "ramayana = numpy.array(\n",
    "    [\n",
    "        (\"Ram\", 24, False),\n",
    "        (\"Sita\", 21, False),\n",
    "        (\"Lakshman\", 23, False),\n",
    "        (\"Ravan\", 54, False),\n",
    "    ],\n",
    "    dtype=structure,\n",
    ")\n",
    "\n",
    "print(ramayana)"
   ]
  },
  {
   "cell_type": "markdown",
   "metadata": {},
   "source": [
    "# 31 August 2023"
   ]
  },
  {
   "cell_type": "markdown",
   "metadata": {},
   "source": [
    "## `Numpy`\n",
    "- `np.where()`   \n",
    "    1. `returns` indices that satisfy the `condition`\n",
    "    2. This acts as a **mask**\n",
    "    3. Apply the **mask** as `numpy.array(mask)`\n",
    "---\n",
    "- Aggregation Functions:    \n",
    "    1. `np.mean()`\n",
    "    2. `np.max()`"
   ]
  },
  {
   "cell_type": "code",
   "execution_count": 22,
   "metadata": {},
   "outputs": [
    {
     "name": "stdout",
     "output_type": "stream",
     "text": [
      "[('Ram', 24, False) ('Sita', 24, False) ('Lakshman', 24, False)\n",
      " ('Ravan', 24, False)]\n"
     ]
    }
   ],
   "source": [
    "import numpy as np\n",
    "\n",
    "ramayana[\"age\"]\n",
    "\n",
    "print(ramayana[np.where(ramayana[\"age\"] > 20)])"
   ]
  },
  {
   "cell_type": "markdown",
   "metadata": {},
   "source": [
    "# 4 September 2023"
   ]
  },
  {
   "cell_type": "markdown",
   "metadata": {},
   "source": [
    "## `Pandas`\n",
    "\n",
    "- ```Series```, for `1D` data\n",
    "- ```DataFrame```, for `2D` data\n",
    "\n",
    "> You can use manual indices"
   ]
  },
  {
   "cell_type": "markdown",
   "metadata": {},
   "source": [
    "## `pandas.Series`"
   ]
  },
  {
   "cell_type": "code",
   "execution_count": 6,
   "metadata": {},
   "outputs": [
    {
     "name": "stdout",
     "output_type": "stream",
     "text": [
      "------------------------------------------------------------------------------\n",
      "(0    0.25\n",
      "1    0.50\n",
      "2    0.75\n",
      "dtype: float64,)\n",
      "------------------------------------------------------------------------------\n",
      "------------------------------------------------------------------------------\n",
      "(array([0.25, 0.5 , 0.75]),)\n",
      "------------------------------------------------------------------------------\n",
      "------------------------------------------------------------------------------\n",
      "(RangeIndex(start=0, stop=3, step=1),)\n",
      "------------------------------------------------------------------------------\n",
      "------------------------------------------------------------------------------\n",
      "(0.25,)\n",
      "------------------------------------------------------------------------------\n",
      "------------------------------------------------------------------------------\n",
      "(0.25,)\n",
      "------------------------------------------------------------------------------\n",
      "------------------------------------------------------------------------------\n",
      "(0.5,)\n",
      "------------------------------------------------------------------------------\n",
      "------------------------------------------------------------------------------\n",
      "(1.0,)\n",
      "------------------------------------------------------------------------------\n"
     ]
    }
   ],
   "source": [
    "from prettier import printf\n",
    "import pandas as pd\n",
    "import numpy as np\n",
    "\n",
    "data = pd.Series(np.array(np.arange(0.25, 1, 0.25)))\n",
    "printf(data)\n",
    "printf(data.values)\n",
    "printf(data.index)\n",
    "printf(data[0])\n",
    "\n",
    "\n",
    "data = pd.Series(np.array(np.arange(0.25, 1.25, 0.25)), index=[10, 20, 30, 40])\n",
    "printf(data[10])\n",
    "\n",
    "data = pd.Series(\n",
    "    np.array(np.arange(0.25, 1.25, 0.25)), index=[\"25%\", \"50%\", \"75%\", 100]\n",
    ")\n",
    "printf(data[\"50%\"])\n",
    "printf(data[100])"
   ]
  },
  {
   "cell_type": "markdown",
   "metadata": {},
   "source": [
    "## `pandas.DataFrame`"
   ]
  },
  {
   "cell_type": "markdown",
   "metadata": {},
   "source": [
    "### Using `List`"
   ]
  },
  {
   "cell_type": "code",
   "execution_count": 5,
   "metadata": {},
   "outputs": [
    {
     "name": "stdout",
     "output_type": "stream",
     "text": [
      "------------------------------------------------------------------------------\n",
      "(            Population   Area\n",
      "California    32497091  32411\n",
      "Texas           213141   2444\n",
      "New York     138971897   7891,)\n",
      "------------------------------------------------------------------------------\n",
      "            Color  Count\n",
      "Mango      yellow     50\n",
      "Apple         red     25\n",
      "Tangerine  orange     90\n"
     ]
    }
   ],
   "source": [
    "from prettier import printf\n",
    "import pandas as pd\n",
    "import numpy as np\n",
    "\n",
    "usa_ca_population = [32497091, 32411]\n",
    "usa_tx_population = [213141, 2444]\n",
    "usa_ny_population = [138971897, 7891]\n",
    "\n",
    "df_population = pd.DataFrame(\n",
    "    [usa_ca_population, usa_tx_population, usa_ny_population],\n",
    "    index=[\"California\", \"Texas\", \"New York\"],\n",
    "    columns=[\"Population\", \"Area\"],\n",
    ")\n",
    "printf(df_population)\n",
    "\n",
    "df_colors = pd.DataFrame(\n",
    "    [[\"yellow\", 50], [\"red\", 25], [\"orange\", 90]],\n",
    "    index=[\"Mango\", \"Apple\", \"Tangerine\"],\n",
    "    columns=[\"Color\", \"Count\"],\n",
    ")\n",
    "print(df_colors)"
   ]
  },
  {
   "cell_type": "markdown",
   "metadata": {},
   "source": [
    "### Using `Dict`"
   ]
  },
  {
   "cell_type": "code",
   "execution_count": 2,
   "metadata": {},
   "outputs": [
    {
     "name": "stdout",
     "output_type": "stream",
     "text": [
      "------------------------------------------------------------------------------\n",
      "(            color count\n",
      "mango      yellow    50\n",
      "apple         red    25\n",
      "peach        pink    75\n",
      "tangerine  orange   100,)\n",
      "------------------------------------------------------------------------------\n",
      "(Index(['mango', 'apple', 'peach', 'tangerine'], dtype='object'),)\n",
      "------------------------------------------------------------------------------\n",
      "(Index(['color', 'count'], dtype='object'),)\n"
     ]
    }
   ],
   "source": [
    "from prettier import printf\n",
    "import pandas as pd\n",
    "\n",
    "fruit_color = {\n",
    "    \"mango\": \"yellow\",\n",
    "    \"apple\": \"red\",\n",
    "    \"peach\": \"pink\",\n",
    "    \"tangerine\": \"orange\",\n",
    "}\n",
    "fruit_count = {\n",
    "    \"mango\": \"50\",\n",
    "    \"apple\": \"25\",\n",
    "    \"peach\": \"75\",\n",
    "    \"tangerine\": \"100\",\n",
    "}\n",
    "\n",
    "fruit = {\"color\": fruit_color, \"count\": fruit_count}\n",
    "df = pd.DataFrame(fruit)\n",
    "printf(df)\n",
    "printf(df.index)\n",
    "printf(df.columns)"
   ]
  },
  {
   "cell_type": "markdown",
   "metadata": {},
   "source": [
    "### `pandas.DataFrame.loc()`\n",
    "\n",
    "> access row using index"
   ]
  },
  {
   "cell_type": "code",
   "execution_count": 3,
   "metadata": {},
   "outputs": [
    {
     "name": "stdout",
     "output_type": "stream",
     "text": [
      "------------------------------------------------------------------------------\n",
      "(       Name        City  Age  Python Score\n",
      "101  Xavier      Mexico   41          88.0\n",
      "102  Xavier     Toronto   28          79.0\n",
      "103  Xavier      Prague   33          81.0\n",
      "104  Xavier    Shanghai   34          80.0\n",
      "105  Xavier  Manchester   38          68.0\n",
      "106  Xavier       Cairo   31          61.0\n",
      "107  Xavier       Osaka   37          84.0,)\n",
      "------------------------------------------------------------------------------\n",
      "------------------------------------------------------------------------------\n",
      "(101        Mexico\n",
      "102       Toronto\n",
      "103        Prague\n",
      "104      Shanghai\n",
      "105    Manchester\n",
      "106         Cairo\n",
      "107         Osaka\n",
      "Name: City, dtype: object,)\n",
      "------------------------------------------------------------------------------\n",
      "------------------------------------------------------------------------------\n",
      "(Name            Xavier\n",
      "City            Prague\n",
      "Age                 33\n",
      "Python Score      81.0\n",
      "Name: 103, dtype: object,)\n",
      "------------------------------------------------------------------------------\n"
     ]
    }
   ],
   "source": [
    "import pandas as pd\n",
    "from prettier import printf\n",
    "\n",
    "city_stats = pd.DataFrame(\n",
    "    [\n",
    "        [\"Xavier\", \"Mexico\", 41, 88.0],\n",
    "        [\"Xavier\", \"Toronto\", 28, 79.0],\n",
    "        [\"Xavier\", \"Prague\", 33, 81.0],\n",
    "        [\"Xavier\", \"Shanghai\", 34, 80.0],\n",
    "        [\"Xavier\", \"Manchester\", 38, 68.0],\n",
    "        [\"Xavier\", \"Cairo\", 31, 61.0],\n",
    "        [\"Xavier\", \"Osaka\", 37, 84.0],\n",
    "    ],\n",
    "    index=[x for x in range(101, 108, 1)],\n",
    "    columns=[\"Name\", \"City\", \"Age\", \"Python Score\"],\n",
    ")\n",
    "\n",
    "printf(city_stats)\n",
    "\n",
    "printf(city_stats[\"City\"])\n",
    "printf(city_stats.loc[103])"
   ]
  },
  {
   "cell_type": "markdown",
   "metadata": {},
   "source": [
    "### using `.` to access column"
   ]
  },
  {
   "cell_type": "code",
   "execution_count": 4,
   "metadata": {},
   "outputs": [
    {
     "name": "stdout",
     "output_type": "stream",
     "text": [
      "------------------------------------------------------------------------------\n",
      "(101    41\n",
      "102    28\n",
      "103    33\n",
      "104    34\n",
      "105    38\n",
      "106    31\n",
      "107    37\n",
      "Name: Age, dtype: int64,)\n",
      "------------------------------------------------------------------------------\n"
     ]
    }
   ],
   "source": [
    "printf(city_stats.Age)"
   ]
  },
  {
   "cell_type": "markdown",
   "metadata": {},
   "source": [
    "### Hierarchical Indexing"
   ]
  },
  {
   "cell_type": "code",
   "execution_count": 15,
   "metadata": {},
   "outputs": [
    {
     "name": "stdout",
     "output_type": "stream",
     "text": [
      "                 Fruit Count\n",
      "(Mango, Yellow)  Mango    25\n",
      "(Mango, Green)   Mango    50\n",
      "(Apple, Red)     Mango   125\n",
      "(Apple, Green)   Mango   225\n",
      "MultiIndex([(('Mango', 'Yellow'),),\n",
      "            ( ('Mango', 'Green'),),\n",
      "            (   ('Apple', 'Red'),),\n",
      "            ( ('Apple', 'Green'),)],\n",
      "           )\n",
      "('Mango', 'Yellow')\n",
      "('Mango', 'Green')\n",
      "('Apple', 'Red')\n",
      "('Apple', 'Green')\n"
     ]
    }
   ],
   "source": [
    "import pandas as pd\n",
    "\n",
    "weird_fruit_index = [\n",
    "    (\"Mango\", \"Yellow\"),\n",
    "    (\"Mango\", \"Green\"),\n",
    "    (\"Apple\", \"Red\"),\n",
    "    (\"Apple\", \"Green\"),\n",
    "]\n",
    "\n",
    "fruits = pd.DataFrame(\n",
    "    [[\"Mango\", \"25\"], [\"Mango\", \"50\"], [\"Mango\", \"125\"], [\"Mango\", \"225\"]],\n",
    "    index=[weird_fruit_index],\n",
    "    columns=[\"Fruit\", \"Count\"],\n",
    ")\n",
    "\n",
    "print(fruits)\n",
    "print(fruits.index)\n",
    "# print(\n",
    "# [i for i in fruits.index if i[1] == 'Green']\n",
    "# )\n",
    "\n",
    "for i in fruits.index:\n",
    "    print(i[0])\n",
    "# index=pd.MultiIndex.from_tuples(weird_fruit_index)\n",
    "# print(index)"
   ]
  },
  {
   "cell_type": "markdown",
   "metadata": {},
   "source": [
    "# 5 September 2023"
   ]
  },
  {
   "cell_type": "markdown",
   "metadata": {},
   "source": [
    "## Handling missing data\n",
    "\n",
    "> Depends on the dataset\n",
    "\n",
    "- Remove the entire tuple with the missing data points\n",
    "- Average\n",
    "- ...\n",
    "\n",
    "> `Numpy's` ```nan``` type deals with this anomaly\n",
    "- However, any operation with a ```nan``` type evaluates to ```nan``` itself.\n",
    "- How do we deal with this then? 🤔\n",
    "\n",
    "> We can, with the following in `pandas`:\n",
    "- ```pandas.Series().fillna(method=?)```\n",
    "- ```ffill```: propagates the previous value to the next `nan`\n",
    "- ```bfill```: propagates the upcoming value to the previous `nan`"
   ]
  },
  {
   "cell_type": "code",
   "execution_count": 6,
   "metadata": {},
   "outputs": [
    {
     "name": "stdout",
     "output_type": "stream",
     "text": [
      "------------------------------------------------------------------------------\n",
      "(0    False\n",
      "1    False\n",
      "2    False\n",
      "3     True\n",
      "4    False\n",
      "5    False\n",
      "6     True\n",
      "dtype: bool,)\n",
      "------------------------------------------------------------------------------\n",
      "------------------------------------------------------------------------------\n",
      "(0     True\n",
      "1     True\n",
      "2     True\n",
      "3    False\n",
      "4     True\n",
      "5     True\n",
      "6    False\n",
      "dtype: bool,)\n",
      "------------------------------------------------------------------------------\n",
      "0     1.0\n",
      "1     2.0\n",
      "2     3.0\n",
      "3     3.0\n",
      "4     0.0\n",
      "5    77.8\n",
      "6    77.8\n",
      "dtype: float64\n",
      "0     1.0\n",
      "1     2.0\n",
      "2     3.0\n",
      "3     0.0\n",
      "4     0.0\n",
      "5    77.8\n",
      "6     NaN\n",
      "dtype: float64\n"
     ]
    }
   ],
   "source": [
    "from prettier import printf\n",
    "import pandas as pd\n",
    "\n",
    "tuple_with_none = pd.Series([1, 2, 3, None, 0, 77.8, None])\n",
    "\n",
    "printf(tuple_with_none.isnull())\n",
    "printf(tuple_with_none.notnull())\n",
    "print(tuple_with_none.fillna(method=\"ffill\"))\n",
    "print(tuple_with_none.fillna(method=\"bfill\"))"
   ]
  },
  {
   "cell_type": "markdown",
   "metadata": {},
   "source": [
    "## Working with a real [dataset](./dataset/president_heights.xlsx)"
   ]
  },
  {
   "cell_type": "markdown",
   "metadata": {},
   "source": [
    "### ```read_excel()``` and ```head()```"
   ]
  },
  {
   "cell_type": "code",
   "execution_count": 3,
   "metadata": {},
   "outputs": [
    {
     "name": "stdout",
     "output_type": "stream",
     "text": [
      "------------------------------------------------------------------------------\n",
      "(   order               name  height(cm)\n",
      "0      1  George Washington         189\n",
      "1      2         John Adams         170\n",
      "2      3   Thomas Jefferson         189\n",
      "3      4      James Madison         163\n",
      "4      5       James Monroe         183,)\n",
      "------------------------------------------------------------------------------\n"
     ]
    }
   ],
   "source": [
    "from prettier import printf\n",
    "import pandas as pd\n",
    "\n",
    "ds = pd.read_excel(\"./dataset/president_heights.xlsx\")\n",
    "printf(ds.head(5))"
   ]
  },
  {
   "cell_type": "markdown",
   "metadata": {},
   "source": [
    "# 11 September 2023"
   ]
  },
  {
   "cell_type": "code",
   "execution_count": 7,
   "metadata": {},
   "outputs": [
    {
     "name": "stdout",
     "output_type": "stream",
     "text": [
      "------------------------------------------------------------------------------\n",
      "(   AGE  HEIGHT  WEIGHT  CHOL   SMOKE BLOOD   MORT\n",
      "0   20     176      77   195  nonsmo     b  alive\n",
      "1   53     167      56   250  sigare     o   dead\n",
      "2   44     170      80   304  sigare     a   dead\n",
      "3   37     173      89   178  nonsmo     o  alive\n",
      "4   26     170      71   206  sigare     o  alive,)\n",
      "------------------------------------------------------------------------------\n",
      "------------------------------------------------------------------------------\n",
      "(AGE       200\n",
      "HEIGHT    200\n",
      "WEIGHT    200\n",
      "CHOL      200\n",
      "SMOKE     200\n",
      "BLOOD     200\n",
      "MORT      200\n",
      "dtype: int64,)\n",
      "------------------------------------------------------------------------------\n",
      "<class 'pandas.core.frame.DataFrame'>\n",
      "RangeIndex: 200 entries, 0 to 199\n",
      "Data columns (total 7 columns):\n",
      " #   Column  Non-Null Count  Dtype \n",
      "---  ------  --------------  ----- \n",
      " 0   AGE     200 non-null    int64 \n",
      " 1   HEIGHT  200 non-null    int64 \n",
      " 2   WEIGHT  200 non-null    int64 \n",
      " 3   CHOL    200 non-null    int64 \n",
      " 4   SMOKE   200 non-null    object\n",
      " 5   BLOOD   200 non-null    object\n",
      " 6   MORT    200 non-null    object\n",
      "dtypes: int64(4), object(3)\n",
      "memory usage: 11.1+ KB\n",
      "None\n"
     ]
    }
   ],
   "source": [
    "import pandas as pd\n",
    "\n",
    "ds = pd.read_excel(\"./dataset/Q8_MortalityDataset.xlsx\")\n",
    "\n",
    "# take a peek at the dataset\n",
    "printf(ds.head(5))\n",
    "\n",
    "printf(ds.count())"
   ]
  },
  {
   "cell_type": "markdown",
   "metadata": {},
   "source": [
    "## ```.info()```\n",
    "\n",
    "> Get some information on the dataset"
   ]
  },
  {
   "cell_type": "code",
   "execution_count": 12,
   "metadata": {},
   "outputs": [
    {
     "name": "stdout",
     "output_type": "stream",
     "text": [
      "<class 'pandas.core.frame.DataFrame'>\n",
      "RangeIndex: 200 entries, 0 to 199\n",
      "Data columns (total 7 columns):\n",
      " #   Column  Non-Null Count  Dtype \n",
      "---  ------  --------------  ----- \n",
      " 0   AGE     200 non-null    int64 \n",
      " 1   HEIGHT  200 non-null    int64 \n",
      " 2   WEIGHT  200 non-null    int64 \n",
      " 3   CHOL    200 non-null    int64 \n",
      " 4   SMOKE   200 non-null    object\n",
      " 5   BLOOD   200 non-null    object\n",
      " 6   MORT    200 non-null    object\n",
      "dtypes: int64(4), object(3)\n",
      "memory usage: 11.1+ KB\n",
      "None\n"
     ]
    }
   ],
   "source": [
    "print(ds.info())"
   ]
  },
  {
   "cell_type": "markdown",
   "metadata": {},
   "source": [
    "## ```.filter()```\n",
    "\n",
    "> filter by ROW(s) or COLUMN(s)"
   ]
  },
  {
   "cell_type": "code",
   "execution_count": 11,
   "metadata": {},
   "outputs": [
    {
     "data": {
      "text/html": [
       "<div>\n",
       "<style scoped>\n",
       "    .dataframe tbody tr th:only-of-type {\n",
       "        vertical-align: middle;\n",
       "    }\n",
       "\n",
       "    .dataframe tbody tr th {\n",
       "        vertical-align: top;\n",
       "    }\n",
       "\n",
       "    .dataframe thead th {\n",
       "        text-align: right;\n",
       "    }\n",
       "</style>\n",
       "<table border=\"1\" class=\"dataframe\">\n",
       "  <thead>\n",
       "    <tr style=\"text-align: right;\">\n",
       "      <th></th>\n",
       "      <th>BLOOD</th>\n",
       "      <th>HEIGHT</th>\n",
       "    </tr>\n",
       "  </thead>\n",
       "  <tbody>\n",
       "    <tr>\n",
       "      <th>0</th>\n",
       "      <td>b</td>\n",
       "      <td>176</td>\n",
       "    </tr>\n",
       "    <tr>\n",
       "      <th>1</th>\n",
       "      <td>o</td>\n",
       "      <td>167</td>\n",
       "    </tr>\n",
       "    <tr>\n",
       "      <th>2</th>\n",
       "      <td>a</td>\n",
       "      <td>170</td>\n",
       "    </tr>\n",
       "    <tr>\n",
       "      <th>3</th>\n",
       "      <td>o</td>\n",
       "      <td>173</td>\n",
       "    </tr>\n",
       "    <tr>\n",
       "      <th>4</th>\n",
       "      <td>o</td>\n",
       "      <td>170</td>\n",
       "    </tr>\n",
       "    <tr>\n",
       "      <th>...</th>\n",
       "      <td>...</td>\n",
       "      <td>...</td>\n",
       "    </tr>\n",
       "    <tr>\n",
       "      <th>195</th>\n",
       "      <td>a</td>\n",
       "      <td>174</td>\n",
       "    </tr>\n",
       "    <tr>\n",
       "      <th>196</th>\n",
       "      <td>b</td>\n",
       "      <td>172</td>\n",
       "    </tr>\n",
       "    <tr>\n",
       "      <th>197</th>\n",
       "      <td>a</td>\n",
       "      <td>170</td>\n",
       "    </tr>\n",
       "    <tr>\n",
       "      <th>198</th>\n",
       "      <td>o</td>\n",
       "      <td>165</td>\n",
       "    </tr>\n",
       "    <tr>\n",
       "      <th>199</th>\n",
       "      <td>b</td>\n",
       "      <td>178</td>\n",
       "    </tr>\n",
       "  </tbody>\n",
       "</table>\n",
       "<p>200 rows × 2 columns</p>\n",
       "</div>"
      ],
      "text/plain": [
       "    BLOOD  HEIGHT\n",
       "0       b     176\n",
       "1       o     167\n",
       "2       a     170\n",
       "3       o     173\n",
       "4       o     170\n",
       "..    ...     ...\n",
       "195     a     174\n",
       "196     b     172\n",
       "197     a     170\n",
       "198     o     165\n",
       "199     b     178\n",
       "\n",
       "[200 rows x 2 columns]"
      ]
     },
     "execution_count": 11,
     "metadata": {},
     "output_type": "execute_result"
    }
   ],
   "source": [
    "ds.filter(items=[\"BLOOD\", \"HEIGHT\"])"
   ]
  },
  {
   "cell_type": "markdown",
   "metadata": {},
   "source": [
    "## ```.describe()```\n",
    "\n",
    "> **Statistical summary** for only **numeric-valued** Column"
   ]
  },
  {
   "cell_type": "code",
   "execution_count": 13,
   "metadata": {},
   "outputs": [
    {
     "data": {
      "text/html": [
       "<div>\n",
       "<style scoped>\n",
       "    .dataframe tbody tr th:only-of-type {\n",
       "        vertical-align: middle;\n",
       "    }\n",
       "\n",
       "    .dataframe tbody tr th {\n",
       "        vertical-align: top;\n",
       "    }\n",
       "\n",
       "    .dataframe thead th {\n",
       "        text-align: right;\n",
       "    }\n",
       "</style>\n",
       "<table border=\"1\" class=\"dataframe\">\n",
       "  <thead>\n",
       "    <tr style=\"text-align: right;\">\n",
       "      <th></th>\n",
       "      <th>AGE</th>\n",
       "      <th>HEIGHT</th>\n",
       "      <th>WEIGHT</th>\n",
       "      <th>CHOL</th>\n",
       "    </tr>\n",
       "  </thead>\n",
       "  <tbody>\n",
       "    <tr>\n",
       "      <th>count</th>\n",
       "      <td>200.000000</td>\n",
       "      <td>200.00000</td>\n",
       "      <td>200.000000</td>\n",
       "      <td>200.000000</td>\n",
       "    </tr>\n",
       "    <tr>\n",
       "      <th>mean</th>\n",
       "      <td>35.715000</td>\n",
       "      <td>172.35000</td>\n",
       "      <td>75.885000</td>\n",
       "      <td>233.600000</td>\n",
       "    </tr>\n",
       "    <tr>\n",
       "      <th>std</th>\n",
       "      <td>9.604426</td>\n",
       "      <td>6.77399</td>\n",
       "      <td>10.442076</td>\n",
       "      <td>44.766732</td>\n",
       "    </tr>\n",
       "    <tr>\n",
       "      <th>min</th>\n",
       "      <td>18.000000</td>\n",
       "      <td>156.00000</td>\n",
       "      <td>53.000000</td>\n",
       "      <td>107.000000</td>\n",
       "    </tr>\n",
       "    <tr>\n",
       "      <th>25%</th>\n",
       "      <td>28.750000</td>\n",
       "      <td>168.00000</td>\n",
       "      <td>68.750000</td>\n",
       "      <td>204.000000</td>\n",
       "    </tr>\n",
       "    <tr>\n",
       "      <th>50%</th>\n",
       "      <td>37.000000</td>\n",
       "      <td>172.00000</td>\n",
       "      <td>75.000000</td>\n",
       "      <td>232.000000</td>\n",
       "    </tr>\n",
       "    <tr>\n",
       "      <th>75%</th>\n",
       "      <td>42.000000</td>\n",
       "      <td>176.00000</td>\n",
       "      <td>82.000000</td>\n",
       "      <td>259.000000</td>\n",
       "    </tr>\n",
       "    <tr>\n",
       "      <th>max</th>\n",
       "      <td>58.000000</td>\n",
       "      <td>191.00000</td>\n",
       "      <td>110.000000</td>\n",
       "      <td>455.000000</td>\n",
       "    </tr>\n",
       "  </tbody>\n",
       "</table>\n",
       "</div>"
      ],
      "text/plain": [
       "              AGE     HEIGHT      WEIGHT        CHOL\n",
       "count  200.000000  200.00000  200.000000  200.000000\n",
       "mean    35.715000  172.35000   75.885000  233.600000\n",
       "std      9.604426    6.77399   10.442076   44.766732\n",
       "min     18.000000  156.00000   53.000000  107.000000\n",
       "25%     28.750000  168.00000   68.750000  204.000000\n",
       "50%     37.000000  172.00000   75.000000  232.000000\n",
       "75%     42.000000  176.00000   82.000000  259.000000\n",
       "max     58.000000  191.00000  110.000000  455.000000"
      ]
     },
     "execution_count": 13,
     "metadata": {},
     "output_type": "execute_result"
    }
   ],
   "source": [
    "ds.describe()"
   ]
  },
  {
   "cell_type": "markdown",
   "metadata": {},
   "source": [
    "## \n",
    "```python\n",
    "@property\n",
    ".shape\n",
    "```\n",
    "\n",
    "> `=> (R, C)`"
   ]
  },
  {
   "cell_type": "code",
   "execution_count": 14,
   "metadata": {},
   "outputs": [
    {
     "data": {
      "text/plain": [
       "(200, 7)"
      ]
     },
     "execution_count": 14,
     "metadata": {},
     "output_type": "execute_result"
    }
   ],
   "source": [
    "ds.shape"
   ]
  },
  {
   "cell_type": "markdown",
   "metadata": {},
   "source": [
    "## ```.sample()```\n",
    "\n",
    "> Randomly pick `n` records from the dataset for sampling"
   ]
  },
  {
   "cell_type": "code",
   "execution_count": 15,
   "metadata": {},
   "outputs": [
    {
     "name": "stdout",
     "output_type": "stream",
     "text": [
      "     AGE  HEIGHT  WEIGHT  CHOL   SMOKE BLOOD   MORT\n",
      "155   38     169      73   198  sigare     a  alive\n",
      "114   48     164      67   325  sigare     a  alive\n",
      "17    30     181      74   191  nonsmo     a  alive\n",
      "47    42     170      78   218  sigare     o  alive\n",
      "48    28     169      96   189    pipe     b  alive\n",
      "64    40     172      93   287  sigare     b   dead\n",
      "73    34     170      69   207  sigare     b  alive\n",
      "65    50     167      65   240  sigare     b  alive\n",
      "109   36     170      81   190  nonsmo     o   dead\n",
      "33    34     179      79   214  sigare     a  alive\n"
     ]
    }
   ],
   "source": [
    "ds_sample = ds.sample(n=10)\n",
    "print(ds_sample)"
   ]
  },
  {
   "cell_type": "markdown",
   "metadata": {},
   "source": [
    "## \n",
    "```python\n",
    "@propery\n",
    ".iloc\n",
    "```\n",
    "\n",
    "> Integer-based location\n",
    "\n",
    "> Can take `range` like notation"
   ]
  },
  {
   "cell_type": "code",
   "execution_count": 25,
   "metadata": {},
   "outputs": [
    {
     "name": "stdout",
     "output_type": "stream",
     "text": [
      "------------------------------------------------------------------------------\n",
      "(AGE           34\n",
      "HEIGHT       179\n",
      "WEIGHT        79\n",
      "CHOL         214\n",
      "SMOKE     sigare\n",
      "BLOOD          a\n",
      "MORT       alive\n",
      "Name: 33, dtype: object,)\n",
      "------------------------------------------------------------------------------\n",
      "------------------------------------------------------------------------------\n",
      "(    AGE  HEIGHT  WEIGHT  CHOL   SMOKE BLOOD   MORT\n",
      "33   34     179      79   214  sigare     a  alive,)\n",
      "------------------------------------------------------------------------------\n",
      "------------------------------------------------------------------------------\n",
      "(   HEIGHT  WEIGHT\n",
      "0     176      77\n",
      "1     167      56,)\n",
      "------------------------------------------------------------------------------\n",
      "------------------------------------------------------------------------------\n",
      "(   AGE  HEIGHT  WEIGHT  CHOL   SMOKE BLOOD   MORT\n",
      "0   20     176      77   195  nonsmo     b  alive\n",
      "1   53     167      56   250  sigare     o   dead,)\n",
      "------------------------------------------------------------------------------\n"
     ]
    }
   ],
   "source": [
    "printf(ds.iloc[33])\n",
    "printf(ds.iloc[[33]])  # notice the inner `[]`\n",
    "printf(ds.iloc[0:2, 1:3])\n",
    "printf(ds.iloc[[0, 1]])"
   ]
  },
  {
   "cell_type": "markdown",
   "metadata": {},
   "source": [
    "## ```.groupby()```\n",
    "\n",
    "> Groups the record according to the given column names"
   ]
  },
  {
   "cell_type": "code",
   "execution_count": 32,
   "metadata": {},
   "outputs": [
    {
     "name": "stdout",
     "output_type": "stream",
     "text": [
      "------------------------------------------------------------------------------\n",
      "(                     AGE      HEIGHT  WEIGHT        CHOL\n",
      "SMOKE  BLOOD MORT                                       \n",
      "nonsmo a     alive  30.0  181.000000    74.0  191.000000\n",
      "       o     dead   36.0  170.000000    81.0  190.000000\n",
      "pipe   b     alive  28.0  169.000000    96.0  189.000000\n",
      "sigare a     alive  40.0  170.666667    73.0  245.666667\n",
      "       b     alive  42.0  168.500000    67.0  223.500000\n",
      "             dead   40.0  172.000000    93.0  287.000000\n",
      "       o     alive  42.0  170.000000    78.0  218.000000,)\n",
      "------------------------------------------------------------------------------\n",
      "------------------------------------------------------------------------------\n",
      "(SMOKE   BLOOD  MORT \n",
      "nonsmo  a      alive    1\n",
      "        o      dead     1\n",
      "pipe    b      alive    1\n",
      "sigare  a      alive    3\n",
      "        b      alive    2\n",
      "               dead     1\n",
      "        o      alive    1\n",
      "dtype: int64,)\n",
      "------------------------------------------------------------------------------\n"
     ]
    }
   ],
   "source": [
    "printf(ds_sample.groupby(by=[\"SMOKE\", \"BLOOD\", \"MORT\"]).mean())\n",
    "printf(ds_sample.groupby(by=[\"SMOKE\", \"BLOOD\", \"MORT\"]).size())"
   ]
  },
  {
   "cell_type": "markdown",
   "metadata": {},
   "source": [
    "# Plotting"
   ]
  },
  {
   "cell_type": "code",
   "execution_count": 10,
   "metadata": {},
   "outputs": [
    {
     "name": "stdout",
     "output_type": "stream",
     "text": [
      "                   Id                                                        \\\n",
      "                count   mean       std    min     25%    50%     75%    max   \n",
      "Species                                                                       \n",
      "Iris-setosa      50.0   25.5  14.57738    1.0   13.25   25.5   37.75   50.0   \n",
      "Iris-versicolor  50.0   75.5  14.57738   51.0   63.25   75.5   87.75  100.0   \n",
      "Iris-virginica   50.0  125.5  14.57738  101.0  113.25  125.5  137.75  150.0   \n",
      "\n",
      "                SepalLengthCm         ... PetalLengthCm      PetalWidthCm  \\\n",
      "                        count   mean  ...           75%  max        count   \n",
      "Species                               ...                                   \n",
      "Iris-setosa              50.0  5.006  ...         1.575  1.9         50.0   \n",
      "Iris-versicolor          50.0  5.936  ...         4.600  5.1         50.0   \n",
      "Iris-virginica           50.0  6.588  ...         5.875  6.9         50.0   \n",
      "\n",
      "                                                           \n",
      "                  mean       std  min  25%  50%  75%  max  \n",
      "Species                                                    \n",
      "Iris-setosa      0.244  0.107210  0.1  0.2  0.2  0.3  0.6  \n",
      "Iris-versicolor  1.326  0.197753  1.0  1.2  1.3  1.5  1.8  \n",
      "Iris-virginica   2.026  0.274650  1.4  1.8  2.0  2.3  2.5  \n",
      "\n",
      "[3 rows x 40 columns]\n"
     ]
    }
   ],
   "source": [
    "import pandas as pd\n",
    "from matplotlib import pyplot as plt\n",
    "\n",
    "# load the dataset\n",
    "df = pd.read_csv(\"./dataset/Iris.csv\")\n",
    "# print(df.head(5))\n",
    "# print(df.describe())\n",
    "print(df.groupby(by=\"Species\").describe())"
   ]
  },
  {
   "cell_type": "markdown",
   "metadata": {},
   "source": [
    "## Histogram\n",
    "\n",
    "> 2D"
   ]
  },
  {
   "cell_type": "markdown",
   "metadata": {},
   "source": [
    "# 12 September 2023"
   ]
  },
  {
   "cell_type": "markdown",
   "metadata": {},
   "source": [
    "## Scatter Plot\n",
    "\n",
    "> 2D"
   ]
  },
  {
   "cell_type": "code",
   "execution_count": 17,
   "metadata": {},
   "outputs": [
    {
     "data": {
      "text/plain": [
       "<Axes: xlabel='SepalLengthCm', ylabel='SepalWidthCm'>"
      ]
     },
     "execution_count": 17,
     "metadata": {},
     "output_type": "execute_result"
    },
    {
     "data": {
      "image/png": "[encoded data removed]",
      "text/plain": [
       "<Figure size 640x480 with 1 Axes>"
      ]
     },
     "metadata": {},
     "output_type": "display_data"
    }
   ],
   "source": [
    "df.plot(\n",
    "    x=\"SepalLengthCm\",\n",
    "    y=\"SepalWidthCm\",\n",
    "    kind=\"scatter\",\n",
    "    label=\"Iris setosa\",\n",
    "    color=\"#9A0089\",\n",
    ")\n",
    "# p.set_title('Scatter Plot for Iris setosa')\n",
    "# p."
   ]
  },
  {
   "cell_type": "markdown",
   "metadata": {},
   "source": [
    "## Line Plot\n",
    "\n",
    "> A continuous plot"
   ]
  },
  {
   "cell_type": "code",
   "execution_count": 33,
   "metadata": {},
   "outputs": [
    {
     "ename": "IndexError",
     "evalue": "only integers, slices (`:`), ellipsis (`...`), numpy.newaxis (`None`) and integer or boolean arrays are valid indices",
     "output_type": "error",
     "traceback": [
      "\u001b[0;31m---------------------------------------------------------------------------\u001b[0m",
      "\u001b[0;31mIndexError\u001b[0m                                Traceback (most recent call last)",
      "\u001b[1;32m/home/bivas/devel/projects/python/lecture.ipynb Cell 248\u001b[0m line \u001b[0;36m1\n\u001b[1;32m      <a href='vscode-notebook-cell://wsl%2Bubuntu/home/bivas/devel/projects/python/lecture.ipynb#Y520sdnNjb2RlLXJlbW90ZQ%3D%3D?line=7'>8</a>\u001b[0m     species \u001b[39m=\u001b[39m df\u001b[39m.\u001b[39mcolumns[\u001b[39m'\u001b[39m\u001b[39mSpecies\u001b[39m\u001b[39m'\u001b[39m]\n\u001b[1;32m      <a href='vscode-notebook-cell://wsl%2Bubuntu/home/bivas/devel/projects/python/lecture.ipynb#Y520sdnNjb2RlLXJlbW90ZQ%3D%3D?line=8'>9</a>\u001b[0m     \u001b[39mprint\u001b[39m(species)\n\u001b[0;32m---> <a href='vscode-notebook-cell://wsl%2Bubuntu/home/bivas/devel/projects/python/lecture.ipynb#Y520sdnNjb2RlLXJlbW90ZQ%3D%3D?line=10'>11</a>\u001b[0m comapreIrisAsLinePlot()\n\u001b[1;32m     <a href='vscode-notebook-cell://wsl%2Bubuntu/home/bivas/devel/projects/python/lecture.ipynb#Y520sdnNjb2RlLXJlbW90ZQ%3D%3D?line=12'>13</a>\u001b[0m     \u001b[39m# p = df[\"SepalWidthCm\"].plot(\u001b[39;00m\n\u001b[1;32m     <a href='vscode-notebook-cell://wsl%2Bubuntu/home/bivas/devel/projects/python/lecture.ipynb#Y520sdnNjb2RlLXJlbW90ZQ%3D%3D?line=13'>14</a>\u001b[0m     \u001b[39m# kind=\"line\", label=\"Iris setosa\", color=\"#9A0089\", linewidth=\"1.5\", ls=\"solid\"\u001b[39;00m\n\u001b[1;32m     <a href='vscode-notebook-cell://wsl%2Bubuntu/home/bivas/devel/projects/python/lecture.ipynb#Y520sdnNjb2RlLXJlbW90ZQ%3D%3D?line=14'>15</a>\u001b[0m     \u001b[39m# )\u001b[39;00m\n\u001b[1;32m     <a href='vscode-notebook-cell://wsl%2Bubuntu/home/bivas/devel/projects/python/lecture.ipynb#Y520sdnNjb2RlLXJlbW90ZQ%3D%3D?line=15'>16</a>\u001b[0m     \u001b[39m# p.set_title(\"Line Plot for Iris setosa\")\u001b[39;00m\n",
      "\u001b[1;32m/home/bivas/devel/projects/python/lecture.ipynb Cell 248\u001b[0m line \u001b[0;36m8\n\u001b[1;32m      <a href='vscode-notebook-cell://wsl%2Bubuntu/home/bivas/devel/projects/python/lecture.ipynb#Y520sdnNjb2RlLXJlbW90ZQ%3D%3D?line=6'>7</a>\u001b[0m \u001b[39mdef\u001b[39;00m \u001b[39mcomapreIrisAsLinePlot\u001b[39m(title:\u001b[39mstr\u001b[39m\u001b[39m=\u001b[39m\u001b[39mNone\u001b[39;00m, colors:[\u001b[39m3\u001b[39m]\u001b[39m=\u001b[39m\u001b[39mNone\u001b[39;00m):\n\u001b[0;32m----> <a href='vscode-notebook-cell://wsl%2Bubuntu/home/bivas/devel/projects/python/lecture.ipynb#Y520sdnNjb2RlLXJlbW90ZQ%3D%3D?line=7'>8</a>\u001b[0m     species \u001b[39m=\u001b[39m df\u001b[39m.\u001b[39;49mcolumns[\u001b[39m'\u001b[39;49m\u001b[39mSpecies\u001b[39;49m\u001b[39m'\u001b[39;49m]\n\u001b[1;32m      <a href='vscode-notebook-cell://wsl%2Bubuntu/home/bivas/devel/projects/python/lecture.ipynb#Y520sdnNjb2RlLXJlbW90ZQ%3D%3D?line=8'>9</a>\u001b[0m     \u001b[39mprint\u001b[39m(species)\n",
      "File \u001b[0;32m~/devel/projects/python/venv/lib/python3.10/site-packages/pandas/core/indexes/base.py:5196\u001b[0m, in \u001b[0;36mIndex.__getitem__\u001b[0;34m(self, key)\u001b[0m\n\u001b[1;32m   5193\u001b[0m     \u001b[39melse\u001b[39;00m:\n\u001b[1;32m   5194\u001b[0m         key \u001b[39m=\u001b[39m np\u001b[39m.\u001b[39masarray(key, dtype\u001b[39m=\u001b[39m\u001b[39mbool\u001b[39m)\n\u001b[0;32m-> 5196\u001b[0m result \u001b[39m=\u001b[39m getitem(key)\n\u001b[1;32m   5197\u001b[0m \u001b[39m# Because we ruled out integer above, we always get an arraylike here\u001b[39;00m\n\u001b[1;32m   5198\u001b[0m \u001b[39mif\u001b[39;00m result\u001b[39m.\u001b[39mndim \u001b[39m>\u001b[39m \u001b[39m1\u001b[39m:\n",
      "\u001b[0;31mIndexError\u001b[0m: only integers, slices (`:`), ellipsis (`...`), numpy.newaxis (`None`) and integer or boolean arrays are valid indices"
     ]
    },
    {
     "data": {
      "image/png": "[encoded data removed]",
      "text/plain": [
       "<Figure size 640x480 with 1 Axes>"
      ]
     },
     "metadata": {},
     "output_type": "display_data"
    }
   ],
   "source": [
    "p = df[\"SepalWidthCm\"].plot(\n",
    "    kind=\"line\", label=\"Iris setosa\", color=\"#9A0089\", linewidth=\"1.5\", ls=\"solid\"\n",
    ")\n",
    "p.set_title(\"Line Plot for Iris setosa\")\n",
    "p.axis([0, 50, 2, 5])  # check data\n",
    "\n",
    "\n",
    "def comapreIrisAsLinePlot(title: str = None, colors: [3] = None):\n",
    "    species = df.columns[\"Species\"]\n",
    "    print(species)\n",
    "\n",
    "\n",
    "comapreIrisAsLinePlot()\n",
    "\n",
    "# p = df[\"SepalWidthCm\"].plot(\n",
    "# kind=\"line\", label=\"Iris setosa\", color=\"#9A0089\", linewidth=\"1.5\", ls=\"solid\"\n",
    "# )\n",
    "# p.set_title(\"Line Plot for Iris setosa\")"
   ]
  },
  {
   "cell_type": "markdown",
   "metadata": {},
   "source": [
    "## Area Plot\n"
   ]
  },
  {
   "cell_type": "code",
   "execution_count": 43,
   "metadata": {},
   "outputs": [
    {
     "ename": "ValueError",
     "evalue": "The truth value of a DataFrame is ambiguous. Use a.empty, a.bool(), a.item(), a.any() or a.all().",
     "output_type": "error",
     "traceback": [
      "\u001b[0;31m---------------------------------------------------------------------------\u001b[0m",
      "\u001b[0;31mValueError\u001b[0m                                Traceback (most recent call last)",
      "\u001b[0;32m/tmp/ipykernel_863/2253120530.py\u001b[0m in \u001b[0;36m?\u001b[0;34m()\u001b[0m\n\u001b[0;32m----> 1\u001b[0;31m Iris_species = [\n\u001b[0m\u001b[1;32m      2\u001b[0m     \u001b[0mspecie\u001b[0m \u001b[0;32mfor\u001b[0m \u001b[0mspecie\u001b[0m \u001b[0;32min\u001b[0m \u001b[0;34m(\u001b[0m\u001b[0;34m'Iris-setosa'\u001b[0m\u001b[0;34m,\u001b[0m \u001b[0;34m'Iris-versicolor'\u001b[0m\u001b[0;34m,\u001b[0m \u001b[0;34m'Iris-virginica'\u001b[0m\u001b[0;34m)\u001b[0m \u001b[0;32mif\u001b[0m \u001b[0mdf\u001b[0m\u001b[0;34m[\u001b[0m\u001b[0mdf\u001b[0m\u001b[0;34m[\u001b[0m\u001b[0;34m'Species'\u001b[0m\u001b[0;34m]\u001b[0m \u001b[0;34m==\u001b[0m \u001b[0mspecie\u001b[0m\u001b[0;34m]\u001b[0m\u001b[0;34m\u001b[0m\u001b[0;34m\u001b[0m\u001b[0m\n\u001b[1;32m      3\u001b[0m ]\n\u001b[1;32m      4\u001b[0m \u001b[0mprint\u001b[0m\u001b[0;34m(\u001b[0m\u001b[0mIris_species\u001b[0m\u001b[0;34m)\u001b[0m\u001b[0;34m\u001b[0m\u001b[0;34m\u001b[0m\u001b[0m\n",
      "\u001b[0;32m/tmp/ipykernel_863/2253120530.py\u001b[0m in \u001b[0;36m?\u001b[0;34m(.0)\u001b[0m\n\u001b[0;32m----> 1\u001b[0;31m Iris_species = [\n\u001b[0m",
      "\u001b[0;32m~/devel/projects/python/venv/lib/python3.10/site-packages/pandas/core/generic.py\u001b[0m in \u001b[0;36m?\u001b[0;34m(self)\u001b[0m\n\u001b[1;32m   1464\u001b[0m     \u001b[0;34m@\u001b[0m\u001b[0mfinal\u001b[0m\u001b[0;34m\u001b[0m\u001b[0;34m\u001b[0m\u001b[0m\n\u001b[1;32m   1465\u001b[0m     \u001b[0;32mdef\u001b[0m \u001b[0m__nonzero__\u001b[0m\u001b[0;34m(\u001b[0m\u001b[0mself\u001b[0m\u001b[0;34m)\u001b[0m \u001b[0;34m->\u001b[0m \u001b[0mNoReturn\u001b[0m\u001b[0;34m:\u001b[0m\u001b[0;34m\u001b[0m\u001b[0;34m\u001b[0m\u001b[0m\n\u001b[0;32m-> 1466\u001b[0;31m         raise ValueError(\n\u001b[0m\u001b[1;32m   1467\u001b[0m             \u001b[0;34mf\"The truth value of a {type(self).__name__} is ambiguous. \"\u001b[0m\u001b[0;34m\u001b[0m\u001b[0;34m\u001b[0m\u001b[0m\n\u001b[1;32m   1468\u001b[0m             \u001b[0;34m\"Use a.empty, a.bool(), a.item(), a.any() or a.all().\"\u001b[0m\u001b[0;34m\u001b[0m\u001b[0;34m\u001b[0m\u001b[0m\n\u001b[1;32m   1469\u001b[0m         )\n",
      "\u001b[0;31mValueError\u001b[0m: The truth value of a DataFrame is ambiguous. Use a.empty, a.bool(), a.item(), a.any() or a.all()."
     ]
    }
   ],
   "source": [
    "Iris_species = (\"Iris-setosa\", \"Iris-versicolor\", \"Iris-virginica\")\n",
    "for specie in Iris_species:\n",
    "    df_specie\n",
    "    df.drop(columns=\"Id\").plot.area(stacked=False)"
   ]
  },
  {
   "cell_type": "markdown",
   "metadata": {},
   "source": [
    "# 19 September 2023"
   ]
  },
  {
   "cell_type": "markdown",
   "metadata": {},
   "source": [
    "## **Tkinter**\n",
    "\n",
    "> The annoying GUI library for Python"
   ]
  },
  {
   "cell_type": "code",
   "execution_count": 20,
   "metadata": {},
   "outputs": [
    {
     "name": "stdout",
     "output_type": "stream",
     "text": [
      "hello\n",
      "hello\n",
      "hello\n",
      "hello\n",
      "hello\n",
      "hello\n",
      "hello\n",
      "hello\n",
      "hello\n",
      "hello\n",
      "hello\n",
      "hello\n",
      "hello\n",
      "hello\n"
     ]
    }
   ],
   "source": [
    "import tkinter as tk\n",
    "\n",
    "\n",
    "class State(tk.Widget):\n",
    "    def __init__(self, master, widgetName, cnf=..., kw=..., extra=...) -> None:\n",
    "        super().__init__(master, widgetName, cnf, kw, extra)\n",
    "\n",
    "\n",
    "class UseState(State):\n",
    "    def __init__(self, master, widgetName, cnf=..., kw=..., extra=...) -> None:\n",
    "        super().__init__(master, widgetName, cnf, kw, extra)\n",
    "\n",
    "\n",
    "app = tk.Tk()\n",
    "app.geometry(\"400x350\")\n",
    "app.rowconfigure(0, weight=1)\n",
    "app.rowconfigure(1, weight=1)\n",
    "app.rowconfigure(2, weight=1)\n",
    "app.columnconfigure(0, weight=1)\n",
    "app.columnconfigure(1, weight=1)\n",
    "app.columnconfigure(2, weight=1)\n",
    "label = tk.Label(master=app, text=\"0\")\n",
    "label.grid(row=1, column=1, sticky=\"nsew\")\n",
    "counter = tk.Button(master=app, text=\"Count\", command=lambda: print(\"hello\"))\n",
    "counter.grid(row=2, column=2, ipadx=2, ipady=8, sticky=\"se\", padx=8, pady=8)\n",
    "app.mainloop()"
   ]
  },
  {
   "cell_type": "code",
   "execution_count": 49,
   "metadata": {},
   "outputs": [],
   "source": [
    "import tkinter as tk\n",
    "from tkinter import ttk\n",
    "\n",
    "\n",
    "def viewRegistrationForm(root: tk.Tk):\n",
    "    title_label = ttk.Label(master=root, text=\"Registration Form\")\n",
    "    title_label.grid(row=0, column=0)\n",
    "\n",
    "    form_frame = ttk.Frame(master=root)\n",
    "    form_frame.grid(row=1, column=0)\n",
    "    form_frame.rowconfigure(0, weight=1)\n",
    "    form_frame.rowconfigure(1, weight=1)\n",
    "    form_frame.rowconfigure(2, weight=1)\n",
    "    form_frame.columnconfigure(0, weight=1)\n",
    "    form_frame.columnconfigure(1, weight=1)\n",
    "\n",
    "    name_label = ttk.Label(master=form_frame, text=\"Name\")\n",
    "    name_label.grid(row=0, column=0, sticky=\"w\", padx=8, pady=12)\n",
    "    name_entry = ttk.Entry(master=form_frame)\n",
    "    name_entry.grid(row=0, column=1, sticky=\"e\")\n",
    "\n",
    "    email_label = ttk.Label(master=form_frame, text=\"Email\")\n",
    "    email_label.grid(row=1, column=0, sticky=\"w\", padx=8, pady=12)\n",
    "    email_entry = ttk.Entry(master=form_frame)\n",
    "    email_entry.grid(row=1, column=1, sticky=\"e\")\n",
    "\n",
    "    gender_label = ttk.Label(master=form_frame, text=\"Gender\")\n",
    "    gender_label.grid(row=2, column=0, sticky=\"w\")\n",
    "    gender_var = tk.StringVar()\n",
    "    row = 2\n",
    "    for gender in (\"Male\", \"Female\", \"Other\"):\n",
    "        ttk.Radiobutton(\n",
    "            master=form_frame,\n",
    "            text=gender,\n",
    "            value=\"\",\n",
    "            variable=gender_var,\n",
    "        ).grid(\n",
    "            row=row,\n",
    "            column=1,\n",
    "            sticky=\"w\",\n",
    "            pady=8,\n",
    "        )\n",
    "        row += 1\n",
    "    country_label = ttk.Label(master=form_frame, text=\"Nationality\")\n",
    "    country_label.grid(row=row, column=0, sticky=\"e\")\n",
    "    country_var = tk.StringVar()\n",
    "    countries = [\"India\", \"USA\", \"UK\", \"UAE\"]\n",
    "    country_optionmenu = ttk.OptionMenu(\n",
    "        master=form_frame, variable=country_var, default=countries[1]\n",
    "    )\n",
    "    country_optionmenu.set_menu(*countries)\n",
    "    country_optionmenu.grid(row=row, column=1)\n",
    "    submit_button = ttk.Button(master=root, text=\"Submit\")\n",
    "    submit_button.grid(row=2, column=0)\n",
    "\n",
    "\n",
    "app = tk.Tk()\n",
    "\n",
    "app.minsize(1280, 720)\n",
    "app.rowconfigure(0, weight=1)\n",
    "app.rowconfigure(1, weight=1)\n",
    "app.rowconfigure(2, weight=1)\n",
    "app.columnconfigure(0, weight=1)\n",
    "\n",
    "viewRegistrationForm(app)\n",
    "\n",
    "app.mainloop()"
   ]
  },
  {
   "cell_type": "markdown",
   "metadata": {},
   "source": [
    "# 21 September 2023"
   ]
  },
  {
   "cell_type": "code",
   "execution_count": 74,
   "metadata": {},
   "outputs": [],
   "source": [
    "import tkinter as tk\n",
    "import tkinter.ttk as ttk\n",
    "\n",
    "app = tk.Tk()\n",
    "app.title(\"Calculator\")\n",
    "\n",
    "app.rowconfigure(0, weight=1)\n",
    "app.rowconfigure(1, weight=1)\n",
    "app.rowconfigure(2, weight=1)\n",
    "app.rowconfigure(3, weight=1)\n",
    "\n",
    "app.columnconfigure(0, weight=1)\n",
    "app.columnconfigure(1, weight=1)\n",
    "\n",
    "\n",
    "operand1 = tk.IntVar()\n",
    "\n",
    "operand1_label = ttk.Label(master=app, text=\"Enter a number\")\n",
    "operand1_label.grid(row=0, column=0, sticky=\"w\")\n",
    "\n",
    "operand1_entry = ttk.Entry(master=app, textvariable=operand1)\n",
    "operand1_entry.grid(row=0, column=1)\n",
    "\n",
    "operand2 = tk.IntVar()\n",
    "\n",
    "operand2_label = ttk.Label(master=app, text=\"Enter another number\")\n",
    "operand2_label.grid(row=1, column=0, sticky=\"w\")\n",
    "\n",
    "operand2_entry = ttk.Entry(master=app, textvariable=operand2)\n",
    "operand2_entry.grid(row=1, column=1)\n",
    "\n",
    "result_label = ttk.Label(master=app, text=\"Result\")\n",
    "result_label.grid(row=2, column=0, sticky=\"w\")\n",
    "\n",
    "result = tk.IntVar()\n",
    "result_entry = ttk.Entry(master=app, textvariable=result)\n",
    "result_entry.grid(row=2, column=1)\n",
    "\n",
    "\n",
    "def commandAdd(result: tk.IntVar):\n",
    "    result.set(value=operand1.get() + operand2.get())\n",
    "\n",
    "\n",
    "operator_button = ttk.Button(\n",
    "    master=app, text=\"+\", command=lambda: commandAdd(result=result)\n",
    ")\n",
    "operator_button.grid(row=3, column=0, columnspan=2)\n",
    "\n",
    "app.mainloop()"
   ]
  }
 ],
 "metadata": {
  "kernelspec": {
   "display_name": "Python 3",
   "language": "python",
   "name": "python3"
  },
  "language_info": {
   "codemirror_mode": {
    "name": "ipython",
    "version": 3
   },
   "file_extension": ".py",
   "mimetype": "text/x-python",
   "name": "python",
   "nbconvert_exporter": "python",
   "pygments_lexer": "ipython3",
   "version": "3.10.12"
  },
  "orig_nbformat": 4
 },
 "nbformat": 4,
 "nbformat_minor": 2
}
