{
 "cells": [
  {
   "cell_type": "markdown",
   "metadata": {},
   "source": [
    "# 26 July 2023\n"
   ]
  },
  {
   "cell_type": "code",
   "execution_count": 2,
   "metadata": {},
   "outputs": [
    {
     "name": "stdout",
     "output_type": "stream",
     "text": [
      "6\n",
      "-4\n",
      "1876\n",
      "1876\n",
      "2.5\n"
     ]
    }
   ],
   "source": [
    "print(1 + 3 * 2 - 5 + 4)\n",
    "print(1 + 3 * (2 - 5) + 4)\n",
    "print(5**2**2 * 3 + 1)\n",
    "print(5 ** (2**2) * 3 + 1)\n",
    "print(1 + 3 / 2)"
   ]
  },
  {
   "cell_type": "code",
   "execution_count": 3,
   "metadata": {},
   "outputs": [
    {
     "name": "stdout",
     "output_type": "stream",
     "text": [
      "100000.0\n",
      "3.1622776601683795\n",
      "Roots are 2.0 5.0\n",
      "2.082725740891852\n",
      "The area of a circle with a radius of 5.5 is 95.03317777109125\n",
      "0.5984721441039565\n",
      "Roots are (1-3j) (1-3j)\n",
      "4! is 24\n",
      "Summation is 7760\n",
      "Product is 10461394944000\n"
     ]
    }
   ],
   "source": [
    "import math\n",
    "\n",
    "print(math.pow(10, 5))\n",
    "print(math.sqrt(10))\n",
    "\n",
    "a = 1\n",
    "b = -7\n",
    "c = 10\n",
    "x1 = ((-1 * b) - (math.sqrt(math.pow(b, 2) - (4 * a * c)))) / (2 * a)\n",
    "x2 = ((-1 * b) + (math.sqrt(math.pow(b, 2) - (4 * a * c)))) / (2 * a)\n",
    "print(\"Roots are\", x1, x2)\n",
    "\n",
    "print(math.log2(2 + math.sqrt(5)))\n",
    "\n",
    "radius = 5.5\n",
    "print(\n",
    "    \"The area of a circle with a radius of\", radius, \"is\", math.pi * math.pow(radius, 2)\n",
    ")\n",
    "\n",
    "print(math.sin(2.5))\n",
    "\n",
    "import cmath\n",
    "\n",
    "a = 1\n",
    "b = -2\n",
    "c = 10\n",
    "ix1 = ((-1 * b) - (cmath.sqrt(math.pow(b, 2) - (4 * a * c)))) / (2 * a)\n",
    "ix2 = ((-1 * b) - (cmath.sqrt(math.pow(b, 2) - (4 * a * c)))) / (2 * a)\n",
    "print(\"Roots are\", ix1, ix2)\n",
    "\n",
    "print(\"4! is\", math.factorial(4))\n",
    "\n",
    "from functools import reduce\n",
    "\n",
    "print(\"Summation is\", reduce(lambda p, q: p + q, [k for k in range(32, 128 + 1)]))\n",
    "print(\"Product is\", reduce(lambda p, q: p * q, [k for k in range(3, 17)]))"
   ]
  },
  {
   "cell_type": "markdown",
   "metadata": {},
   "source": [
    "**Celsius to Fahrenheit**\n"
   ]
  },
  {
   "cell_type": "code",
   "execution_count": 4,
   "metadata": {},
   "outputs": [
    {
     "name": "stdout",
     "output_type": "stream",
     "text": [
      "33.0 °C is 91.4 °F\n"
     ]
    }
   ],
   "source": [
    "input_temperature = float(input(\"Temperatue in °C = \"))\n",
    "temperature_in_degree_farenheit = input_temperature * (9 / 5) + 32\n",
    "\n",
    "print(input_temperature, \"°C is\", temperature_in_degree_farenheit, \"°F\")"
   ]
  },
  {
   "cell_type": "markdown",
   "metadata": {},
   "source": [
    "**Fahrenheit ot Celsius**\n"
   ]
  },
  {
   "cell_type": "code",
   "execution_count": 5,
   "metadata": {},
   "outputs": [
    {
     "name": "stdout",
     "output_type": "stream",
     "text": [
      "110.0 °F is 43.333333333333336 °C\n"
     ]
    }
   ],
   "source": [
    "input_temperature = float(input(\"Temperatue in °F = \"))\n",
    "\n",
    "temperature_in_degree_celsius = (input_temperature - 32) * (5 / 9)\n",
    "\n",
    "print(input_temperature, \"°F is\", temperature_in_degree_celsius, \"°C\")"
   ]
  },
  {
   "cell_type": "markdown",
   "metadata": {},
   "source": [
    "**Meter to Foot**\n"
   ]
  },
  {
   "cell_type": "code",
   "execution_count": 6,
   "metadata": {},
   "outputs": [
    {
     "name": "stdout",
     "output_type": "stream",
     "text": [
      "10.0 Meter(s) is 32.81 Foot\n"
     ]
    }
   ],
   "source": [
    "input_length = float(input(\"Length in Meter = \"))\n",
    "length_in_foot = input_length * 3.281\n",
    "print(input_length, \"Meter(s) is\", length_in_foot, \"Foot\")"
   ]
  },
  {
   "cell_type": "markdown",
   "metadata": {},
   "source": [
    "**Foot to Meter**\n"
   ]
  },
  {
   "cell_type": "code",
   "execution_count": 7,
   "metadata": {},
   "outputs": [
    {
     "name": "stdout",
     "output_type": "stream",
     "text": [
      "6.0 Foot is 1.828710758914965 Meter\n"
     ]
    }
   ],
   "source": [
    "input_length = float(input(\"Length in Foot = \"))\n",
    "length_in_meter = input_length / 3.281\n",
    "print(input_length, \"Foot is\", length_in_meter, \"Meter\")"
   ]
  },
  {
   "cell_type": "markdown",
   "metadata": {},
   "source": [
    "**Acre to Square Meter**\n"
   ]
  },
  {
   "cell_type": "code",
   "execution_count": 8,
   "metadata": {},
   "outputs": [
    {
     "name": "stdout",
     "output_type": "stream",
     "text": [
      "6.0 Acre(s) is 404700.0 Square Meter(s)\n"
     ]
    }
   ],
   "source": [
    "input_area = float(input(\"Area in Acre = \"))\n",
    "area_in_square_meter = input_area * 4047\n",
    "print(input_length, \"Acre(s) is\", area_in_square_meter, \"Square Meter(s)\")"
   ]
  },
  {
   "cell_type": "markdown",
   "metadata": {},
   "source": [
    "**Square Meter to Acre**\n"
   ]
  },
  {
   "cell_type": "code",
   "execution_count": 9,
   "metadata": {},
   "outputs": [
    {
     "name": "stdout",
     "output_type": "stream",
     "text": [
      "6.0 Square Meter(s) is 0.24709661477637757 Acre(s)\n"
     ]
    }
   ],
   "source": [
    "input_area = float(input(\"Area in Square Meter = \"))\n",
    "area_in_acre = input_area / 4047\n",
    "print(input_length, \"Square Meter(s) is\", area_in_acre, \"Acre(s)\")"
   ]
  },
  {
   "cell_type": "markdown",
   "metadata": {},
   "source": [
    "**Pound to Kilogram**\n"
   ]
  },
  {
   "cell_type": "code",
   "execution_count": 10,
   "metadata": {},
   "outputs": [
    {
     "name": "stdout",
     "output_type": "stream",
     "text": [
      "7.0 Pound(s) is 3.1746031746031744 Kilogram(s)\n"
     ]
    }
   ],
   "source": [
    "input_mass = float(input(\"Mass in Pound = \"))\n",
    "mass_in_kilogram = input_mass / 2.205\n",
    "print(input_mass, \"Pound(s) is\", mass_in_kilogram, \"Kilogram(s)\")"
   ]
  },
  {
   "cell_type": "markdown",
   "metadata": {},
   "source": [
    "**Kilogram to Pound**\n"
   ]
  },
  {
   "cell_type": "code",
   "execution_count": 11,
   "metadata": {},
   "outputs": [
    {
     "name": "stdout",
     "output_type": "stream",
     "text": [
      "3.0 Kilogram(s) is 6.615 Pound(s)\n"
     ]
    }
   ],
   "source": [
    "input_mass = float(input(\"Mass in Kilogram = \"))\n",
    "mass_in_pound = input_mass * 2.205\n",
    "print(input_mass, \"Kilogram(s) is\", mass_in_pound, \"Pound(s)\")"
   ]
  },
  {
   "cell_type": "markdown",
   "metadata": {},
   "source": [
    "**John's Simple Interest**\n"
   ]
  },
  {
   "cell_type": "code",
   "execution_count": 12,
   "metadata": {},
   "outputs": [
    {
     "name": "stdout",
     "output_type": "stream",
     "text": [
      "John is getting an annual interest rate of 37.06444444444445\n"
     ]
    }
   ],
   "source": [
    "principal = 3000\n",
    "time_in_year = 3\n",
    "simple_interest = 3335.8\n",
    "\n",
    "interest_rate = (simple_interest * 100) / (principal * time_in_year)\n",
    "\n",
    "print(\"John is getting an annual interest rate of\", interest_rate)"
   ]
  },
  {
   "cell_type": "markdown",
   "metadata": {},
   "source": [
    "**`Heron's` Formula**\n"
   ]
  },
  {
   "cell_type": "code",
   "execution_count": 13,
   "metadata": {},
   "outputs": [
    {
     "name": "stdout",
     "output_type": "stream",
     "text": [
      "Area of a Triangle with sides (in Meter) 3 , 4 , and 6 is 5.332682251925386 Square Meter(s)\n"
     ]
    }
   ],
   "source": [
    "a = 3\n",
    "b = 4\n",
    "c = 6\n",
    "\n",
    "semi_perimeter = (a + b + c) / 2\n",
    "area_of_triangle = math.sqrt(\n",
    "    semi_perimeter * (semi_perimeter - a) * (semi_perimeter - b) * (semi_perimeter - c)\n",
    ")\n",
    "print(\n",
    "    \"Area of a Triangle with sides (in Meter)\",\n",
    "    a,\n",
    "    \",\",\n",
    "    b,\n",
    "    \", and\",\n",
    "    c,\n",
    "    \"is\",\n",
    "    area_of_triangle,\n",
    "    \"Square Meter(s)\",\n",
    ")"
   ]
  },
  {
   "cell_type": "markdown",
   "metadata": {},
   "source": [
    "**Random Number Guess**\n"
   ]
  },
  {
   "cell_type": "code",
   "execution_count": 14,
   "metadata": {},
   "outputs": [
    {
     "name": "stdout",
     "output_type": "stream",
     "text": [
      "Your guess is greater\n",
      "Your guess is smaller\n",
      "Your guess is smaller\n",
      "Your guess is smaller\n",
      "Your guess is smaller\n",
      "Your guess is greater\n",
      "Your guess is smaller\n",
      "Your guess is equal\n"
     ]
    }
   ],
   "source": [
    "import random\n",
    "\n",
    "guess_start = 1\n",
    "guess_stop = 100\n",
    "\n",
    "computed_guess = random.randint(guess_start, guess_stop)\n",
    "\n",
    "while True:\n",
    "    guess = int(input(\"Guess it? \"))\n",
    "    if guess > computed_guess:\n",
    "        print(\"Your guess is greater\")\n",
    "    elif guess < computed_guess:\n",
    "        print(\"Your guess is smaller\")\n",
    "    else:\n",
    "        print(\"Your guess is equal\")\n",
    "        break"
   ]
  },
  {
   "cell_type": "markdown",
   "metadata": {},
   "source": [
    "# 27 July 2023\n"
   ]
  },
  {
   "cell_type": "markdown",
   "metadata": {},
   "source": [
    "## Tuples\n",
    "\n",
    "> Mutability 👎\n"
   ]
  },
  {
   "cell_type": "code",
   "execution_count": 15,
   "metadata": {},
   "outputs": [
    {
     "name": "stdout",
     "output_type": "stream",
     "text": [
      "('Discrete Mathematics and Applications', 'Java: The complete reference')\n"
     ]
    }
   ],
   "source": [
    "books = (\n",
    "    \"ANSI C\",\n",
    "    \"Java: The complete reference\",\n",
    "    \"Discrete Mathematics and Applications\",\n",
    ")\n",
    "authors = (\"Brian Kernighan and Dennis Ritchie\", \"Herbert Schildt\", \"Kenneth H. Rosen\")\n",
    "language = (\"English\",)\n",
    "\n",
    "print(books[-1:-3:-1])"
   ]
  },
  {
   "cell_type": "markdown",
   "metadata": {},
   "source": [
    "`in` operator with a Tuple\n"
   ]
  },
  {
   "cell_type": "code",
   "execution_count": 16,
   "metadata": {},
   "outputs": [
    {
     "name": "stdout",
     "output_type": "stream",
     "text": [
      "True\n"
     ]
    },
    {
     "data": {
      "text/plain": [
       "0"
      ]
     },
     "execution_count": 16,
     "metadata": {},
     "output_type": "execute_result"
    }
   ],
   "source": [
    "print(\"ANSI C\" in books)\n",
    "books.index(\"ANSI C\")"
   ]
  },
  {
   "cell_type": "markdown",
   "metadata": {},
   "source": [
    "`id()` method\n"
   ]
  },
  {
   "cell_type": "code",
   "execution_count": 17,
   "metadata": {},
   "outputs": [
    {
     "data": {
      "text/plain": [
       "139962135801344"
      ]
     },
     "execution_count": 17,
     "metadata": {},
     "output_type": "execute_result"
    }
   ],
   "source": [
    "id(books)"
   ]
  },
  {
   "cell_type": "markdown",
   "metadata": {},
   "source": [
    "`del` operator\n"
   ]
  },
  {
   "cell_type": "code",
   "execution_count": 18,
   "metadata": {},
   "outputs": [
    {
     "ename": "NameError",
     "evalue": "name 'language' is not defined",
     "output_type": "error",
     "traceback": [
      "\u001b[0;31m---------------------------------------------------------------------------\u001b[0m",
      "\u001b[0;31mNameError\u001b[0m                                 Traceback (most recent call last)",
      "Cell \u001b[0;32mIn[18], line 3\u001b[0m\n\u001b[1;32m      1\u001b[0m \u001b[39mid\u001b[39m(language)\n\u001b[1;32m      2\u001b[0m \u001b[39mdel\u001b[39;00m language\n\u001b[0;32m----> 3\u001b[0m \u001b[39mid\u001b[39m(language)\n",
      "\u001b[0;31mNameError\u001b[0m: name 'language' is not defined"
     ]
    }
   ],
   "source": [
    "id(language)\n",
    "del language\n",
    "id(language)"
   ]
  },
  {
   "cell_type": "markdown",
   "metadata": {},
   "source": [
    "**Operators for a Tuple**\n",
    "| Operators | Description |\n",
    "| --------- | --------------- |\n",
    "| `+` | `Concatenation` |\n",
    "| `*` | `Repetition` |\n"
   ]
  },
  {
   "cell_type": "code",
   "execution_count": null,
   "metadata": {},
   "outputs": [],
   "source": [
    "print(books + authors)\n",
    "print(language * 3)"
   ]
  },
  {
   "cell_type": "markdown",
   "metadata": {},
   "source": [
    "`for` loop\n"
   ]
  },
  {
   "cell_type": "code",
   "execution_count": null,
   "metadata": {},
   "outputs": [],
   "source": [
    "sum = 0\n",
    "for x in tuple(range(10)):\n",
    "    sum += x\n",
    "print(\"Sum of first 10 whole numbers is\", sum)"
   ]
  },
  {
   "cell_type": "markdown",
   "metadata": {},
   "source": [
    "`range()` method\n",
    "\n",
    "> Creates a sequence\n"
   ]
  },
  {
   "cell_type": "code",
   "execution_count": null,
   "metadata": {},
   "outputs": [],
   "source": [
    "print(tuple(range(2, 100, 2)))"
   ]
  },
  {
   "cell_type": "markdown",
   "metadata": {},
   "source": [
    "**Tuple Unpacking**"
   ]
  },
  {
   "cell_type": "code",
   "execution_count": null,
   "metadata": {},
   "outputs": [
    {
     "ename": "NameError",
     "evalue": "name 'books' is not defined",
     "output_type": "error",
     "traceback": [
      "\u001b[0;31m---------------------------------------------------------------------------\u001b[0m",
      "\u001b[0;31mNameError\u001b[0m                                 Traceback (most recent call last)",
      "Cell \u001b[0;32mIn[23], line 1\u001b[0m\n\u001b[0;32m----> 1\u001b[0m \u001b[39mprint\u001b[39m(\u001b[39m*\u001b[39mbooks)\n",
      "\u001b[0;31mNameError\u001b[0m: name 'books' is not defined"
     ]
    }
   ],
   "source": [
    "print(*books)"
   ]
  },
  {
   "cell_type": "markdown",
   "metadata": {},
   "source": [
    "## List\n",
    "\n",
    "> Mutability 👍\n"
   ]
  },
  {
   "cell_type": "code",
   "execution_count": null,
   "metadata": {},
   "outputs": [],
   "source": [
    "alphabets = [chr(i) for i in range(ord(\"a\"), ord(\"z\"))]\n",
    "print(alphabets)"
   ]
  },
  {
   "cell_type": "markdown",
   "metadata": {},
   "source": [
    "Indexing and Slicing"
   ]
  },
  {
   "cell_type": "code",
   "execution_count": null,
   "metadata": {},
   "outputs": [],
   "source": [
    "print(alphabets[20])\n",
    "print(alphabets[0:6])\n",
    "print(alphabets[0:5:-1])"
   ]
  },
  {
   "cell_type": "markdown",
   "metadata": {},
   "source": [
    "```for``` loop"
   ]
  },
  {
   "cell_type": "code",
   "execution_count": null,
   "metadata": {},
   "outputs": [],
   "source": [
    "for alphabet in alphabets:\n",
    "    print(alphabet, end=\"\")"
   ]
  },
  {
   "cell_type": "markdown",
   "metadata": {},
   "source": [
    "```extend()``` method\n",
    "> Extends the list in-place with another ```iterable```\n",
    "\n",
    "> Returns ```None```"
   ]
  },
  {
   "cell_type": "code",
   "execution_count": null,
   "metadata": {},
   "outputs": [],
   "source": [
    "alphabets.extend(\"áàäéè\")\n",
    "print(alphabets)"
   ]
  },
  {
   "cell_type": "markdown",
   "metadata": {},
   "source": [
    "# 28 July 2023"
   ]
  },
  {
   "cell_type": "markdown",
   "metadata": {},
   "source": [
    "The ```def``` keyword"
   ]
  },
  {
   "cell_type": "code",
   "execution_count": null,
   "metadata": {},
   "outputs": [],
   "source": [
    "def greet(message):\n",
    "    print(message)\n",
    "    return message\n",
    "\n",
    "\n",
    "returned_message = greet(\"hello world\")\n",
    "print(returned_message)"
   ]
  },
  {
   "cell_type": "markdown",
   "metadata": {},
   "source": [
    "The ```*args``` and ```**kwargs``` keywords"
   ]
  },
  {
   "cell_type": "code",
   "execution_count": null,
   "metadata": {},
   "outputs": [],
   "source": [
    "def function(*args, **kwargs):\n",
    "    print(\"args is\", type(args))\n",
    "    print(\"kwargs is\", type(kwargs))\n",
    "\n",
    "\n",
    "function()"
   ]
  },
  {
   "cell_type": "code",
   "execution_count": null,
   "metadata": {},
   "outputs": [],
   "source": [
    "def sum(*args):\n",
    "    if args:\n",
    "        sum = 0\n",
    "        for arg in args:\n",
    "            sum += arg\n",
    "        return sum\n",
    "    else:\n",
    "        return None\n",
    "\n",
    "\n",
    "sum(*[x for x in range(10)])"
   ]
  },
  {
   "cell_type": "markdown",
   "metadata": {},
   "source": [
    "# 31 July 2023"
   ]
  },
  {
   "cell_type": "markdown",
   "metadata": {},
   "source": [
    "```lambda``` function\n",
    "\n",
    "> ```lambda comma_seprated_arguments: expression```\n",
    "\n",
    "> The ```expression``` is returned automatically to the caller"
   ]
  },
  {
   "cell_type": "code",
   "execution_count": null,
   "metadata": {},
   "outputs": [],
   "source": [
    "f = lambda x, y=0: x**y\n",
    "\n",
    "print(f(2, 3))\n",
    "print(f(3))"
   ]
  },
  {
   "cell_type": "code",
   "execution_count": null,
   "metadata": {},
   "outputs": [],
   "source": [
    "g = lambda x=0, y=0: x**3 + y**2 + 5\n",
    "\n",
    "print(g())\n",
    "print(g(1, 2))"
   ]
  },
  {
   "cell_type": "markdown",
   "metadata": {},
   "source": [
    "**List comprehension**"
   ]
  },
  {
   "cell_type": "code",
   "execution_count": null,
   "metadata": {},
   "outputs": [],
   "source": [
    "domain_name = \"Library Mangement System\"\n",
    "\n",
    "paragraph_on_domain = f\"A {domain_name} is a software that helps take the load \\\n",
    "off librarians and other library users. It does so by enabling them to \\\n",
    "digitally manage, organize and access the resources of a library like books, \\\n",
    "e-books, articles, journals, research papers, and such. It couples these along \\\n",
    "with OPAC, an Online Public Access Catalog allowing users to search for the \\\n",
    "resources in an efficient manner like filtering, sorting, etc.\\nAll of these \\\n",
    "and more elevate the efficiency and thereby the productivity of the librarians \\\n",
    "whilst simultaneously improving the user experince by bringing all of these on \\\n",
    "their palm.\"\n",
    "\n",
    "[print(x, end=\", \") for x in domain_name]"
   ]
  },
  {
   "cell_type": "code",
   "execution_count": null,
   "metadata": {},
   "outputs": [],
   "source": [
    "letters_in_domain_name = [letter for letter in domain_name]\n",
    "print(letters_in_domain_name)"
   ]
  },
  {
   "cell_type": "code",
   "execution_count": null,
   "metadata": {},
   "outputs": [],
   "source": [
    "vowels = [\"a\", \"e\", \"i\", \"o\", \"u\"]\n",
    "vowels_in_domain_name = [letter for letter in domain_name if letter in vowels]\n",
    "\n",
    "print(vowels_in_domain_name)"
   ]
  },
  {
   "cell_type": "code",
   "execution_count": null,
   "metadata": {},
   "outputs": [],
   "source": [
    "uppercase_letters_in_domain_name = [\n",
    "    letter for letter in domain_name if letter.isupper()\n",
    "]\n",
    "print(uppercase_letters_in_domain_name)"
   ]
  },
  {
   "cell_type": "code",
   "execution_count": null,
   "metadata": {},
   "outputs": [],
   "source": [
    "uppercase_domain_name = [\n",
    "    letter if letter.isupper() else letter.lower() for letter in domain_name\n",
    "]\n",
    "print(\"\".join(uppercase_domain_name))"
   ]
  },
  {
   "cell_type": "markdown",
   "metadata": {},
   "source": [
    "# 1 August 2023"
   ]
  },
  {
   "cell_type": "markdown",
   "metadata": {},
   "source": [
    "## ```Dictionary```\n",
    "\n",
    "> Mutability 👍"
   ]
  },
  {
   "cell_type": "code",
   "execution_count": 20,
   "metadata": {},
   "outputs": [
    {
     "name": "stdout",
     "output_type": "stream",
     "text": [
      "<class 'dict'>\n",
      "{'name': 'CHRIST UNIVERSITY', 'campus': 'Bangalore Central', 'deaneries': ['school of science', 'school of arts']}\n"
     ]
    }
   ],
   "source": [
    "university = {\n",
    "    \"name\": \"CHRIST UNIVERSITY\",\n",
    "    \"campus\": \"Bangalore Central\",\n",
    "    \"deaneries\": [\"school of science\", \"school of arts\"],\n",
    "}\n",
    "\n",
    "print(type(university))\n",
    "print(university)"
   ]
  },
  {
   "cell_type": "code",
   "execution_count": null,
   "metadata": {},
   "outputs": [
    {
     "name": "stdout",
     "output_type": "stream",
     "text": [
      "CHRIST UNIVERSITY\n",
      "Bangalore Central\n"
     ]
    }
   ],
   "source": [
    "print(university[\"name\"])\n",
    "print(university[\"campus\"])"
   ]
  },
  {
   "cell_type": "markdown",
   "metadata": {},
   "source": [
    "```get()``` method"
   ]
  },
  {
   "cell_type": "code",
   "execution_count": null,
   "metadata": {},
   "outputs": [
    {
     "name": "stdout",
     "output_type": "stream",
     "text": [
      "CHRIST UNIVERSITY\n",
      "None\n"
     ]
    }
   ],
   "source": [
    "print(university.get(\"name\"))\n",
    "print(university.get(\"names\"))"
   ]
  },
  {
   "cell_type": "markdown",
   "metadata": {},
   "source": [
    "```keys()``` method"
   ]
  },
  {
   "cell_type": "code",
   "execution_count": null,
   "metadata": {},
   "outputs": [
    {
     "data": {
      "text/plain": [
       "dict_keys(['name', 'campus', 'deaneries'])"
      ]
     },
     "execution_count": 10,
     "metadata": {},
     "output_type": "execute_result"
    }
   ],
   "source": [
    "university.keys()"
   ]
  },
  {
   "cell_type": "markdown",
   "metadata": {},
   "source": [
    "```id()```\n",
    "\n",
    "> ```id()``` gives the unique identification assigned to an object when it is created"
   ]
  },
  {
   "cell_type": "code",
   "execution_count": null,
   "metadata": {},
   "outputs": [
    {
     "name": "stdout",
     "output_type": "stream",
     "text": [
      "140050301240192\n"
     ]
    }
   ],
   "source": [
    "print(id(university))"
   ]
  },
  {
   "cell_type": "markdown",
   "metadata": {},
   "source": [
    "```update()``` method"
   ]
  },
  {
   "cell_type": "code",
   "execution_count": null,
   "metadata": {},
   "outputs": [
    {
     "name": "stdout",
     "output_type": "stream",
     "text": [
      "{'name': 'CHRIST UNIVERSITY', 'campus': 'Delhi NCR', 'deaneries': ['school of science', 'school of arts']}\n",
      "{'name': 'CHRIST UNIVERSITY', 'campus': 'Bangalore Central', 'deaneries': ['school of science', 'school of arts']}\n"
     ]
    }
   ],
   "source": [
    "university.update({\"campus\": \"Delhi NCR\"})\n",
    "print(university)\n",
    "\n",
    "university[\"campus\"] = \"Bangalore Central\"\n",
    "print(university)"
   ]
  },
  {
   "cell_type": "markdown",
   "metadata": {},
   "source": [
    "```values()``` method"
   ]
  },
  {
   "cell_type": "code",
   "execution_count": null,
   "metadata": {},
   "outputs": [
    {
     "name": "stdout",
     "output_type": "stream",
     "text": [
      "dict_values(['CHRIST UNIVERSITY', 'Bangalore Central', ['school of science', 'school of arts']])\n"
     ]
    }
   ],
   "source": [
    "print(university.values())"
   ]
  },
  {
   "cell_type": "markdown",
   "metadata": {},
   "source": [
    "```pop()``` method"
   ]
  },
  {
   "cell_type": "code",
   "execution_count": null,
   "metadata": {},
   "outputs": [
    {
     "name": "stdout",
     "output_type": "stream",
     "text": [
      "{'name': 'CHRIST UNIVERSITY', 'campus': 'Bangalore Central'}\n"
     ]
    }
   ],
   "source": [
    "university.pop(\"deaneries\")\n",
    "print(university)"
   ]
  },
  {
   "cell_type": "markdown",
   "metadata": {},
   "source": [
    "```del```"
   ]
  },
  {
   "cell_type": "code",
   "execution_count": null,
   "metadata": {},
   "outputs": [
    {
     "name": "stdout",
     "output_type": "stream",
     "text": [
      "{'name': 'CHRIST UNIVERSITY'}\n"
     ]
    },
    {
     "ename": "NameError",
     "evalue": "name 'university' is not defined",
     "output_type": "error",
     "traceback": [
      "\u001b[0;31m---------------------------------------------------------------------------\u001b[0m",
      "\u001b[0;31mNameError\u001b[0m                                 Traceback (most recent call last)",
      "Cell \u001b[0;32mIn[17], line 7\u001b[0m\n\u001b[1;32m      3\u001b[0m \u001b[39mprint\u001b[39m(university)\n\u001b[1;32m      5\u001b[0m \u001b[39mdel\u001b[39;00m university\n\u001b[0;32m----> 7\u001b[0m \u001b[39mid\u001b[39m(university)\n",
      "\u001b[0;31mNameError\u001b[0m: name 'university' is not defined"
     ]
    }
   ],
   "source": [
    "del university[\"campus\"]\n",
    "print(university)\n",
    "\n",
    "del university\n",
    "id(university)"
   ]
  },
  {
   "cell_type": "markdown",
   "metadata": {},
   "source": [
    "```for``` loop"
   ]
  },
  {
   "cell_type": "code",
   "execution_count": null,
   "metadata": {},
   "outputs": [
    {
     "name": "stdout",
     "output_type": "stream",
     "text": [
      "name\n",
      "campus\n",
      "deaneries\n",
      "CHRIST UNIVERSITY\n",
      "Bangalore Central\n",
      "['school of science', 'school of arts']\n"
     ]
    }
   ],
   "source": [
    "for x in university:\n",
    "    print(x)\n",
    "\n",
    "for x in university.values():\n",
    "    print(x)"
   ]
  },
  {
   "cell_type": "markdown",
   "metadata": {},
   "source": [
    "```items()``` method"
   ]
  },
  {
   "cell_type": "code",
   "execution_count": null,
   "metadata": {},
   "outputs": [
    {
     "name": "stdout",
     "output_type": "stream",
     "text": [
      "name CHRIST UNIVERSITY\n",
      "campus Bangalore Central\n",
      "deaneries ['school of science', 'school of arts']\n"
     ]
    }
   ],
   "source": [
    "for k, v in university.items():\n",
    "    print(k, v)"
   ]
  },
  {
   "cell_type": "markdown",
   "metadata": {},
   "source": [
    "```copy()``` method"
   ]
  },
  {
   "cell_type": "code",
   "execution_count": 22,
   "metadata": {},
   "outputs": [
    {
     "name": "stdout",
     "output_type": "stream",
     "text": [
      "{'name': 'CHRIST UNIVERSITY', 'campus': 'Bangalore Central', 'deaneries': ['school of science', 'school of arts']}\n",
      "False\n"
     ]
    }
   ],
   "source": [
    "copy_of_university = university.copy()\n",
    "print(copy_of_university)\n",
    "\n",
    "print(id(copy_of_university) == id(university))"
   ]
  },
  {
   "cell_type": "code",
   "execution_count": 21,
   "metadata": {},
   "outputs": [
    {
     "name": "stdout",
     "output_type": "stream",
     "text": [
      "CHRIST UNIVERSITY:Bangalore Central\n"
     ]
    }
   ],
   "source": [
    "def unpack(name, campus, deaneries):\n",
    "    print(name, campus, sep=\":\")\n",
    "\n",
    "\n",
    "unpack(**university)"
   ]
  }
 ],
 "metadata": {
  "kernelspec": {
   "display_name": "Python 3",
   "language": "python",
   "name": "python3"
  },
  "language_info": {
   "codemirror_mode": {
    "name": "ipython",
    "version": 3
   },
   "file_extension": ".py",
   "mimetype": "text/x-python",
   "name": "python",
   "nbconvert_exporter": "python",
   "pygments_lexer": "ipython3",
   "version": "3.10.12"
  },
  "orig_nbformat": 4
 },
 "nbformat": 4,
 "nbformat_minor": 2
}
