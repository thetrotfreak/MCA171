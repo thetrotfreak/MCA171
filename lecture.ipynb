{
 "cells": [
  {
   "cell_type": "markdown",
   "metadata": {},
   "source": [
    "# 26 July 2023\n"
   ]
  },
  {
   "cell_type": "code",
   "execution_count": 2,
   "metadata": {},
   "outputs": [
    {
     "name": "stdout",
     "output_type": "stream",
     "text": [
      "6\n",
      "-4\n",
      "1876\n",
      "1876\n",
      "2.5\n"
     ]
    }
   ],
   "source": [
    "print(1 + 3 * 2 - 5 + 4)\n",
    "print(1 + 3 * (2 - 5) + 4)\n",
    "print(5**2**2 * 3 + 1)\n",
    "print(5 ** (2**2) * 3 + 1)\n",
    "print(1 + 3 / 2)"
   ]
  },
  {
   "cell_type": "code",
   "execution_count": 3,
   "metadata": {},
   "outputs": [
    {
     "name": "stdout",
     "output_type": "stream",
     "text": [
      "100000.0\n",
      "3.1622776601683795\n",
      "Roots are 2.0 5.0\n",
      "2.082725740891852\n",
      "The area of a circle with a radius of 5.5 is 95.03317777109125\n",
      "0.5984721441039565\n",
      "Roots are (1-3j) (1-3j)\n",
      "4! is 24\n",
      "Summation is 7760\n",
      "Product is 10461394944000\n"
     ]
    }
   ],
   "source": [
    "import math\n",
    "\n",
    "print(math.pow(10, 5))\n",
    "print(math.sqrt(10))\n",
    "\n",
    "a = 1\n",
    "b = -7\n",
    "c = 10\n",
    "x1 = ((-1 * b) - (math.sqrt(math.pow(b, 2) - (4 * a * c)))) / (2 * a)\n",
    "x2 = ((-1 * b) + (math.sqrt(math.pow(b, 2) - (4 * a * c)))) / (2 * a)\n",
    "print(\"Roots are\", x1, x2)\n",
    "\n",
    "print(math.log2(2 + math.sqrt(5)))\n",
    "\n",
    "radius = 5.5\n",
    "print(\n",
    "    \"The area of a circle with a radius of\", radius, \"is\", math.pi * math.pow(radius, 2)\n",
    ")\n",
    "\n",
    "print(math.sin(2.5))\n",
    "\n",
    "import cmath\n",
    "\n",
    "a = 1\n",
    "b = -2\n",
    "c = 10\n",
    "ix1 = ((-1 * b) - (cmath.sqrt(math.pow(b, 2) - (4 * a * c)))) / (2 * a)\n",
    "ix2 = ((-1 * b) - (cmath.sqrt(math.pow(b, 2) - (4 * a * c)))) / (2 * a)\n",
    "print(\"Roots are\", ix1, ix2)\n",
    "\n",
    "print(\"4! is\", math.factorial(4))\n",
    "\n",
    "from functools import reduce\n",
    "\n",
    "print(\"Summation is\", reduce(lambda p, q: p + q, [k for k in range(32, 128 + 1)]))\n",
    "print(\"Product is\", reduce(lambda p, q: p * q, [k for k in range(3, 17)]))"
   ]
  },
  {
   "cell_type": "markdown",
   "metadata": {},
   "source": [
    "**Celsius to Fahrenheit**\n"
   ]
  },
  {
   "cell_type": "code",
   "execution_count": 4,
   "metadata": {},
   "outputs": [
    {
     "name": "stdout",
     "output_type": "stream",
     "text": [
      "33.0 °C is 91.4 °F\n"
     ]
    }
   ],
   "source": [
    "input_temperature = float(input(\"Temperatue in °C = \"))\n",
    "temperature_in_degree_farenheit = input_temperature * (9 / 5) + 32\n",
    "\n",
    "print(input_temperature, \"°C is\", temperature_in_degree_farenheit, \"°F\")"
   ]
  },
  {
   "cell_type": "markdown",
   "metadata": {},
   "source": [
    "**Fahrenheit ot Celsius**\n"
   ]
  },
  {
   "cell_type": "code",
   "execution_count": 5,
   "metadata": {},
   "outputs": [
    {
     "name": "stdout",
     "output_type": "stream",
     "text": [
      "110.0 °F is 43.333333333333336 °C\n"
     ]
    }
   ],
   "source": [
    "input_temperature = float(input(\"Temperatue in °F = \"))\n",
    "\n",
    "temperature_in_degree_celsius = (input_temperature - 32) * (5 / 9)\n",
    "\n",
    "print(input_temperature, \"°F is\", temperature_in_degree_celsius, \"°C\")"
   ]
  },
  {
   "cell_type": "markdown",
   "metadata": {},
   "source": [
    "**Meter to Foot**\n"
   ]
  },
  {
   "cell_type": "code",
   "execution_count": 6,
   "metadata": {},
   "outputs": [
    {
     "name": "stdout",
     "output_type": "stream",
     "text": [
      "10.0 Meter(s) is 32.81 Foot\n"
     ]
    }
   ],
   "source": [
    "input_length = float(input(\"Length in Meter = \"))\n",
    "length_in_foot = input_length * 3.281\n",
    "print(input_length, \"Meter(s) is\", length_in_foot, \"Foot\")"
   ]
  },
  {
   "cell_type": "markdown",
   "metadata": {},
   "source": [
    "**Foot to Meter**\n"
   ]
  },
  {
   "cell_type": "code",
   "execution_count": 7,
   "metadata": {},
   "outputs": [
    {
     "name": "stdout",
     "output_type": "stream",
     "text": [
      "6.0 Foot is 1.828710758914965 Meter\n"
     ]
    }
   ],
   "source": [
    "input_length = float(input(\"Length in Foot = \"))\n",
    "length_in_meter = input_length / 3.281\n",
    "print(input_length, \"Foot is\", length_in_meter, \"Meter\")"
   ]
  },
  {
   "cell_type": "markdown",
   "metadata": {},
   "source": [
    "**Acre to Square Meter**\n"
   ]
  },
  {
   "cell_type": "code",
   "execution_count": 8,
   "metadata": {},
   "outputs": [
    {
     "name": "stdout",
     "output_type": "stream",
     "text": [
      "6.0 Acre(s) is 404700.0 Square Meter(s)\n"
     ]
    }
   ],
   "source": [
    "input_area = float(input(\"Area in Acre = \"))\n",
    "area_in_square_meter = input_area * 4047\n",
    "print(input_length, \"Acre(s) is\", area_in_square_meter, \"Square Meter(s)\")"
   ]
  },
  {
   "cell_type": "markdown",
   "metadata": {},
   "source": [
    "**Square Meter to Acre**\n"
   ]
  },
  {
   "cell_type": "code",
   "execution_count": 9,
   "metadata": {},
   "outputs": [
    {
     "name": "stdout",
     "output_type": "stream",
     "text": [
      "6.0 Square Meter(s) is 0.24709661477637757 Acre(s)\n"
     ]
    }
   ],
   "source": [
    "input_area = float(input(\"Area in Square Meter = \"))\n",
    "area_in_acre = input_area / 4047\n",
    "print(input_length, \"Square Meter(s) is\", area_in_acre, \"Acre(s)\")"
   ]
  },
  {
   "cell_type": "markdown",
   "metadata": {},
   "source": [
    "**Pound to Kilogram**\n"
   ]
  },
  {
   "cell_type": "code",
   "execution_count": 10,
   "metadata": {},
   "outputs": [
    {
     "name": "stdout",
     "output_type": "stream",
     "text": [
      "7.0 Pound(s) is 3.1746031746031744 Kilogram(s)\n"
     ]
    }
   ],
   "source": [
    "input_mass = float(input(\"Mass in Pound = \"))\n",
    "mass_in_kilogram = input_mass / 2.205\n",
    "print(input_mass, \"Pound(s) is\", mass_in_kilogram, \"Kilogram(s)\")"
   ]
  },
  {
   "cell_type": "markdown",
   "metadata": {},
   "source": [
    "**Kilogram to Pound**\n"
   ]
  },
  {
   "cell_type": "code",
   "execution_count": 11,
   "metadata": {},
   "outputs": [
    {
     "name": "stdout",
     "output_type": "stream",
     "text": [
      "3.0 Kilogram(s) is 6.615 Pound(s)\n"
     ]
    }
   ],
   "source": [
    "input_mass = float(input(\"Mass in Kilogram = \"))\n",
    "mass_in_pound = input_mass * 2.205\n",
    "print(input_mass, \"Kilogram(s) is\", mass_in_pound, \"Pound(s)\")"
   ]
  },
  {
   "cell_type": "markdown",
   "metadata": {},
   "source": [
    "**John's Simple Interest**\n"
   ]
  },
  {
   "cell_type": "code",
   "execution_count": 12,
   "metadata": {},
   "outputs": [
    {
     "name": "stdout",
     "output_type": "stream",
     "text": [
      "John is getting an annual interest rate of 37.06444444444445\n"
     ]
    }
   ],
   "source": [
    "principal = 3000\n",
    "time_in_year = 3\n",
    "simple_interest = 3335.8\n",
    "\n",
    "interest_rate = (simple_interest * 100) / (principal * time_in_year)\n",
    "\n",
    "print(\"John is getting an annual interest rate of\", interest_rate)"
   ]
  },
  {
   "cell_type": "markdown",
   "metadata": {},
   "source": [
    "**`Heron's` Formula**\n"
   ]
  },
  {
   "cell_type": "code",
   "execution_count": 13,
   "metadata": {},
   "outputs": [
    {
     "name": "stdout",
     "output_type": "stream",
     "text": [
      "Area of a Triangle with sides (in Meter) 3 , 4 , and 6 is 5.332682251925386 Square Meter(s)\n"
     ]
    }
   ],
   "source": [
    "a = 3\n",
    "b = 4\n",
    "c = 6\n",
    "\n",
    "semi_perimeter = (a + b + c) / 2\n",
    "area_of_triangle = math.sqrt(\n",
    "    semi_perimeter * (semi_perimeter - a) * (semi_perimeter - b) * (semi_perimeter - c)\n",
    ")\n",
    "print(\n",
    "    \"Area of a Triangle with sides (in Meter)\",\n",
    "    a,\n",
    "    \",\",\n",
    "    b,\n",
    "    \", and\",\n",
    "    c,\n",
    "    \"is\",\n",
    "    area_of_triangle,\n",
    "    \"Square Meter(s)\",\n",
    ")"
   ]
  },
  {
   "cell_type": "markdown",
   "metadata": {},
   "source": [
    "**Random Number Guess**\n"
   ]
  },
  {
   "cell_type": "code",
   "execution_count": 14,
   "metadata": {},
   "outputs": [
    {
     "name": "stdout",
     "output_type": "stream",
     "text": [
      "Your guess is greater\n",
      "Your guess is smaller\n",
      "Your guess is smaller\n",
      "Your guess is smaller\n",
      "Your guess is smaller\n",
      "Your guess is greater\n",
      "Your guess is smaller\n",
      "Your guess is equal\n"
     ]
    }
   ],
   "source": [
    "import random\n",
    "\n",
    "guess_start = 1\n",
    "guess_stop = 100\n",
    "\n",
    "computed_guess = random.randint(guess_start, guess_stop)\n",
    "\n",
    "while True:\n",
    "    guess = int(input(\"Guess it? \"))\n",
    "    if guess > computed_guess:\n",
    "        print(\"Your guess is greater\")\n",
    "    elif guess < computed_guess:\n",
    "        print(\"Your guess is smaller\")\n",
    "    else:\n",
    "        print(\"Your guess is equal\")\n",
    "        break"
   ]
  },
  {
   "cell_type": "markdown",
   "metadata": {},
   "source": [
    "# 27 July 2023\n"
   ]
  },
  {
   "cell_type": "markdown",
   "metadata": {},
   "source": [
    "## Tuples\n",
    "\n",
    "> Mutability 👎\n"
   ]
  },
  {
   "cell_type": "code",
   "execution_count": 4,
   "metadata": {},
   "outputs": [
    {
     "name": "stdout",
     "output_type": "stream",
     "text": [
      "('Discrete Mathematics and Applications', 'Java: The complete reference')\n",
      "()\n"
     ]
    }
   ],
   "source": [
    "books = (\n",
    "    \"ANSI C\",\n",
    "    \"Java: The complete reference\",\n",
    "    \"Discrete Mathematics and Applications\",\n",
    ")\n",
    "authors = (\"Brian Kernighan and Dennis Ritchie\", \"Herbert Schildt\", \"Kenneth H. Rosen\")\n",
    "language = (\"English\",)\n",
    "\n",
    "print(books[-1:-3:-1])\n",
    "print(books[-1:-3:1])"
   ]
  },
  {
   "cell_type": "markdown",
   "metadata": {},
   "source": [
    "`in` operator with a Tuple\n"
   ]
  },
  {
   "cell_type": "code",
   "execution_count": 16,
   "metadata": {},
   "outputs": [
    {
     "name": "stdout",
     "output_type": "stream",
     "text": [
      "True\n"
     ]
    },
    {
     "data": {
      "text/plain": [
       "0"
      ]
     },
     "execution_count": 16,
     "metadata": {},
     "output_type": "execute_result"
    }
   ],
   "source": [
    "print(\"ANSI C\" in books)\n",
    "books.index(\"ANSI C\")"
   ]
  },
  {
   "cell_type": "markdown",
   "metadata": {},
   "source": [
    "`id()` method\n"
   ]
  },
  {
   "cell_type": "code",
   "execution_count": 17,
   "metadata": {},
   "outputs": [
    {
     "data": {
      "text/plain": [
       "139962135801344"
      ]
     },
     "execution_count": 17,
     "metadata": {},
     "output_type": "execute_result"
    }
   ],
   "source": [
    "id(books)"
   ]
  },
  {
   "cell_type": "markdown",
   "metadata": {},
   "source": [
    "`del` operator\n"
   ]
  },
  {
   "cell_type": "code",
   "execution_count": 18,
   "metadata": {},
   "outputs": [
    {
     "ename": "NameError",
     "evalue": "name 'language' is not defined",
     "output_type": "error",
     "traceback": [
      "\u001b[0;31m---------------------------------------------------------------------------\u001b[0m",
      "\u001b[0;31mNameError\u001b[0m                                 Traceback (most recent call last)",
      "Cell \u001b[0;32mIn[18], line 3\u001b[0m\n\u001b[1;32m      1\u001b[0m \u001b[39mid\u001b[39m(language)\n\u001b[1;32m      2\u001b[0m \u001b[39mdel\u001b[39;00m language\n\u001b[0;32m----> 3\u001b[0m \u001b[39mid\u001b[39m(language)\n",
      "\u001b[0;31mNameError\u001b[0m: name 'language' is not defined"
     ]
    }
   ],
   "source": [
    "id(language)\n",
    "del language\n",
    "id(language)"
   ]
  },
  {
   "cell_type": "markdown",
   "metadata": {},
   "source": [
    "**Operators for a Tuple**\n",
    "| Operators | Description |\n",
    "| --------- | --------------- |\n",
    "| `+` | `Concatenation` |\n",
    "| `*` | `Repetition` |\n"
   ]
  },
  {
   "cell_type": "code",
   "execution_count": null,
   "metadata": {},
   "outputs": [],
   "source": [
    "print(books + authors)\n",
    "print(language * 3)"
   ]
  },
  {
   "cell_type": "markdown",
   "metadata": {},
   "source": [
    "`for` loop\n"
   ]
  },
  {
   "cell_type": "code",
   "execution_count": null,
   "metadata": {},
   "outputs": [],
   "source": [
    "sum = 0\n",
    "for x in tuple(range(10)):\n",
    "    sum += x\n",
    "print(\"Sum of first 10 whole numbers is\", sum)"
   ]
  },
  {
   "cell_type": "markdown",
   "metadata": {},
   "source": [
    "`range()` method\n",
    "\n",
    "> Creates a sequence\n"
   ]
  },
  {
   "cell_type": "code",
   "execution_count": null,
   "metadata": {},
   "outputs": [],
   "source": [
    "print(tuple(range(2, 100, 2)))"
   ]
  },
  {
   "cell_type": "markdown",
   "metadata": {},
   "source": [
    "**Tuple Unpacking**\n"
   ]
  },
  {
   "cell_type": "code",
   "execution_count": null,
   "metadata": {},
   "outputs": [
    {
     "ename": "NameError",
     "evalue": "name 'books' is not defined",
     "output_type": "error",
     "traceback": [
      "\u001b[0;31m---------------------------------------------------------------------------\u001b[0m",
      "\u001b[0;31mNameError\u001b[0m                                 Traceback (most recent call last)",
      "Cell \u001b[0;32mIn[23], line 1\u001b[0m\n\u001b[0;32m----> 1\u001b[0m \u001b[39mprint\u001b[39m(\u001b[39m*\u001b[39mbooks)\n",
      "\u001b[0;31mNameError\u001b[0m: name 'books' is not defined"
     ]
    }
   ],
   "source": [
    "print(*books)"
   ]
  },
  {
   "cell_type": "markdown",
   "metadata": {},
   "source": [
    "## List\n",
    "\n",
    "> Mutability 👍\n"
   ]
  },
  {
   "cell_type": "code",
   "execution_count": null,
   "metadata": {},
   "outputs": [],
   "source": [
    "alphabets = [chr(i) for i in range(ord(\"a\"), ord(\"z\"))]\n",
    "print(alphabets)"
   ]
  },
  {
   "cell_type": "markdown",
   "metadata": {},
   "source": [
    "Indexing and Slicing\n"
   ]
  },
  {
   "cell_type": "code",
   "execution_count": null,
   "metadata": {},
   "outputs": [],
   "source": [
    "print(alphabets[20])\n",
    "print(alphabets[0:6])\n",
    "print(alphabets[0:5:-1])"
   ]
  },
  {
   "cell_type": "markdown",
   "metadata": {},
   "source": [
    "`for` loop\n"
   ]
  },
  {
   "cell_type": "code",
   "execution_count": null,
   "metadata": {},
   "outputs": [],
   "source": [
    "for alphabet in alphabets:\n",
    "    print(alphabet, end=\"\")"
   ]
  },
  {
   "cell_type": "markdown",
   "metadata": {},
   "source": [
    "`extend()` method\n",
    "\n",
    "> Extends the list in-place with another `iterable`\n",
    "\n",
    "> Returns `None`\n"
   ]
  },
  {
   "cell_type": "code",
   "execution_count": null,
   "metadata": {},
   "outputs": [],
   "source": [
    "alphabets.extend(\"áàäéè\")\n",
    "print(alphabets)"
   ]
  },
  {
   "cell_type": "markdown",
   "metadata": {},
   "source": [
    "# 28 July 2023\n"
   ]
  },
  {
   "cell_type": "markdown",
   "metadata": {},
   "source": [
    "The `def` keyword\n"
   ]
  },
  {
   "cell_type": "code",
   "execution_count": null,
   "metadata": {},
   "outputs": [],
   "source": [
    "def greet(message):\n",
    "    print(message)\n",
    "    return message\n",
    "\n",
    "\n",
    "returned_message = greet(\"hello world\")\n",
    "print(returned_message)"
   ]
  },
  {
   "cell_type": "markdown",
   "metadata": {},
   "source": [
    "The `*args` and `**kwargs` keywords\n"
   ]
  },
  {
   "cell_type": "code",
   "execution_count": null,
   "metadata": {},
   "outputs": [],
   "source": [
    "def function(*args, **kwargs):\n",
    "    print(\"args is\", type(args))\n",
    "    print(\"kwargs is\", type(kwargs))\n",
    "\n",
    "\n",
    "function()"
   ]
  },
  {
   "cell_type": "code",
   "execution_count": null,
   "metadata": {},
   "outputs": [],
   "source": [
    "def sum(*args):\n",
    "    if args:\n",
    "        sum = 0\n",
    "        for arg in args:\n",
    "            sum += arg\n",
    "        return sum\n",
    "    else:\n",
    "        return None\n",
    "\n",
    "\n",
    "sum(*[x for x in range(10)])"
   ]
  },
  {
   "cell_type": "markdown",
   "metadata": {},
   "source": [
    "# 31 July 2023\n"
   ]
  },
  {
   "cell_type": "markdown",
   "metadata": {},
   "source": [
    "`lambda` function\n",
    "\n",
    "> `lambda comma_seprated_arguments: expression`\n",
    "\n",
    "> The `expression` is returned automatically to the caller\n"
   ]
  },
  {
   "cell_type": "code",
   "execution_count": null,
   "metadata": {},
   "outputs": [],
   "source": [
    "f = lambda x, y=0: x**y\n",
    "\n",
    "print(f(2, 3))\n",
    "print(f(3))"
   ]
  },
  {
   "cell_type": "code",
   "execution_count": null,
   "metadata": {},
   "outputs": [],
   "source": [
    "g = lambda x=0, y=0: x**3 + y**2 + 5\n",
    "\n",
    "print(g())\n",
    "print(g(1, 2))"
   ]
  },
  {
   "cell_type": "markdown",
   "metadata": {},
   "source": [
    "**List comprehension**\n"
   ]
  },
  {
   "cell_type": "code",
   "execution_count": null,
   "metadata": {},
   "outputs": [],
   "source": [
    "domain_name = \"Library Mangement System\"\n",
    "\n",
    "paragraph_on_domain = f\"A {domain_name} is a software that helps take the load \\\n",
    "off librarians and other library users. It does so by enabling them to \\\n",
    "digitally manage, organize and access the resources of a library like books, \\\n",
    "e-books, articles, journals, research papers, and such. It couples these along \\\n",
    "with OPAC, an Online Public Access Catalog allowing users to search for the \\\n",
    "resources in an efficient manner like filtering, sorting, etc.\\nAll of these \\\n",
    "and more elevate the efficiency and thereby the productivity of the librarians \\\n",
    "whilst simultaneously improving the user experince by bringing all of these on \\\n",
    "their palm.\"\n",
    "\n",
    "[print(x, end=\", \") for x in domain_name]"
   ]
  },
  {
   "cell_type": "code",
   "execution_count": null,
   "metadata": {},
   "outputs": [],
   "source": [
    "letters_in_domain_name = [letter for letter in domain_name]\n",
    "print(letters_in_domain_name)"
   ]
  },
  {
   "cell_type": "code",
   "execution_count": null,
   "metadata": {},
   "outputs": [],
   "source": [
    "vowels = [\"a\", \"e\", \"i\", \"o\", \"u\"]\n",
    "vowels_in_domain_name = [letter for letter in domain_name if letter in vowels]\n",
    "\n",
    "print(vowels_in_domain_name)"
   ]
  },
  {
   "cell_type": "code",
   "execution_count": null,
   "metadata": {},
   "outputs": [],
   "source": [
    "uppercase_letters_in_domain_name = [\n",
    "    letter for letter in domain_name if letter.isupper()\n",
    "]\n",
    "print(uppercase_letters_in_domain_name)"
   ]
  },
  {
   "cell_type": "code",
   "execution_count": null,
   "metadata": {},
   "outputs": [],
   "source": [
    "uppercase_domain_name = [\n",
    "    letter if letter.isupper() else letter.lower() for letter in domain_name\n",
    "]\n",
    "print(\"\".join(uppercase_domain_name))"
   ]
  },
  {
   "cell_type": "markdown",
   "metadata": {},
   "source": [
    "# 1 August 2023\n"
   ]
  },
  {
   "cell_type": "markdown",
   "metadata": {},
   "source": [
    "## `Dictionary`\n",
    "\n",
    "> Mutability 👍\n"
   ]
  },
  {
   "cell_type": "code",
   "execution_count": 20,
   "metadata": {},
   "outputs": [
    {
     "name": "stdout",
     "output_type": "stream",
     "text": [
      "<class 'dict'>\n",
      "{'name': 'CHRIST UNIVERSITY', 'campus': 'Bangalore Central', 'deaneries': ['school of science', 'school of arts']}\n"
     ]
    }
   ],
   "source": [
    "university = {\n",
    "    \"name\": \"CHRIST UNIVERSITY\",\n",
    "    \"campus\": \"Bangalore Central\",\n",
    "    \"deaneries\": [\"school of science\", \"school of arts\"],\n",
    "}\n",
    "\n",
    "print(type(university))\n",
    "print(university)"
   ]
  },
  {
   "cell_type": "code",
   "execution_count": null,
   "metadata": {},
   "outputs": [
    {
     "name": "stdout",
     "output_type": "stream",
     "text": [
      "CHRIST UNIVERSITY\n",
      "Bangalore Central\n"
     ]
    }
   ],
   "source": [
    "print(university[\"name\"])\n",
    "print(university[\"campus\"])"
   ]
  },
  {
   "cell_type": "markdown",
   "metadata": {},
   "source": [
    "`get()` method\n"
   ]
  },
  {
   "cell_type": "code",
   "execution_count": null,
   "metadata": {},
   "outputs": [
    {
     "name": "stdout",
     "output_type": "stream",
     "text": [
      "CHRIST UNIVERSITY\n",
      "None\n"
     ]
    }
   ],
   "source": [
    "print(university.get(\"name\"))\n",
    "print(university.get(\"names\"))"
   ]
  },
  {
   "cell_type": "markdown",
   "metadata": {},
   "source": [
    "`keys()` method\n"
   ]
  },
  {
   "cell_type": "code",
   "execution_count": null,
   "metadata": {},
   "outputs": [
    {
     "data": {
      "text/plain": [
       "dict_keys(['name', 'campus', 'deaneries'])"
      ]
     },
     "execution_count": 10,
     "metadata": {},
     "output_type": "execute_result"
    }
   ],
   "source": [
    "university.keys()"
   ]
  },
  {
   "cell_type": "markdown",
   "metadata": {},
   "source": [
    "`id()`\n",
    "\n",
    "> `id()` gives the unique identification assigned to an object when it is created\n"
   ]
  },
  {
   "cell_type": "code",
   "execution_count": null,
   "metadata": {},
   "outputs": [
    {
     "name": "stdout",
     "output_type": "stream",
     "text": [
      "140050301240192\n"
     ]
    }
   ],
   "source": [
    "print(id(university))"
   ]
  },
  {
   "cell_type": "markdown",
   "metadata": {},
   "source": [
    "`update()` method\n"
   ]
  },
  {
   "cell_type": "code",
   "execution_count": null,
   "metadata": {},
   "outputs": [
    {
     "name": "stdout",
     "output_type": "stream",
     "text": [
      "{'name': 'CHRIST UNIVERSITY', 'campus': 'Delhi NCR', 'deaneries': ['school of science', 'school of arts']}\n",
      "{'name': 'CHRIST UNIVERSITY', 'campus': 'Bangalore Central', 'deaneries': ['school of science', 'school of arts']}\n"
     ]
    }
   ],
   "source": [
    "university.update({\"campus\": \"Delhi NCR\"})\n",
    "print(university)\n",
    "\n",
    "university[\"campus\"] = \"Bangalore Central\"\n",
    "print(university)"
   ]
  },
  {
   "cell_type": "markdown",
   "metadata": {},
   "source": [
    "`values()` method\n"
   ]
  },
  {
   "cell_type": "code",
   "execution_count": null,
   "metadata": {},
   "outputs": [
    {
     "name": "stdout",
     "output_type": "stream",
     "text": [
      "dict_values(['CHRIST UNIVERSITY', 'Bangalore Central', ['school of science', 'school of arts']])\n"
     ]
    }
   ],
   "source": [
    "print(university.values())"
   ]
  },
  {
   "cell_type": "markdown",
   "metadata": {},
   "source": [
    "`pop()` method\n"
   ]
  },
  {
   "cell_type": "code",
   "execution_count": null,
   "metadata": {},
   "outputs": [
    {
     "name": "stdout",
     "output_type": "stream",
     "text": [
      "{'name': 'CHRIST UNIVERSITY', 'campus': 'Bangalore Central'}\n"
     ]
    }
   ],
   "source": [
    "university.pop(\"deaneries\")\n",
    "print(university)"
   ]
  },
  {
   "cell_type": "markdown",
   "metadata": {},
   "source": [
    "`del`\n"
   ]
  },
  {
   "cell_type": "code",
   "execution_count": null,
   "metadata": {},
   "outputs": [
    {
     "name": "stdout",
     "output_type": "stream",
     "text": [
      "{'name': 'CHRIST UNIVERSITY'}\n"
     ]
    },
    {
     "ename": "NameError",
     "evalue": "name 'university' is not defined",
     "output_type": "error",
     "traceback": [
      "\u001b[0;31m---------------------------------------------------------------------------\u001b[0m",
      "\u001b[0;31mNameError\u001b[0m                                 Traceback (most recent call last)",
      "Cell \u001b[0;32mIn[17], line 7\u001b[0m\n\u001b[1;32m      3\u001b[0m \u001b[39mprint\u001b[39m(university)\n\u001b[1;32m      5\u001b[0m \u001b[39mdel\u001b[39;00m university\n\u001b[0;32m----> 7\u001b[0m \u001b[39mid\u001b[39m(university)\n",
      "\u001b[0;31mNameError\u001b[0m: name 'university' is not defined"
     ]
    }
   ],
   "source": [
    "del university[\"campus\"]\n",
    "print(university)\n",
    "\n",
    "del university\n",
    "id(university)"
   ]
  },
  {
   "cell_type": "markdown",
   "metadata": {},
   "source": [
    "`for` loop\n"
   ]
  },
  {
   "cell_type": "code",
   "execution_count": null,
   "metadata": {},
   "outputs": [
    {
     "name": "stdout",
     "output_type": "stream",
     "text": [
      "name\n",
      "campus\n",
      "deaneries\n",
      "CHRIST UNIVERSITY\n",
      "Bangalore Central\n",
      "['school of science', 'school of arts']\n"
     ]
    }
   ],
   "source": [
    "for x in university:\n",
    "    print(x)\n",
    "\n",
    "for x in university.values():\n",
    "    print(x)"
   ]
  },
  {
   "cell_type": "markdown",
   "metadata": {},
   "source": [
    "`items()` method\n"
   ]
  },
  {
   "cell_type": "code",
   "execution_count": null,
   "metadata": {},
   "outputs": [
    {
     "name": "stdout",
     "output_type": "stream",
     "text": [
      "name CHRIST UNIVERSITY\n",
      "campus Bangalore Central\n",
      "deaneries ['school of science', 'school of arts']\n"
     ]
    }
   ],
   "source": [
    "for k, v in university.items():\n",
    "    print(k, v)"
   ]
  },
  {
   "cell_type": "markdown",
   "metadata": {},
   "source": [
    "`copy()` method\n"
   ]
  },
  {
   "cell_type": "code",
   "execution_count": 22,
   "metadata": {},
   "outputs": [
    {
     "name": "stdout",
     "output_type": "stream",
     "text": [
      "{'name': 'CHRIST UNIVERSITY', 'campus': 'Bangalore Central', 'deaneries': ['school of science', 'school of arts']}\n",
      "False\n"
     ]
    }
   ],
   "source": [
    "copy_of_university = university.copy()\n",
    "print(copy_of_university)\n",
    "\n",
    "print(id(copy_of_university) == id(university))"
   ]
  },
  {
   "cell_type": "code",
   "execution_count": 21,
   "metadata": {},
   "outputs": [
    {
     "name": "stdout",
     "output_type": "stream",
     "text": [
      "CHRIST UNIVERSITY:Bangalore Central\n"
     ]
    }
   ],
   "source": [
    "def unpack(name, campus, deaneries):\n",
    "    print(name, campus, sep=\":\")\n",
    "\n",
    "\n",
    "unpack(**university)"
   ]
  },
  {
   "cell_type": "markdown",
   "metadata": {},
   "source": [
    "# 3 August 2023\n"
   ]
  },
  {
   "cell_type": "markdown",
   "metadata": {},
   "source": [
    "## `Set`\n",
    "\n",
    "> Mutability 👍\n"
   ]
  },
  {
   "cell_type": "code",
   "execution_count": 36,
   "metadata": {},
   "outputs": [
    {
     "name": "stdout",
     "output_type": "stream",
     "text": [
      "{'Discrete Mathematics and Applications', 'ANSI C', 'Java: The complete reference'}\n"
     ]
    }
   ],
   "source": [
    "books = set(books)\n",
    "\n",
    "print(books)"
   ]
  },
  {
   "cell_type": "markdown",
   "metadata": {},
   "source": [
    "`len()`\n"
   ]
  },
  {
   "cell_type": "code",
   "execution_count": 23,
   "metadata": {},
   "outputs": [
    {
     "name": "stdout",
     "output_type": "stream",
     "text": [
      "3\n"
     ]
    }
   ],
   "source": [
    "print(len(books))"
   ]
  },
  {
   "cell_type": "markdown",
   "metadata": {},
   "source": [
    "`add()` method\n"
   ]
  },
  {
   "cell_type": "code",
   "execution_count": 24,
   "metadata": {},
   "outputs": [
    {
     "name": "stdout",
     "output_type": "stream",
     "text": [
      "Updated books are\n",
      "{'Discrete Mathematics and Applications', 'ANSI C', 'Java: The complete reference', 'Headstart with Python'}\n"
     ]
    }
   ],
   "source": [
    "books.add(\"Headstart with Python\")\n",
    "print(\"Updated books are\", books, sep=\"\\n\")"
   ]
  },
  {
   "cell_type": "markdown",
   "metadata": {},
   "source": [
    "`update()` method\n"
   ]
  },
  {
   "cell_type": "code",
   "execution_count": 25,
   "metadata": {},
   "outputs": [
    {
     "name": "stdout",
     "output_type": "stream",
     "text": [
      "{'ANSI C', 'Java: The complete reference', 'Linux for System Administration', 'Discrete Mathematics and Applications', 'Database System Concepts', 'Headstart with Python'}\n"
     ]
    }
   ],
   "source": [
    "books.update([\"Database System Concepts\", \"Linux for System Administration\"])\n",
    "print(books)"
   ]
  },
  {
   "cell_type": "markdown",
   "metadata": {},
   "source": [
    "`remove(), discard(), pop()` method\n"
   ]
  },
  {
   "cell_type": "markdown",
   "metadata": {},
   "source": [
    "| Method      | Behaviour                                                                      |\n",
    "| ----------- | ------------------------------------------------------------------------------ |\n",
    "| `remove()`  | Throws `KeyError` if element is not found                                      |\n",
    "| `discard()` | Same as `remove()` but **fails silently**                                      |\n",
    "| `pop()`     | Remove and return element `1` in the set<br>Throws `KeyError` for an empty set |\n"
   ]
  },
  {
   "cell_type": "code",
   "execution_count": 39,
   "metadata": {},
   "outputs": [
    {
     "ename": "KeyError",
     "evalue": "'Headstart with Python'",
     "output_type": "error",
     "traceback": [
      "\u001b[0;31m---------------------------------------------------------------------------\u001b[0m",
      "\u001b[0;31mKeyError\u001b[0m                                  Traceback (most recent call last)",
      "Cell \u001b[0;32mIn[39], line 1\u001b[0m\n\u001b[0;32m----> 1\u001b[0m books\u001b[39m.\u001b[39;49mremove(\u001b[39m\"\u001b[39;49m\u001b[39mHeadstart with Python\u001b[39;49m\u001b[39m\"\u001b[39;49m)\n\u001b[1;32m      2\u001b[0m \u001b[39mprint\u001b[39m(books)\n\u001b[1;32m      4\u001b[0m books\u001b[39m.\u001b[39mdiscard(\u001b[39m\"\u001b[39m\u001b[39mHeadstart with Python\u001b[39m\u001b[39m\"\u001b[39m)\n",
      "\u001b[0;31mKeyError\u001b[0m: 'Headstart with Python'"
     ]
    }
   ],
   "source": [
    "books.remove(\"Headstart with Python\")\n",
    "print(books)\n",
    "\n",
    "books.discard(\"Headstart with Python\")\n",
    "print(books)\n",
    "\n",
    "print(\"Popped\", books.pop())"
   ]
  },
  {
   "cell_type": "markdown",
   "metadata": {},
   "source": [
    "[`all()`](https://docs.python.org/3/library/functions.html?highlight=all#all)\n",
    "[`any()`](https://docs.python.org/3/library/functions.html?highlight=any#any)\n"
   ]
  },
  {
   "cell_type": "code",
   "execution_count": 47,
   "metadata": {},
   "outputs": [
    {
     "name": "stdout",
     "output_type": "stream",
     "text": [
      "False\n",
      "True\n"
     ]
    }
   ],
   "source": [
    "i = [True, False]\n",
    "print(all(i))\n",
    "print(any(i))"
   ]
  },
  {
   "cell_type": "markdown",
   "metadata": {},
   "source": [
    "## `frozenset()`\n",
    "\n",
    "> Mutability 👎\n"
   ]
  },
  {
   "cell_type": "code",
   "execution_count": 52,
   "metadata": {},
   "outputs": [],
   "source": [
    "prices = frozenset([350, 1200, 849])\n",
    "copies = frozenset([150, 75, 350, 500])"
   ]
  },
  {
   "cell_type": "markdown",
   "metadata": {},
   "source": [
    "`union()` method\n"
   ]
  },
  {
   "cell_type": "code",
   "execution_count": 53,
   "metadata": {},
   "outputs": [
    {
     "name": "stdout",
     "output_type": "stream",
     "text": [
      "frozenset({1200, 849, 500, 150, 75, 350})\n"
     ]
    }
   ],
   "source": [
    "u = prices.union(copies)\n",
    "print(u)"
   ]
  },
  {
   "cell_type": "markdown",
   "metadata": {},
   "source": [
    "`interesection()` method\n"
   ]
  },
  {
   "cell_type": "code",
   "execution_count": 54,
   "metadata": {},
   "outputs": [
    {
     "name": "stdout",
     "output_type": "stream",
     "text": [
      "frozenset({350})\n"
     ]
    }
   ],
   "source": [
    "i = prices.intersection(copies)\n",
    "print(i)"
   ]
  },
  {
   "cell_type": "markdown",
   "metadata": {},
   "source": [
    "`difference()` method\n"
   ]
  },
  {
   "cell_type": "code",
   "execution_count": 55,
   "metadata": {},
   "outputs": [
    {
     "name": "stdout",
     "output_type": "stream",
     "text": [
      "frozenset({1200, 849})\n",
      "frozenset({75, 500, 150})\n"
     ]
    }
   ],
   "source": [
    "prices_d_copies = prices.difference(copies)\n",
    "print(prices_d_copies)\n",
    "\n",
    "copies_d_prices = copies.difference(prices)\n",
    "print(copies_d_prices)"
   ]
  },
  {
   "cell_type": "markdown",
   "metadata": {},
   "source": [
    "`symmetric_difference()` method\n"
   ]
  },
  {
   "cell_type": "code",
   "execution_count": 57,
   "metadata": {},
   "outputs": [
    {
     "data": {
      "text/plain": [
       "True"
      ]
     },
     "execution_count": 57,
     "metadata": {},
     "output_type": "execute_result"
    }
   ],
   "source": [
    "prices.symmetric_difference(copies) == copies.symmetric_difference(prices)"
   ]
  },
  {
   "cell_type": "markdown",
   "metadata": {},
   "source": [
    "# 4 August 2023\n"
   ]
  },
  {
   "cell_type": "code",
   "execution_count": null,
   "metadata": {},
   "outputs": [],
   "source": [
    "t = (1, 2, 3)\n",
    "l = list(t)\n",
    "s = set(t)\n",
    "d = {\"t\": t, \"l\": l, \"s\": s}"
   ]
  },
  {
   "cell_type": "markdown",
   "metadata": {},
   "source": [
    "## Number System\n",
    "\n",
    "> `Python3` follows the **Decimal Number System** by deafult\n"
   ]
  },
  {
   "cell_type": "markdown",
   "metadata": {},
   "source": [
    "### Binary\n",
    "\n",
    "> Binary number constants are prefixed with `0b`\n"
   ]
  },
  {
   "cell_type": "code",
   "execution_count": 1,
   "metadata": {},
   "outputs": [
    {
     "name": "stdout",
     "output_type": "stream",
     "text": [
      "2\n"
     ]
    }
   ],
   "source": [
    "binary_of_2 = 0b10\n",
    "print(binary_of_2)"
   ]
  },
  {
   "cell_type": "markdown",
   "metadata": {},
   "source": [
    "`bin()` function\n"
   ]
  },
  {
   "cell_type": "code",
   "execution_count": 1,
   "metadata": {},
   "outputs": [
    {
     "data": {
      "text/plain": [
       "'0b10'"
      ]
     },
     "execution_count": 1,
     "metadata": {},
     "output_type": "execute_result"
    }
   ],
   "source": [
    "bin(2)"
   ]
  },
  {
   "cell_type": "code",
   "execution_count": null,
   "metadata": {},
   "outputs": [],
   "source": [
    "a = 0b011\n",
    "b = 0b100\n",
    "\n",
    "print(f\"{a=}, {b=}\")"
   ]
  },
  {
   "cell_type": "markdown",
   "metadata": {},
   "source": [
    "### Octal\n",
    "\n",
    "> Octal number constants are prefixed with `0o`\n"
   ]
  },
  {
   "cell_type": "markdown",
   "metadata": {},
   "source": [
    "`oct()` function\n"
   ]
  },
  {
   "cell_type": "code",
   "execution_count": 2,
   "metadata": {},
   "outputs": [
    {
     "data": {
      "text/plain": [
       "'0o3'"
      ]
     },
     "execution_count": 2,
     "metadata": {},
     "output_type": "execute_result"
    }
   ],
   "source": [
    "oct(3)"
   ]
  },
  {
   "cell_type": "markdown",
   "metadata": {},
   "source": [
    "### Hexadecimal\n",
    "\n",
    "> Hexadecimal number constants are prefixed with `0x`\n"
   ]
  },
  {
   "cell_type": "markdown",
   "metadata": {},
   "source": [
    "`hex()` function\n"
   ]
  },
  {
   "cell_type": "code",
   "execution_count": 3,
   "metadata": {},
   "outputs": [
    {
     "data": {
      "text/plain": [
       "'0xb'"
      ]
     },
     "execution_count": 3,
     "metadata": {},
     "output_type": "execute_result"
    }
   ],
   "source": [
    "hex(11)"
   ]
  },
  {
   "cell_type": "markdown",
   "metadata": {},
   "source": [
    "## Module\n",
    "\n",
    "> A `.py` file is a `module` in **Python3**\n"
   ]
  },
  {
   "cell_type": "code",
   "execution_count": 16,
   "metadata": {},
   "outputs": [
    {
     "name": "stdout",
     "output_type": "stream",
     "text": [
      "Hey there! I'll help you find S.I\n",
      "Give me a couple of info first!\n",
      "Simple Interest comes out to be 900.00\n"
     ]
    }
   ],
   "source": [
    "import scratch\n",
    "\n",
    "print(\"Hey there! I'll help you find S.I\")\n",
    "print(\"Give me a couple of info first!\")\n",
    "\n",
    "pa = float(input(\"Principal Amount? \"))\n",
    "y = int(input(\"Time in Years? \"))\n",
    "r = float(input(\"Interest Rate? \"))\n",
    "si = scratch.simple_intereset(principal=pa, years=y, rate=r)\n",
    "\n",
    "print(\n",
    "    f\"Simple Interest comes out to be {si:.2f}\",\n",
    ")"
   ]
  },
  {
   "cell_type": "markdown",
   "metadata": {},
   "source": [
    "# 8 August 2023\n"
   ]
  },
  {
   "cell_type": "markdown",
   "metadata": {},
   "source": [
    "## Object Oriented Programming\n"
   ]
  },
  {
   "cell_type": "markdown",
   "metadata": {},
   "source": [
    "### `Class`\n"
   ]
  },
  {
   "cell_type": "code",
   "execution_count": 19,
   "metadata": {},
   "outputs": [
    {
     "name": "stdout",
     "output_type": "stream",
     "text": [
      "book1.__dict__ = {'name': 'Java The Complete Reference', 'price': '1200'}\n",
      "book2.__dict__ = {'title': 'The C Programming Language', 'author': 'Brian W. Kernighan'}\n"
     ]
    }
   ],
   "source": [
    "class Book:\n",
    "    pass\n",
    "\n",
    "\n",
    "book1 = Book()\n",
    "book1.name = \"Java The Complete Reference\"\n",
    "book1.price = 1200\n",
    "print(f\"{book1.__dict__ = }\")\n",
    "\n",
    "book2 = Book()\n",
    "book2.title = \"The C Programming Language\"\n",
    "book2.author = \"Brian W. Kernighan\"\n",
    "print(f\"{book2.__dict__ = }\")"
   ]
  },
  {
   "cell_type": "markdown",
   "metadata": {},
   "source": [
    "### `del`\n"
   ]
  },
  {
   "cell_type": "code",
   "execution_count": 22,
   "metadata": {},
   "outputs": [
    {
     "name": "stdout",
     "output_type": "stream",
     "text": [
      "book1.copies = 75\n"
     ]
    },
    {
     "ename": "AttributeError",
     "evalue": "'Book' object has no attribute 'copies'",
     "output_type": "error",
     "traceback": [
      "\u001b[0;31m---------------------------------------------------------------------------\u001b[0m",
      "\u001b[0;31mAttributeError\u001b[0m                            Traceback (most recent call last)",
      "Cell \u001b[0;32mIn[22], line 5\u001b[0m\n\u001b[1;32m      2\u001b[0m \u001b[39mprint\u001b[39m(\u001b[39mf\u001b[39m\u001b[39m\"\u001b[39m\u001b[39m{\u001b[39;00mbook1\u001b[39m.\u001b[39mcopies\u001b[39m \u001b[39m\u001b[39m= }\u001b[39;00m\u001b[39m\"\u001b[39m)\n\u001b[1;32m      4\u001b[0m \u001b[39mdel\u001b[39;00m book1\u001b[39m.\u001b[39mcopies\n\u001b[0;32m----> 5\u001b[0m \u001b[39mprint\u001b[39m(\u001b[39mf\u001b[39m\u001b[39m\"\u001b[39m\u001b[39m{\u001b[39;00mbook1\u001b[39m.\u001b[39;49mcopies\u001b[39m \u001b[39m\u001b[39m= }\u001b[39;00m\u001b[39m\"\u001b[39m)\n",
      "\u001b[0;31mAttributeError\u001b[0m: 'Book' object has no attribute 'copies'"
     ]
    }
   ],
   "source": [
    "book1.copies = 75\n",
    "print(f\"{book1.copies = }\")\n",
    "\n",
    "del book1.copies\n",
    "print(f\"{book1.copies = }\")"
   ]
  },
  {
   "cell_type": "markdown",
   "metadata": {},
   "source": [
    "### Methods and Constructors\n"
   ]
  },
  {
   "cell_type": "code",
   "execution_count": 87,
   "metadata": {},
   "outputs": [
    {
     "name": "stdout",
     "output_type": "stream",
     "text": [
      "Discrete Mathematics and Its Applications\n",
      "Data Structures and Algorithms\n"
     ]
    }
   ],
   "source": [
    "class Book:\n",
    "    def getTitle(self):\n",
    "        return self.title\n",
    "\n",
    "    def setTitle(self, title):\n",
    "        self.title = title\n",
    "\n",
    "    def copies(self, n):\n",
    "        self.copies += n\n",
    "\n",
    "\n",
    "some_book = Book()\n",
    "\n",
    "some_book.setTitle(\"Discrete Mathematics and Its Applications\")\n",
    "print(some_book.getTitle())\n",
    "\n",
    "Book.setTitle(some_book, \"Data Structures and Algorithms\")\n",
    "print(some_book.getTitle())"
   ]
  },
  {
   "cell_type": "markdown",
   "metadata": {},
   "source": [
    "### `__init__()`\n"
   ]
  },
  {
   "cell_type": "code",
   "execution_count": 88,
   "metadata": {},
   "outputs": [],
   "source": [
    "class Book:\n",
    "    \"\"\"This a Book class\"\"\"\n",
    "\n",
    "    __currency = \"\\u20B9\"\n",
    "    __count = 0\n",
    "\n",
    "    def __init__(self, title: str, author: [str], price: float) -> None:\n",
    "        self.title = title\n",
    "        self.author = author\n",
    "        self.price = price\n",
    "        self.copy = 1\n",
    "        Book.__count += 1\n",
    "        self.__index = Book.__count\n",
    "\n",
    "    def setcopy(self, copy: int):\n",
    "        self.copy = copy\n",
    "\n",
    "    def _format_author(self):\n",
    "        print()\n",
    "        return \", \".join(self.author)\n",
    "\n",
    "    def __str__(self) -> str:\n",
    "        return f\"---BOOK #{self.__index}---\\n{self.title}\\n~ {self._format_author()}\\n{Book.__currency} {self.price}\\n\""
   ]
  },
  {
   "cell_type": "markdown",
   "metadata": {},
   "source": [
    "### `__doc__`\n"
   ]
  },
  {
   "cell_type": "code",
   "execution_count": 89,
   "metadata": {},
   "outputs": [
    {
     "name": "stdout",
     "output_type": "stream",
     "text": [
      "This a Book class\n"
     ]
    }
   ],
   "source": [
    "print(Book.__doc__)"
   ]
  },
  {
   "cell_type": "markdown",
   "metadata": {},
   "source": [
    "### `__str___`\n"
   ]
  },
  {
   "cell_type": "code",
   "execution_count": 90,
   "metadata": {},
   "outputs": [
    {
     "name": "stdout",
     "output_type": "stream",
     "text": [
      "\n",
      "---BOOK #1---\n",
      "Head First Python\n",
      "~ Paul Barry, Rohit Tank\n",
      "₹ 1147.0\n",
      " \n",
      "---BOOK #2---\n",
      "Python Crash Course: A Hands-On, Project-Based Introduction To Programming\n",
      "~ Eric Mattnes\n",
      "₹ 2347.0\n",
      "\n"
     ]
    }
   ],
   "source": [
    "book1 = Book(\"Head First Python\", [\"Paul Barry\", \"Rohit Tank\"], 1_147.0)\n",
    "book2 = Book(\n",
    "    \"Python Crash Course: A Hands-On, Project-Based Introduction To Programming\",\n",
    "    [\"Eric Mattnes\"],\n",
    "    2347.0,\n",
    ")\n",
    "print(book1, book2)"
   ]
  }
 ],
 "metadata": {
  "kernelspec": {
   "display_name": "Python 3",
   "language": "python",
   "name": "python3"
  },
  "language_info": {
   "codemirror_mode": {
    "name": "ipython",
    "version": 3
   },
   "file_extension": ".py",
   "mimetype": "text/x-python",
   "name": "python",
   "nbconvert_exporter": "python",
   "pygments_lexer": "ipython3",
   "version": "3.10.12"
  },
  "orig_nbformat": 4
 },
 "nbformat": 4,
 "nbformat_minor": 2
}
